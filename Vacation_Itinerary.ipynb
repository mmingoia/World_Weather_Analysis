{
 "cells": [
  {
   "cell_type": "code",
   "execution_count": 1,
   "metadata": {},
   "outputs": [],
   "source": [
    "# Import the dependencies.\n",
    "import pandas as pd\n",
    "import gmaps\n",
    "import requests\n",
    "import os\n",
    "# Import the API key.\n",
    "from config import g_key\n",
    "# Configure gmaps to use your Google API key.\n",
    "gmaps.configure(api_key=g_key)# Import the dependencies.\n",
    "import pandas as pd\n",
    "import gmaps\n",
    "import requests\n",
    "import os\n",
    "# Import the API key.\n",
    "from config import g_key\n",
    "# Configure gmaps to use your Google API key.\n",
    "gmaps.configure(api_key=g_key)"
   ]
  },
  {
   "cell_type": "code",
   "execution_count": 2,
   "metadata": {},
   "outputs": [
    {
     "output_type": "execute_result",
     "data": {
      "text/plain": "             City Country    Lat     Lng  Max Temp  Humidity  Cloudiness  \\\nCity_ID                                                                    \n0          Bonfim      BR   3.08  -59.95     87.37        61          96   \n1        Victoria      HK  22.29  114.16     86.00        74         100   \n3        Manicore      BR  -5.81  -61.30     89.60        55          20   \n6         Aloleng      PH  16.13  119.78     82.74        80          99   \n7        Iracoubo      GF   5.48  -53.20     81.82        78          35   \n\n         Wind Speed Current Description  Rain (Inches)  Snow (Inches)  \\\nCity_ID                                                                 \n0              4.90          light rain            0.0            0.0   \n1             11.01     overcast clouds            0.0            0.0   \n3              5.82          few clouds            0.0            0.0   \n6              7.11          light rain            0.0            0.0   \n7              6.20          light rain            0.0            0.0   \n\n                        Date  \nCity_ID                       \n0        2020-07-09 20:21:58  \n1        2020-07-09 20:21:58  \n3        2020-07-09 20:21:58  \n6        2020-07-09 20:21:59  \n7        2020-07-09 20:21:59  ",
      "text/html": "<div>\n<style scoped>\n    .dataframe tbody tr th:only-of-type {\n        vertical-align: middle;\n    }\n\n    .dataframe tbody tr th {\n        vertical-align: top;\n    }\n\n    .dataframe thead th {\n        text-align: right;\n    }\n</style>\n<table border=\"1\" class=\"dataframe\">\n  <thead>\n    <tr style=\"text-align: right;\">\n      <th></th>\n      <th>City</th>\n      <th>Country</th>\n      <th>Lat</th>\n      <th>Lng</th>\n      <th>Max Temp</th>\n      <th>Humidity</th>\n      <th>Cloudiness</th>\n      <th>Wind Speed</th>\n      <th>Current Description</th>\n      <th>Rain (Inches)</th>\n      <th>Snow (Inches)</th>\n      <th>Date</th>\n    </tr>\n    <tr>\n      <th>City_ID</th>\n      <th></th>\n      <th></th>\n      <th></th>\n      <th></th>\n      <th></th>\n      <th></th>\n      <th></th>\n      <th></th>\n      <th></th>\n      <th></th>\n      <th></th>\n      <th></th>\n    </tr>\n  </thead>\n  <tbody>\n    <tr>\n      <th>0</th>\n      <td>Bonfim</td>\n      <td>BR</td>\n      <td>3.08</td>\n      <td>-59.95</td>\n      <td>87.37</td>\n      <td>61</td>\n      <td>96</td>\n      <td>4.90</td>\n      <td>light rain</td>\n      <td>0.0</td>\n      <td>0.0</td>\n      <td>2020-07-09 20:21:58</td>\n    </tr>\n    <tr>\n      <th>1</th>\n      <td>Victoria</td>\n      <td>HK</td>\n      <td>22.29</td>\n      <td>114.16</td>\n      <td>86.00</td>\n      <td>74</td>\n      <td>100</td>\n      <td>11.01</td>\n      <td>overcast clouds</td>\n      <td>0.0</td>\n      <td>0.0</td>\n      <td>2020-07-09 20:21:58</td>\n    </tr>\n    <tr>\n      <th>3</th>\n      <td>Manicore</td>\n      <td>BR</td>\n      <td>-5.81</td>\n      <td>-61.30</td>\n      <td>89.60</td>\n      <td>55</td>\n      <td>20</td>\n      <td>5.82</td>\n      <td>few clouds</td>\n      <td>0.0</td>\n      <td>0.0</td>\n      <td>2020-07-09 20:21:58</td>\n    </tr>\n    <tr>\n      <th>6</th>\n      <td>Aloleng</td>\n      <td>PH</td>\n      <td>16.13</td>\n      <td>119.78</td>\n      <td>82.74</td>\n      <td>80</td>\n      <td>99</td>\n      <td>7.11</td>\n      <td>light rain</td>\n      <td>0.0</td>\n      <td>0.0</td>\n      <td>2020-07-09 20:21:59</td>\n    </tr>\n    <tr>\n      <th>7</th>\n      <td>Iracoubo</td>\n      <td>GF</td>\n      <td>5.48</td>\n      <td>-53.20</td>\n      <td>81.82</td>\n      <td>78</td>\n      <td>35</td>\n      <td>6.20</td>\n      <td>light rain</td>\n      <td>0.0</td>\n      <td>0.0</td>\n      <td>2020-07-09 20:21:59</td>\n    </tr>\n  </tbody>\n</table>\n</div>"
     },
     "metadata": {},
     "execution_count": 2
    }
   ],
   "source": [
    "# Store the CSV you saved created in part one into a DataFrame.\n",
    "CityDataToLoad = os.path.join(\"data\",\"WeatherPy_database.csv\")\n",
    "city_data_df = pd.read_csv(CityDataToLoad)\n",
    "city_data_df = city_data_df.set_index(\"City_ID\")\n",
    "city_data_df.head()# Store the CSV you saved created in part two into a DataFrame.\n",
    "CityDataToLoad = os.path.join(\"data\",\"WeatherPy_vacation.csv\")\n",
    "city_data_df = pd.read_csv(CityDataToLoad)\n",
    "city_data_df = city_data_df.set_index(\"City_ID\")\n",
    "city_data_df.head()"
   ]
  },
  {
   "cell_type": "code",
   "execution_count": null,
   "metadata": {},
   "outputs": [],
   "source": []
  }
 ],
 "metadata": {
  "language_info": {
   "codemirror_mode": {
    "name": "ipython",
    "version": 3
   },
   "file_extension": ".py",
   "mimetype": "text/x-python",
   "name": "python",
   "nbconvert_exporter": "python",
   "pygments_lexer": "ipython3",
   "version": 3
  },
  "orig_nbformat": 2,
  "kernelspec": {
   "name": "python_defaultSpec_1594339371854",
   "display_name": "Python 3.7.7 64-bit ('PythonData': conda)"
  }
 },
 "nbformat": 4,
 "nbformat_minor": 2
}