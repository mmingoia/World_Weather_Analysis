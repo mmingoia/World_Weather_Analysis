{
 "cells": [
  {
   "cell_type": "code",
   "execution_count": 1,
   "metadata": {},
   "outputs": [],
   "source": [
    "# Import the dependencies.\n",
    "import pandas as pd\n",
    "import gmaps\n",
    "import requests\n",
    "import os\n",
    "# Import the API key.\n",
    "from config import g_key\n",
    "# Configure gmaps to use your Google API key.\n",
    "gmaps.configure(api_key=g_key)"
   ]
  },
  {
   "cell_type": "code",
   "execution_count": 2,
   "metadata": {},
   "outputs": [
    {
     "output_type": "execute_result",
     "data": {
      "text/plain": "   City_ID             City Country                 Date    Lat     Lng  \\\n0        0   Severo-Kurilsk      RU  2020-07-07 15:01:12  50.68  156.12   \n1        1           Cassia      BR  2020-07-07 15:01:12 -20.58  -46.92   \n2        2          Rikitea      PF  2020-07-07 15:01:12 -23.12 -134.97   \n3        3  Arraial Do Cabo      BR  2020-07-07 15:01:12 -22.97  -42.03   \n4        4       Georgetown      MY  2020-07-07 15:01:12   5.41  100.34   \n\n   Max Temp  Humidity  Cloudiness  Wind Speed  \n0     50.81        88           0        0.45  \n1     78.04        34           0        9.24  \n2     70.56        81          92       13.94  \n3     77.00        69          20        8.05  \n4     77.00        94          40        2.24  ",
      "text/html": "<div>\n<style scoped>\n    .dataframe tbody tr th:only-of-type {\n        vertical-align: middle;\n    }\n\n    .dataframe tbody tr th {\n        vertical-align: top;\n    }\n\n    .dataframe thead th {\n        text-align: right;\n    }\n</style>\n<table border=\"1\" class=\"dataframe\">\n  <thead>\n    <tr style=\"text-align: right;\">\n      <th></th>\n      <th>City_ID</th>\n      <th>City</th>\n      <th>Country</th>\n      <th>Date</th>\n      <th>Lat</th>\n      <th>Lng</th>\n      <th>Max Temp</th>\n      <th>Humidity</th>\n      <th>Cloudiness</th>\n      <th>Wind Speed</th>\n    </tr>\n  </thead>\n  <tbody>\n    <tr>\n      <th>0</th>\n      <td>0</td>\n      <td>Severo-Kurilsk</td>\n      <td>RU</td>\n      <td>2020-07-07 15:01:12</td>\n      <td>50.68</td>\n      <td>156.12</td>\n      <td>50.81</td>\n      <td>88</td>\n      <td>0</td>\n      <td>0.45</td>\n    </tr>\n    <tr>\n      <th>1</th>\n      <td>1</td>\n      <td>Cassia</td>\n      <td>BR</td>\n      <td>2020-07-07 15:01:12</td>\n      <td>-20.58</td>\n      <td>-46.92</td>\n      <td>78.04</td>\n      <td>34</td>\n      <td>0</td>\n      <td>9.24</td>\n    </tr>\n    <tr>\n      <th>2</th>\n      <td>2</td>\n      <td>Rikitea</td>\n      <td>PF</td>\n      <td>2020-07-07 15:01:12</td>\n      <td>-23.12</td>\n      <td>-134.97</td>\n      <td>70.56</td>\n      <td>81</td>\n      <td>92</td>\n      <td>13.94</td>\n    </tr>\n    <tr>\n      <th>3</th>\n      <td>3</td>\n      <td>Arraial Do Cabo</td>\n      <td>BR</td>\n      <td>2020-07-07 15:01:12</td>\n      <td>-22.97</td>\n      <td>-42.03</td>\n      <td>77.00</td>\n      <td>69</td>\n      <td>20</td>\n      <td>8.05</td>\n    </tr>\n    <tr>\n      <th>4</th>\n      <td>4</td>\n      <td>Georgetown</td>\n      <td>MY</td>\n      <td>2020-07-07 15:01:12</td>\n      <td>5.41</td>\n      <td>100.34</td>\n      <td>77.00</td>\n      <td>94</td>\n      <td>40</td>\n      <td>2.24</td>\n    </tr>\n  </tbody>\n</table>\n</div>"
     },
     "metadata": {},
     "execution_count": 2
    }
   ],
   "source": [
    "# Store the CSV you saved created in part one into a DataFrame.\n",
    "CityDataToLoad = os.path.join(\"weather_data\",\"cities.csv\")\n",
    "city_data_df = pd.read_csv(CityDataToLoad)\n",
    "city_data_df.head()"
   ]
  },
  {
   "cell_type": "code",
   "execution_count": 3,
   "metadata": {},
   "outputs": [
    {
     "output_type": "execute_result",
     "data": {
      "text/plain": "City_ID         int64\nCity           object\nCountry        object\nDate           object\nLat           float64\nLng           float64\nMax Temp      float64\nHumidity        int64\nCloudiness      int64\nWind Speed    float64\ndtype: object"
     },
     "metadata": {},
     "execution_count": 3
    }
   ],
   "source": [
    "city_data_df.dtypes"
   ]
  },
  {
   "cell_type": "code",
   "execution_count": 4,
   "metadata": {},
   "outputs": [],
   "source": [
    "# Get the maximum temperature.\n",
    "max_temp = city_data_df[\"Max Temp\"]\n",
    "temps = []\n",
    "for temp in max_temp:\n",
    "    temps.append(max(temp, 0))"
   ]
  },
  {
   "cell_type": "code",
   "execution_count": 24,
   "metadata": {},
   "outputs": [
    {
     "output_type": "display_data",
     "data": {
      "text/plain": "Figure(layout=FigureLayout(height='420px'))",
      "application/vnd.jupyter.widget-view+json": {
       "version_major": 2,
       "version_minor": 0,
       "model_id": "952b7fa58e914883a0465deb7af3eaa2"
      }
     },
     "metadata": {}
    }
   ],
   "source": [
    "# Heatmap of temperature\n",
    "# Get the latitude and longitude.\n",
    "locations = city_data_df[[\"Lat\", \"Lng\"]]\n",
    "# Get the maximum temperature.\n",
    "max_temp = city_data_df[\"Max Temp\"]\n",
    "# Assign the figure variable.\n",
    "fig = gmaps.figure(center=(30.0, 31.0), zoom_level=2)\n",
    "# Assign the heatmap variable.\n",
    "heat_layer = gmaps.heatmap_layer(locations, weights=temps, dissipating=False, max_intensity=300, point_radius=4)\n",
    "# Add the heatmap layer.\n",
    "fig.add_layer(heat_layer)\n",
    "# Call the figure to plot the data.\n",
    "fig"
   ]
  },
  {
   "cell_type": "code",
   "execution_count": 22,
   "metadata": {},
   "outputs": [
    {
     "output_type": "display_data",
     "data": {
      "text/plain": "Figure(layout=FigureLayout(height='420px'))",
      "application/vnd.jupyter.widget-view+json": {
       "version_major": 2,
       "version_minor": 0,
       "model_id": "f168492bf3d746eabd4d467bc9069832"
      }
     },
     "metadata": {}
    }
   ],
   "source": [
    "# Heatmap of percent humidity\n",
    "locations = city_data_df[[\"Lat\", \"Lng\"]]\n",
    "humidity = city_data_df[\"Humidity\"]\n",
    "fig = gmaps.figure(center=(30.0, 31.0), zoom_level=2)\n",
    "heat_layer = gmaps.heatmap_layer(locations, weights=humidity, dissipating=False, max_intensity=300, point_radius=4)\n",
    "\n",
    "fig.add_layer(heat_layer)\n",
    "# Call the figure to plot the data.\n",
    "fig"
   ]
  },
  {
   "cell_type": "code",
   "execution_count": 23,
   "metadata": {},
   "outputs": [
    {
     "output_type": "display_data",
     "data": {
      "text/plain": "Figure(layout=FigureLayout(height='420px'))",
      "application/vnd.jupyter.widget-view+json": {
       "version_major": 2,
       "version_minor": 0,
       "model_id": "b716040c34b541bfa891ed91457ce233"
      }
     },
     "metadata": {}
    }
   ],
   "source": [
    "# Heatmap of cloudiness\n",
    "locations = city_data_df[[\"Lat\", \"Lng\"]]\n",
    "clouds = city_data_df[\"Cloudiness\"]\n",
    "fig = gmaps.figure(center=(30.0, 31.0), zoom_level=2)\n",
    "heat_layer = gmaps.heatmap_layer(locations, weights=clouds, dissipating=False, max_intensity=300, point_radius=4)\n",
    "\n",
    "fig.add_layer(heat_layer)\n",
    "# Call the figure to plot the data.\n",
    "fig"
   ]
  },
  {
   "cell_type": "code",
   "execution_count": 25,
   "metadata": {},
   "outputs": [
    {
     "output_type": "display_data",
     "data": {
      "text/plain": "Figure(layout=FigureLayout(height='420px'))",
      "application/vnd.jupyter.widget-view+json": {
       "version_major": 2,
       "version_minor": 0,
       "model_id": "7a8c5b0acf904261b545a952e6841e80"
      }
     },
     "metadata": {}
    }
   ],
   "source": [
    "# Heatmap of Wind Speed\n",
    "locations = city_data_df[[\"Lat\", \"Lng\"]]\n",
    "wind = city_data_df[\"Wind Speed\"]\n",
    "fig = gmaps.figure(center=(30.0, 31.0), zoom_level=2)\n",
    "heat_layer = gmaps.heatmap_layer(locations, weights=wind, dissipating=False, max_intensity=300, point_radius=4)\n",
    "\n",
    "fig.add_layer(heat_layer)\n",
    "# Call the figure to plot the data.\n",
    "fig"
   ]
  },
  {
   "cell_type": "code",
   "execution_count": 26,
   "metadata": {},
   "outputs": [],
   "source": [
    "# Ask the customer to add a minimum and maximum temperature value.\n",
    "min_temp = float(input(\"What is the minimum temperature you would like for your trip? \"))\n",
    "max_temp = float(input(\"What is the maximum temperature you would like for your trip? \"))"
   ]
  },
  {
   "cell_type": "code",
   "execution_count": 27,
   "metadata": {},
   "outputs": [
    {
     "output_type": "execute_result",
     "data": {
      "text/plain": "    City_ID             City Country                 Date    Lat     Lng  \\\n1         1           Cassia      BR  2020-07-07 15:01:12 -20.58  -46.92   \n3         3  Arraial Do Cabo      BR  2020-07-07 15:01:12 -22.97  -42.03   \n4         4       Georgetown      MY  2020-07-07 15:01:12   5.41  100.34   \n6         6           Albany      US  2020-07-07 15:00:55  42.60  -73.97   \n10       10        Bathsheba      BB  2020-07-07 15:01:04  13.22  -59.52   \n15       15       Srivardhan      IN  2020-07-07 15:01:15  18.03   73.02   \n18       18        Hithadhoo      MV  2020-07-07 15:01:15  -0.60   73.08   \n25       25         Hamilton      US  2020-07-07 15:00:17  39.18  -84.53   \n29       29          Mayumba      GA  2020-07-07 15:01:18  -3.43   10.66   \n30       30        Jamestown      US  2020-07-07 14:59:34  42.10  -79.24   \n\n    Max Temp  Humidity  Cloudiness  Wind Speed  \n1      78.04        34           0        9.24  \n3      77.00        69          20        8.05  \n4      77.00        94          40        2.24  \n6      77.00        65          89        1.99  \n10     86.00        74          75       11.41  \n15     81.70        84         100       15.32  \n18     84.60        75          86       11.90  \n25     84.99        65           1        2.93  \n29     76.17        78          89        6.71  \n30     78.01        65           1        6.93  ",
      "text/html": "<div>\n<style scoped>\n    .dataframe tbody tr th:only-of-type {\n        vertical-align: middle;\n    }\n\n    .dataframe tbody tr th {\n        vertical-align: top;\n    }\n\n    .dataframe thead th {\n        text-align: right;\n    }\n</style>\n<table border=\"1\" class=\"dataframe\">\n  <thead>\n    <tr style=\"text-align: right;\">\n      <th></th>\n      <th>City_ID</th>\n      <th>City</th>\n      <th>Country</th>\n      <th>Date</th>\n      <th>Lat</th>\n      <th>Lng</th>\n      <th>Max Temp</th>\n      <th>Humidity</th>\n      <th>Cloudiness</th>\n      <th>Wind Speed</th>\n    </tr>\n  </thead>\n  <tbody>\n    <tr>\n      <th>1</th>\n      <td>1</td>\n      <td>Cassia</td>\n      <td>BR</td>\n      <td>2020-07-07 15:01:12</td>\n      <td>-20.58</td>\n      <td>-46.92</td>\n      <td>78.04</td>\n      <td>34</td>\n      <td>0</td>\n      <td>9.24</td>\n    </tr>\n    <tr>\n      <th>3</th>\n      <td>3</td>\n      <td>Arraial Do Cabo</td>\n      <td>BR</td>\n      <td>2020-07-07 15:01:12</td>\n      <td>-22.97</td>\n      <td>-42.03</td>\n      <td>77.00</td>\n      <td>69</td>\n      <td>20</td>\n      <td>8.05</td>\n    </tr>\n    <tr>\n      <th>4</th>\n      <td>4</td>\n      <td>Georgetown</td>\n      <td>MY</td>\n      <td>2020-07-07 15:01:12</td>\n      <td>5.41</td>\n      <td>100.34</td>\n      <td>77.00</td>\n      <td>94</td>\n      <td>40</td>\n      <td>2.24</td>\n    </tr>\n    <tr>\n      <th>6</th>\n      <td>6</td>\n      <td>Albany</td>\n      <td>US</td>\n      <td>2020-07-07 15:00:55</td>\n      <td>42.60</td>\n      <td>-73.97</td>\n      <td>77.00</td>\n      <td>65</td>\n      <td>89</td>\n      <td>1.99</td>\n    </tr>\n    <tr>\n      <th>10</th>\n      <td>10</td>\n      <td>Bathsheba</td>\n      <td>BB</td>\n      <td>2020-07-07 15:01:04</td>\n      <td>13.22</td>\n      <td>-59.52</td>\n      <td>86.00</td>\n      <td>74</td>\n      <td>75</td>\n      <td>11.41</td>\n    </tr>\n    <tr>\n      <th>15</th>\n      <td>15</td>\n      <td>Srivardhan</td>\n      <td>IN</td>\n      <td>2020-07-07 15:01:15</td>\n      <td>18.03</td>\n      <td>73.02</td>\n      <td>81.70</td>\n      <td>84</td>\n      <td>100</td>\n      <td>15.32</td>\n    </tr>\n    <tr>\n      <th>18</th>\n      <td>18</td>\n      <td>Hithadhoo</td>\n      <td>MV</td>\n      <td>2020-07-07 15:01:15</td>\n      <td>-0.60</td>\n      <td>73.08</td>\n      <td>84.60</td>\n      <td>75</td>\n      <td>86</td>\n      <td>11.90</td>\n    </tr>\n    <tr>\n      <th>25</th>\n      <td>25</td>\n      <td>Hamilton</td>\n      <td>US</td>\n      <td>2020-07-07 15:00:17</td>\n      <td>39.18</td>\n      <td>-84.53</td>\n      <td>84.99</td>\n      <td>65</td>\n      <td>1</td>\n      <td>2.93</td>\n    </tr>\n    <tr>\n      <th>29</th>\n      <td>29</td>\n      <td>Mayumba</td>\n      <td>GA</td>\n      <td>2020-07-07 15:01:18</td>\n      <td>-3.43</td>\n      <td>10.66</td>\n      <td>76.17</td>\n      <td>78</td>\n      <td>89</td>\n      <td>6.71</td>\n    </tr>\n    <tr>\n      <th>30</th>\n      <td>30</td>\n      <td>Jamestown</td>\n      <td>US</td>\n      <td>2020-07-07 14:59:34</td>\n      <td>42.10</td>\n      <td>-79.24</td>\n      <td>78.01</td>\n      <td>65</td>\n      <td>1</td>\n      <td>6.93</td>\n    </tr>\n  </tbody>\n</table>\n</div>"
     },
     "metadata": {},
     "execution_count": 27
    }
   ],
   "source": [
    "# Filter the dataset to find the cities that fit the criteria.\n",
    "preferred_cities_df = city_data_df.loc[(city_data_df[\"Max Temp\"] <= max_temp) & \\\n",
    "                                       (city_data_df[\"Max Temp\"] >= min_temp)]\n",
    "preferred_cities_df.head(10)"
   ]
  },
  {
   "cell_type": "code",
   "execution_count": 28,
   "metadata": {},
   "outputs": [
    {
     "output_type": "execute_result",
     "data": {
      "text/plain": "City_ID       224\nCity          224\nCountry       221\nDate          224\nLat           224\nLng           224\nMax Temp      224\nHumidity      224\nCloudiness    224\nWind Speed    224\ndtype: int64"
     },
     "metadata": {},
     "execution_count": 28
    }
   ],
   "source": [
    "preferred_cities_df.count()"
   ]
  },
  {
   "cell_type": "code",
   "execution_count": 29,
   "metadata": {},
   "outputs": [
    {
     "output_type": "execute_result",
     "data": {
      "text/plain": "               City Country  Max Temp    Lat     Lng Hotel Name\n1            Cassia      BR     78.04 -20.58  -46.92           \n3   Arraial Do Cabo      BR     77.00 -22.97  -42.03           \n4        Georgetown      MY     77.00   5.41  100.34           \n6            Albany      US     77.00  42.60  -73.97           \n10        Bathsheba      BB     86.00  13.22  -59.52           \n15       Srivardhan      IN     81.70  18.03   73.02           \n18        Hithadhoo      MV     84.60  -0.60   73.08           \n25         Hamilton      US     84.99  39.18  -84.53           \n29          Mayumba      GA     76.17  -3.43   10.66           \n30        Jamestown      US     78.01  42.10  -79.24           ",
      "text/html": "<div>\n<style scoped>\n    .dataframe tbody tr th:only-of-type {\n        vertical-align: middle;\n    }\n\n    .dataframe tbody tr th {\n        vertical-align: top;\n    }\n\n    .dataframe thead th {\n        text-align: right;\n    }\n</style>\n<table border=\"1\" class=\"dataframe\">\n  <thead>\n    <tr style=\"text-align: right;\">\n      <th></th>\n      <th>City</th>\n      <th>Country</th>\n      <th>Max Temp</th>\n      <th>Lat</th>\n      <th>Lng</th>\n      <th>Hotel Name</th>\n    </tr>\n  </thead>\n  <tbody>\n    <tr>\n      <th>1</th>\n      <td>Cassia</td>\n      <td>BR</td>\n      <td>78.04</td>\n      <td>-20.58</td>\n      <td>-46.92</td>\n      <td></td>\n    </tr>\n    <tr>\n      <th>3</th>\n      <td>Arraial Do Cabo</td>\n      <td>BR</td>\n      <td>77.00</td>\n      <td>-22.97</td>\n      <td>-42.03</td>\n      <td></td>\n    </tr>\n    <tr>\n      <th>4</th>\n      <td>Georgetown</td>\n      <td>MY</td>\n      <td>77.00</td>\n      <td>5.41</td>\n      <td>100.34</td>\n      <td></td>\n    </tr>\n    <tr>\n      <th>6</th>\n      <td>Albany</td>\n      <td>US</td>\n      <td>77.00</td>\n      <td>42.60</td>\n      <td>-73.97</td>\n      <td></td>\n    </tr>\n    <tr>\n      <th>10</th>\n      <td>Bathsheba</td>\n      <td>BB</td>\n      <td>86.00</td>\n      <td>13.22</td>\n      <td>-59.52</td>\n      <td></td>\n    </tr>\n    <tr>\n      <th>15</th>\n      <td>Srivardhan</td>\n      <td>IN</td>\n      <td>81.70</td>\n      <td>18.03</td>\n      <td>73.02</td>\n      <td></td>\n    </tr>\n    <tr>\n      <th>18</th>\n      <td>Hithadhoo</td>\n      <td>MV</td>\n      <td>84.60</td>\n      <td>-0.60</td>\n      <td>73.08</td>\n      <td></td>\n    </tr>\n    <tr>\n      <th>25</th>\n      <td>Hamilton</td>\n      <td>US</td>\n      <td>84.99</td>\n      <td>39.18</td>\n      <td>-84.53</td>\n      <td></td>\n    </tr>\n    <tr>\n      <th>29</th>\n      <td>Mayumba</td>\n      <td>GA</td>\n      <td>76.17</td>\n      <td>-3.43</td>\n      <td>10.66</td>\n      <td></td>\n    </tr>\n    <tr>\n      <th>30</th>\n      <td>Jamestown</td>\n      <td>US</td>\n      <td>78.01</td>\n      <td>42.10</td>\n      <td>-79.24</td>\n      <td></td>\n    </tr>\n  </tbody>\n</table>\n</div>"
     },
     "metadata": {},
     "execution_count": 29
    }
   ],
   "source": [
    "# Create DataFrame called hotel_df to store hotel names along with city, country, max temp, and coordinates.\n",
    "hotel_df = preferred_cities_df[[\"City\", \"Country\", \"Max Temp\", \"Lat\", \"Lng\"]].copy()\n",
    "hotel_df[\"Hotel Name\"] = \"\"\n",
    "hotel_df.head(10)"
   ]
  },
  {
   "cell_type": "code",
   "execution_count": 30,
   "metadata": {},
   "outputs": [],
   "source": [
    "# Set parameters to search for a hotel.\n",
    "params = {\n",
    "    \"radius\": 5000,\n",
    "    \"type\": \"lodging\",\n",
    "    \"key\": g_key\n",
    "}"
   ]
  },
  {
   "cell_type": "code",
   "execution_count": 31,
   "metadata": {
    "tags": []
   },
   "outputs": [
    {
     "output_type": "stream",
     "name": "stdout",
     "text": "Hotel not found... skipping.\nHotel not found... skipping.\nHotel not found... skipping.\nHotel not found... skipping.\nHotel not found... skipping.\nHotel not found... skipping.\nHotel not found... skipping.\nHotel not found... skipping.\nHotel not found... skipping.\nHotel not found... skipping.\nHotel not found... skipping.\nHotel not found... skipping.\nHotel not found... skipping.\nHotel not found... skipping.\nHotel not found... skipping.\nHotel not found... skipping.\nHotel not found... skipping.\nHotel not found... skipping.\nHotel not found... skipping.\nHotel not found... skipping.\nHotel not found... skipping.\nHotel not found... skipping.\n"
    }
   ],
   "source": [
    "# Iterate through the DataFrame.\n",
    "for index, row in hotel_df.iterrows():\n",
    "    # Get the latitude and longitude.\n",
    "    lat = row[\"Lat\"]\n",
    "    lng = row[\"Lng\"]\n",
    "\n",
    "    # Add the latitude and longitude to location key for the params dictionary.\n",
    "    params[\"location\"] = f\"{lat},{lng}\"\n",
    "\n",
    "    # Use the search term: \"lodging\" and our latitude and longitude.\n",
    "    base_url = \"https://maps.googleapis.com/maps/api/place/nearbysearch/json\"\n",
    "    # Make request and get the JSON data from the search.\n",
    "    hotels = requests.get(base_url, params=params).json()\n",
    "    # Grab the first hotel from the results and store the name.\n",
    "    try:\n",
    "        hotel_df.loc[index, \"Hotel Name\"] = hotels[\"results\"][0][\"name\"]\n",
    "    except (IndexError):\n",
    "        print(\"Hotel not found... skipping.\")"
   ]
  },
  {
   "cell_type": "code",
   "execution_count": 32,
   "metadata": {},
   "outputs": [
    {
     "output_type": "execute_result",
     "data": {
      "text/plain": "               City Country  Max Temp    Lat     Lng  \\\n1            Cassia      BR     78.04 -20.58  -46.92   \n3   Arraial Do Cabo      BR     77.00 -22.97  -42.03   \n4        Georgetown      MY     77.00   5.41  100.34   \n6            Albany      US     77.00  42.60  -73.97   \n10        Bathsheba      BB     86.00  13.22  -59.52   \n15       Srivardhan      IN     81.70  18.03   73.02   \n18        Hithadhoo      MV     84.60  -0.60   73.08   \n25         Hamilton      US     84.99  39.18  -84.53   \n29          Mayumba      GA     76.17  -3.43   10.66   \n30        Jamestown      US     78.01  42.10  -79.24   \n\n                                 Hotel Name  \n1   Hotel Ancora e Restaurante de Cassia MG  \n3                       Pousada Porto Praia  \n4                            Cititel Penang  \n6                                            \n10                           Atlantis Hotel  \n15         Savli Resort/Hotel - Shrivardhan  \n18                        Scoop Guest House  \n25                Six Acres Bed & Breakfast  \n29                            LIKWALE LODGE  \n30           Hampton Inn & Suites Jamestown  ",
      "text/html": "<div>\n<style scoped>\n    .dataframe tbody tr th:only-of-type {\n        vertical-align: middle;\n    }\n\n    .dataframe tbody tr th {\n        vertical-align: top;\n    }\n\n    .dataframe thead th {\n        text-align: right;\n    }\n</style>\n<table border=\"1\" class=\"dataframe\">\n  <thead>\n    <tr style=\"text-align: right;\">\n      <th></th>\n      <th>City</th>\n      <th>Country</th>\n      <th>Max Temp</th>\n      <th>Lat</th>\n      <th>Lng</th>\n      <th>Hotel Name</th>\n    </tr>\n  </thead>\n  <tbody>\n    <tr>\n      <th>1</th>\n      <td>Cassia</td>\n      <td>BR</td>\n      <td>78.04</td>\n      <td>-20.58</td>\n      <td>-46.92</td>\n      <td>Hotel Ancora e Restaurante de Cassia MG</td>\n    </tr>\n    <tr>\n      <th>3</th>\n      <td>Arraial Do Cabo</td>\n      <td>BR</td>\n      <td>77.00</td>\n      <td>-22.97</td>\n      <td>-42.03</td>\n      <td>Pousada Porto Praia</td>\n    </tr>\n    <tr>\n      <th>4</th>\n      <td>Georgetown</td>\n      <td>MY</td>\n      <td>77.00</td>\n      <td>5.41</td>\n      <td>100.34</td>\n      <td>Cititel Penang</td>\n    </tr>\n    <tr>\n      <th>6</th>\n      <td>Albany</td>\n      <td>US</td>\n      <td>77.00</td>\n      <td>42.60</td>\n      <td>-73.97</td>\n      <td></td>\n    </tr>\n    <tr>\n      <th>10</th>\n      <td>Bathsheba</td>\n      <td>BB</td>\n      <td>86.00</td>\n      <td>13.22</td>\n      <td>-59.52</td>\n      <td>Atlantis Hotel</td>\n    </tr>\n    <tr>\n      <th>15</th>\n      <td>Srivardhan</td>\n      <td>IN</td>\n      <td>81.70</td>\n      <td>18.03</td>\n      <td>73.02</td>\n      <td>Savli Resort/Hotel - Shrivardhan</td>\n    </tr>\n    <tr>\n      <th>18</th>\n      <td>Hithadhoo</td>\n      <td>MV</td>\n      <td>84.60</td>\n      <td>-0.60</td>\n      <td>73.08</td>\n      <td>Scoop Guest House</td>\n    </tr>\n    <tr>\n      <th>25</th>\n      <td>Hamilton</td>\n      <td>US</td>\n      <td>84.99</td>\n      <td>39.18</td>\n      <td>-84.53</td>\n      <td>Six Acres Bed &amp; Breakfast</td>\n    </tr>\n    <tr>\n      <th>29</th>\n      <td>Mayumba</td>\n      <td>GA</td>\n      <td>76.17</td>\n      <td>-3.43</td>\n      <td>10.66</td>\n      <td>LIKWALE LODGE</td>\n    </tr>\n    <tr>\n      <th>30</th>\n      <td>Jamestown</td>\n      <td>US</td>\n      <td>78.01</td>\n      <td>42.10</td>\n      <td>-79.24</td>\n      <td>Hampton Inn &amp; Suites Jamestown</td>\n    </tr>\n  </tbody>\n</table>\n</div>"
     },
     "metadata": {},
     "execution_count": 32
    }
   ],
   "source": [
    "hotel_df.head(10)"
   ]
  },
  {
   "cell_type": "code",
   "execution_count": 38,
   "metadata": {},
   "outputs": [],
   "source": [
    "info_box_template = \"\"\"\n",
    "<dl>\n",
    "<dt>Hotel Name</dt><dd>{Hotel Name}</dd>\n",
    "<dt>City</dt><dd>{City}</dd>\n",
    "<dt>Country</dt><dd>{Country}</dd>\n",
    "<dt>Max Temp</dt><dd>{Max Temp} °F</dd>\n",
    "</dl>\n",
    "\"\"\"\n",
    "\n",
    "# Store the DataFrame Row.\n",
    "hotel_info = [info_box_template.format(**row) for index, row in hotel_df.iterrows()]"
   ]
  },
  {
   "cell_type": "code",
   "execution_count": 39,
   "metadata": {},
   "outputs": [
    {
     "output_type": "display_data",
     "data": {
      "text/plain": "Figure(layout=FigureLayout(height='420px'))",
      "application/vnd.jupyter.widget-view+json": {
       "version_major": 2,
       "version_minor": 0,
       "model_id": "3e4ed0b25d86458ab53a9652aa287902"
      }
     },
     "metadata": {}
    }
   ],
   "source": [
    "# Add a heatmap of temperature for the vacation spots and a pop-up marker for each city.\n",
    "locations = hotel_df[[\"Lat\", \"Lng\"]]\n",
    "max_temp = hotel_df[\"Max Temp\"]\n",
    "fig = gmaps.figure(center=(30.0, 31.0), zoom_level=1.5)\n",
    "heat_layer = gmaps.heatmap_layer(locations, weights=max_temp,dissipating=False,\n",
    "             max_intensity=300, point_radius=4)\n",
    "marker_layer = gmaps.marker_layer(locations, info_box_content=hotel_info)\n",
    "fig.add_layer(heat_layer)\n",
    "fig.add_layer(marker_layer)\n",
    "\n",
    "# Call the figure to plot the data.\n",
    "fig"
   ]
  },
  {
   "cell_type": "code",
   "execution_count": null,
   "metadata": {},
   "outputs": [],
   "source": []
  }
 ],
 "metadata": {
  "language_info": {
   "codemirror_mode": {
    "name": "ipython",
    "version": 3
   },
   "file_extension": ".py",
   "mimetype": "text/x-python",
   "name": "python",
   "nbconvert_exporter": "python",
   "pygments_lexer": "ipython3",
   "version": "3.7.7-final"
  },
  "orig_nbformat": 2,
  "kernelspec": {
   "name": "pythondata",
   "display_name": "PythonData"
  }
 },
 "nbformat": 4,
 "nbformat_minor": 2
}