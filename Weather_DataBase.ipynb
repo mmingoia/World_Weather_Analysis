{
 "cells": [
  {
   "cell_type": "code",
   "execution_count": 1,
   "metadata": {},
   "outputs": [],
   "source": [
    "# Import the dependencies.\n",
    "import pandas as pd\n",
    "from citipy import citipy\n",
    "import numpy as np\n",
    "import os\n",
    "# Import the requests library.\n",
    "import requests\n",
    "# Import the API key.\n",
    "from config import weather_api_key\n",
    "# Import the datetime module from the datetime library.\n",
    "from datetime import datetime"
   ]
  },
  {
   "cell_type": "code",
   "execution_count": 2,
   "metadata": {},
   "outputs": [
    {
     "output_type": "execute_result",
     "data": {
      "text/plain": "<zip at 0x1a152105588>"
     },
     "metadata": {},
     "execution_count": 2
    }
   ],
   "source": [
    "# Create a set of random latitude and longitude combinations.\n",
    "lats = np.random.uniform(low=-90.000, high=90.000, size=1500)\n",
    "lngs = np.random.uniform(low=-180.000, high=180.000, size=1500)\n",
    "lat_lngs = zip(lats, lngs)\n",
    "lat_lngs "
   ]
  },
  {
   "cell_type": "code",
   "execution_count": 3,
   "metadata": {},
   "outputs": [],
   "source": [
    "# Add the latitudes and longitudes to a list.\n",
    "coordinates = list(lat_lngs)"
   ]
  },
  {
   "cell_type": "code",
   "execution_count": 4,
   "metadata": {},
   "outputs": [
    {
     "output_type": "execute_result",
     "data": {
      "text/plain": "630"
     },
     "metadata": {},
     "execution_count": 4
    }
   ],
   "source": [
    "# Create a list for holding the cities.\n",
    "cities = []\n",
    "# Identify the nearest city for each latitude and longitude combination.\n",
    "for coordinate in coordinates:\n",
    "    city = citipy.nearest_city(coordinate[0], coordinate[1]).city_name\n",
    "    \n",
    "    # If the city is unique, then we will add it to the cities list.\n",
    "    if city not in cities:\n",
    "        cities.append(city)\n",
    "# Print the city count to confirm sufficient count.\n",
    "len(cities)"
   ]
  },
  {
   "cell_type": "code",
   "execution_count": 5,
   "metadata": {},
   "outputs": [],
   "source": [
    "# Starting URL for Weather Map API Call.\n",
    "url = \"http://api.openweathermap.org/data/2.5/weather?units=Imperial&APPID=\" + weather_api_key + \"&lang=en\""
   ]
  },
  {
   "cell_type": "code",
   "execution_count": 6,
   "metadata": {
    "tags": [
     "outputPrepend"
    ]
   },
   "outputs": [
    {
     "output_type": "stream",
     "name": "stdout",
     "text": "rto ayora\nProcessing Record 24 of Set 4 | luderitz\nProcessing Record 25 of Set 4 | seydi\nProcessing Record 26 of Set 4 | srednekolymsk\nProcessing Record 27 of Set 4 | tasiilaq\nProcessing Record 28 of Set 4 | geraldton\nProcessing Record 29 of Set 4 | portland\nProcessing Record 30 of Set 4 | aksarka\nProcessing Record 31 of Set 4 | estelle\nProcessing Record 32 of Set 4 | trincomalee\nProcessing Record 33 of Set 4 | qinzhou\nProcessing Record 34 of Set 4 | benghazi\nProcessing Record 35 of Set 4 | korla\nProcessing Record 36 of Set 4 | lorengau\nProcessing Record 37 of Set 4 | manching\nProcessing Record 38 of Set 4 | arandis\nProcessing Record 39 of Set 4 | codrington\nProcessing Record 40 of Set 4 | port hedland\nProcessing Record 41 of Set 4 | strezhevoy\nProcessing Record 42 of Set 4 | brahmapuri\nCity not found. Skipping...\nProcessing Record 43 of Set 4 | alofi\nProcessing Record 44 of Set 4 | santa barbara\nProcessing Record 45 of Set 4 | kabare\nProcessing Record 46 of Set 4 | broken hill\nProcessing Record 47 of Set 4 | souillac\nProcessing Record 48 of Set 4 | ilulissat\nProcessing Record 49 of Set 4 | faanui\nProcessing Record 50 of Set 4 | povenets\nProcessing Record 1 of Set 5 | mitu\nProcessing Record 2 of Set 5 | anadyr\nProcessing Record 3 of Set 5 | saryshagan\nCity not found. Skipping...\nProcessing Record 4 of Set 5 | amahai\nProcessing Record 5 of Set 5 | provideniya\nProcessing Record 6 of Set 5 | mackay\nProcessing Record 7 of Set 5 | springbok\nProcessing Record 8 of Set 5 | itaituba\nProcessing Record 9 of Set 5 | sinnamary\nProcessing Record 10 of Set 5 | murgab\nProcessing Record 11 of Set 5 | san quintin\nProcessing Record 12 of Set 5 | menongue\nProcessing Record 13 of Set 5 | ayagoz\nProcessing Record 14 of Set 5 | lolua\nCity not found. Skipping...\nProcessing Record 15 of Set 5 | la ronge\nProcessing Record 16 of Set 5 | rawson\nProcessing Record 17 of Set 5 | biloela\nProcessing Record 18 of Set 5 | roald\nProcessing Record 19 of Set 5 | susehri\nProcessing Record 20 of Set 5 | puerto escondido\nProcessing Record 21 of Set 5 | tsihombe\nCity not found. Skipping...\nProcessing Record 22 of Set 5 | ekibastuz\nProcessing Record 23 of Set 5 | macapa\nProcessing Record 24 of Set 5 | general roca\nProcessing Record 25 of Set 5 | jieshi\nProcessing Record 26 of Set 5 | puerto narino\nProcessing Record 27 of Set 5 | zyryanka\nProcessing Record 28 of Set 5 | lebu\nProcessing Record 29 of Set 5 | krasnoselkup\nProcessing Record 30 of Set 5 | tiksi\nProcessing Record 31 of Set 5 | le vauclin\nProcessing Record 32 of Set 5 | calvinia\nProcessing Record 33 of Set 5 | jamestown\nProcessing Record 34 of Set 5 | illoqqortoormiut\nCity not found. Skipping...\nProcessing Record 35 of Set 5 | tuktoyaktuk\nProcessing Record 36 of Set 5 | atambua\nProcessing Record 37 of Set 5 | dekoa\nCity not found. Skipping...\nProcessing Record 38 of Set 5 | san matias\nProcessing Record 39 of Set 5 | meulaboh\nProcessing Record 40 of Set 5 | nanortalik\nProcessing Record 41 of Set 5 | laguna\nProcessing Record 42 of Set 5 | ostrovnoy\nProcessing Record 43 of Set 5 | otjiwarongo\nProcessing Record 44 of Set 5 | khatanga\nProcessing Record 45 of Set 5 | naliya\nProcessing Record 46 of Set 5 | lodwar\nProcessing Record 47 of Set 5 | kazalinsk\nCity not found. Skipping...\nProcessing Record 48 of Set 5 | thurso\nProcessing Record 49 of Set 5 | turukhansk\nProcessing Record 50 of Set 5 | sao filipe\nProcessing Record 1 of Set 6 | the valley\nProcessing Record 2 of Set 6 | cayenne\nProcessing Record 3 of Set 6 | peniche\nProcessing Record 4 of Set 6 | kuhdasht\nProcessing Record 5 of Set 6 | nguiu\nCity not found. Skipping...\nProcessing Record 6 of Set 6 | hofn\nProcessing Record 7 of Set 6 | whitehorse\nProcessing Record 8 of Set 6 | grand centre\nCity not found. Skipping...\nProcessing Record 9 of Set 6 | puga\nProcessing Record 10 of Set 6 | cayeli\nProcessing Record 11 of Set 6 | umzimvubu\nCity not found. Skipping...\nProcessing Record 12 of Set 6 | constitucion\nProcessing Record 13 of Set 6 | hihifo\nCity not found. Skipping...\nProcessing Record 14 of Set 6 | nikel\nProcessing Record 15 of Set 6 | lishui\nProcessing Record 16 of Set 6 | twin falls\nProcessing Record 17 of Set 6 | ajdabiya\nProcessing Record 18 of Set 6 | tahoua\nProcessing Record 19 of Set 6 | omboue\nProcessing Record 20 of Set 6 | mastic beach\nProcessing Record 21 of Set 6 | lopukhiv\nProcessing Record 22 of Set 6 | garowe\nProcessing Record 23 of Set 6 | mackenzie\nProcessing Record 24 of Set 6 | bato\nProcessing Record 25 of Set 6 | san cristobal\nProcessing Record 26 of Set 6 | manadhoo\nProcessing Record 27 of Set 6 | marzuq\nProcessing Record 28 of Set 6 | honiara\nProcessing Record 29 of Set 6 | ormara\nProcessing Record 30 of Set 6 | el alto\nProcessing Record 31 of Set 6 | syamzha\nProcessing Record 32 of Set 6 | varadero\nProcessing Record 33 of Set 6 | fomboni\nProcessing Record 34 of Set 6 | norman wells\nProcessing Record 35 of Set 6 | caborca\nProcessing Record 36 of Set 6 | saint george\nProcessing Record 37 of Set 6 | capiibary\nProcessing Record 38 of Set 6 | matara\nProcessing Record 39 of Set 6 | tapes\nProcessing Record 40 of Set 6 | egvekinot\nProcessing Record 41 of Set 6 | beringovskiy\nProcessing Record 42 of Set 6 | camenca\nProcessing Record 43 of Set 6 | algiers\nProcessing Record 44 of Set 6 | santa cruz\nProcessing Record 45 of Set 6 | labuhan\nProcessing Record 46 of Set 6 | coahuayana\nProcessing Record 47 of Set 6 | bartica\nProcessing Record 48 of Set 6 | gotsu\nProcessing Record 49 of Set 6 | cockburn town\nProcessing Record 50 of Set 6 | nizhneyansk\nCity not found. Skipping...\nProcessing Record 1 of Set 7 | kloulklubed\nProcessing Record 2 of Set 7 | kencong\nProcessing Record 3 of Set 7 | klaksvik\nProcessing Record 4 of Set 7 | chimbote\nProcessing Record 5 of Set 7 | henties bay\nProcessing Record 6 of Set 7 | valparaiso\nProcessing Record 7 of Set 7 | athabasca\nProcessing Record 8 of Set 7 | tunduru\nCity not found. Skipping...\nProcessing Record 9 of Set 7 | penzance\nProcessing Record 10 of Set 7 | agucadoura\nProcessing Record 11 of Set 7 | maldonado\nProcessing Record 12 of Set 7 | clyde river\nProcessing Record 13 of Set 7 | gautier\nProcessing Record 14 of Set 7 | harper\nProcessing Record 15 of Set 7 | kushima\nProcessing Record 16 of Set 7 | oriximina\nProcessing Record 17 of Set 7 | mumbwa\nProcessing Record 18 of Set 7 | gold coast\nProcessing Record 19 of Set 7 | samusu\nCity not found. Skipping...\nProcessing Record 20 of Set 7 | kolpashevo\nProcessing Record 21 of Set 7 | itarema\nProcessing Record 22 of Set 7 | uruacu\nProcessing Record 23 of Set 7 | kieta\nProcessing Record 24 of Set 7 | kyaikto\nProcessing Record 25 of Set 7 | san policarpo\nProcessing Record 26 of Set 7 | igarka\nProcessing Record 27 of Set 7 | baykit\nProcessing Record 28 of Set 7 | pitimbu\nProcessing Record 29 of Set 7 | saldanha\nProcessing Record 30 of Set 7 | tukrah\nProcessing Record 31 of Set 7 | busilac\nProcessing Record 32 of Set 7 | milingimbi\nCity not found. Skipping...\nProcessing Record 33 of Set 7 | pevek\nProcessing Record 34 of Set 7 | malakal\nProcessing Record 35 of Set 7 | coleraine\nProcessing Record 36 of Set 7 | yuncheng\nProcessing Record 37 of Set 7 | chandler\nProcessing Record 38 of Set 7 | veinticinco de mayo\nProcessing Record 39 of Set 7 | tutoia\nProcessing Record 40 of Set 7 | kitakami\nProcessing Record 41 of Set 7 | adrar\nProcessing Record 42 of Set 7 | margate\nProcessing Record 43 of Set 7 | primorsko-akhtarsk\nProcessing Record 44 of Set 7 | obo\nProcessing Record 45 of Set 7 | havre-saint-pierre\nProcessing Record 46 of Set 7 | nueve de julio\nProcessing Record 47 of Set 7 | qaqortoq\nProcessing Record 48 of Set 7 | barbar\nCity not found. Skipping...\nProcessing Record 49 of Set 7 | bhowali\nProcessing Record 50 of Set 7 | nouakchott\nProcessing Record 1 of Set 8 | necochea\nProcessing Record 2 of Set 8 | sale\nProcessing Record 3 of Set 8 | sheffield lake\nProcessing Record 4 of Set 8 | kungurtug\nProcessing Record 5 of Set 8 | qasigiannguit\nProcessing Record 6 of Set 8 | karaul\nCity not found. Skipping...\nProcessing Record 7 of Set 8 | asfi\nProcessing Record 8 of Set 8 | najran\nProcessing Record 9 of Set 8 | pisco\nProcessing Record 10 of Set 8 | shu\nProcessing Record 11 of Set 8 | teya\nProcessing Record 12 of Set 8 | cairns\nProcessing Record 13 of Set 8 | rybnaya sloboda\nProcessing Record 14 of Set 8 | tromso\nProcessing Record 15 of Set 8 | pousat\nCity not found. Skipping...\nProcessing Record 16 of Set 8 | sergeyevka\nProcessing Record 17 of Set 8 | dowa\nProcessing Record 18 of Set 8 | san francisco\nProcessing Record 19 of Set 8 | barra\nProcessing Record 20 of Set 8 | nagornskiy\nProcessing Record 21 of Set 8 | saharsa\nProcessing Record 22 of Set 8 | chumikan\nProcessing Record 23 of Set 8 | zhezkazgan\nProcessing Record 24 of Set 8 | kitui\nProcessing Record 25 of Set 8 | san jose\nProcessing Record 26 of Set 8 | sawakin\nProcessing Record 27 of Set 8 | sao gabriel da cachoeira\nProcessing Record 28 of Set 8 | saint-joseph\nProcessing Record 29 of Set 8 | aginskoye\nProcessing Record 30 of Set 8 | elizabeth city\nProcessing Record 31 of Set 8 | talnakh\nProcessing Record 32 of Set 8 | mutsamudu\nCity not found. Skipping...\nProcessing Record 33 of Set 8 | acapulco\nProcessing Record 34 of Set 8 | nizhniy tsasuchey\nProcessing Record 35 of Set 8 | uyemskiy\nProcessing Record 36 of Set 8 | heze\nProcessing Record 37 of Set 8 | kirovskiy\nProcessing Record 38 of Set 8 | bilibino\nProcessing Record 39 of Set 8 | vulcanesti\nProcessing Record 40 of Set 8 | san lawrenz\nProcessing Record 41 of Set 8 | tumannyy\nCity not found. Skipping...\nProcessing Record 42 of Set 8 | rohnert park\nProcessing Record 43 of Set 8 | lompoc\nProcessing Record 44 of Set 8 | yangambi\nProcessing Record 45 of Set 8 | esso\nProcessing Record 46 of Set 8 | guerrero negro\nProcessing Record 47 of Set 8 | westport\nProcessing Record 48 of Set 8 | chambersburg\nProcessing Record 49 of Set 8 | iisaku\nProcessing Record 50 of Set 8 | trani\nProcessing Record 1 of Set 9 | grand river south east\nCity not found. Skipping...\nProcessing Record 2 of Set 9 | tagusao\nProcessing Record 3 of Set 9 | lago da pedra\nProcessing Record 4 of Set 9 | vila velha\nProcessing Record 5 of Set 9 | taiping\nProcessing Record 6 of Set 9 | dakar\nProcessing Record 7 of Set 9 | ponta delgada\nProcessing Record 8 of Set 9 | ruangwa\nProcessing Record 9 of Set 9 | pathein\nProcessing Record 10 of Set 9 | vilyuysk\nProcessing Record 11 of Set 9 | baracoa\nProcessing Record 12 of Set 9 | vostok\nProcessing Record 13 of Set 9 | yulara\nProcessing Record 14 of Set 9 | matagami\nProcessing Record 15 of Set 9 | chegdomyn\nProcessing Record 16 of Set 9 | brae\nProcessing Record 17 of Set 9 | areni\nProcessing Record 18 of Set 9 | cururupu\nProcessing Record 19 of Set 9 | caravelas\nProcessing Record 20 of Set 9 | fort frances\nProcessing Record 21 of Set 9 | hovd\nProcessing Record 22 of Set 9 | lagos\nProcessing Record 23 of Set 9 | gat\nProcessing Record 24 of Set 9 | ustrzyki dolne\nProcessing Record 25 of Set 9 | cabo san lucas\nProcessing Record 26 of Set 9 | mogzon\nProcessing Record 27 of Set 9 | tole\nProcessing Record 28 of Set 9 | vaitupu\nCity not found. Skipping...\nProcessing Record 29 of Set 9 | buraydah\nProcessing Record 30 of Set 9 | santa rosa\nProcessing Record 31 of Set 9 | marcona\nCity not found. Skipping...\nProcessing Record 32 of Set 9 | kutum\nProcessing Record 33 of Set 9 | melfi\nProcessing Record 34 of Set 9 | tateyama\nProcessing Record 35 of Set 9 | viedma\nProcessing Record 36 of Set 9 | bagdarin\nProcessing Record 37 of Set 9 | grand gaube\nProcessing Record 38 of Set 9 | burica\nCity not found. Skipping...\nProcessing Record 39 of Set 9 | vysokogornyy\nProcessing Record 40 of Set 9 | elko\nProcessing Record 41 of Set 9 | tancitaro\nProcessing Record 42 of Set 9 | sarangani\nProcessing Record 43 of Set 9 | kudahuvadhoo\nProcessing Record 44 of Set 9 | tacoronte\nProcessing Record 45 of Set 9 | kaeo\nProcessing Record 46 of Set 9 | dryden\nProcessing Record 47 of Set 9 | mangrol\nProcessing Record 48 of Set 9 | filingue\nProcessing Record 49 of Set 9 | pozo colorado\nProcessing Record 50 of Set 9 | polyarnyy\nProcessing Record 1 of Set 10 | tall kayf\nProcessing Record 2 of Set 10 | tual\nProcessing Record 3 of Set 10 | quelimane\nProcessing Record 4 of Set 10 | montevideo\nProcessing Record 5 of Set 10 | upata\nProcessing Record 6 of Set 10 | tucuma\nProcessing Record 7 of Set 10 | saint-augustin\nProcessing Record 8 of Set 10 | vanderhoof\nProcessing Record 9 of Set 10 | maarianhamina\nProcessing Record 10 of Set 10 | embu\nProcessing Record 11 of Set 10 | ngukurr\nCity not found. Skipping...\nProcessing Record 12 of Set 10 | samatau\nCity not found. Skipping...\nProcessing Record 13 of Set 10 | chinhoyi\nProcessing Record 14 of Set 10 | sao miguel do araguaia\nProcessing Record 15 of Set 10 | humberto de campos\nProcessing Record 16 of Set 10 | antalaha\nProcessing Record 17 of Set 10 | geneva\nProcessing Record 18 of Set 10 | niquelandia\nProcessing Record 19 of Set 10 | somanda\nProcessing Record 20 of Set 10 | inuvik\nProcessing Record 21 of Set 10 | montmagny\nProcessing Record 22 of Set 10 | mayumba\nProcessing Record 23 of Set 10 | pochutla\nProcessing Record 24 of Set 10 | itoman\nProcessing Record 25 of Set 10 | bakchar\nProcessing Record 26 of Set 10 | parsabad\nProcessing Record 27 of Set 10 | akureyri\nProcessing Record 28 of Set 10 | manassas park\nProcessing Record 29 of Set 10 | dalvik\nProcessing Record 30 of Set 10 | cuamba\nProcessing Record 31 of Set 10 | saint-pierre\nProcessing Record 32 of Set 10 | thabazimbi\nProcessing Record 33 of Set 10 | darasun\nProcessing Record 34 of Set 10 | tezu\nProcessing Record 35 of Set 10 | dunedin\nProcessing Record 36 of Set 10 | barmer\nProcessing Record 37 of Set 10 | la rioja\nProcessing Record 38 of Set 10 | shahpura\nProcessing Record 39 of Set 10 | kedrovyy\nProcessing Record 40 of Set 10 | talcahuano\nProcessing Record 41 of Set 10 | ushtobe\nProcessing Record 42 of Set 10 | traverse city\nProcessing Record 43 of Set 10 | taltal\nProcessing Record 44 of Set 10 | ergani\nProcessing Record 45 of Set 10 | mareeba\nProcessing Record 46 of Set 10 | san carlos\nProcessing Record 47 of Set 10 | palu\nProcessing Record 48 of Set 10 | acajutla\nProcessing Record 49 of Set 10 | kozmodemyansk\nProcessing Record 50 of Set 10 | agirish\nProcessing Record 1 of Set 11 | praia\nProcessing Record 2 of Set 11 | nalut\nProcessing Record 3 of Set 11 | bambanglipuro\nProcessing Record 4 of Set 11 | chateaubelair\nProcessing Record 5 of Set 11 | jurm\nProcessing Record 6 of Set 11 | eenhana\nProcessing Record 7 of Set 11 | amapa\nProcessing Record 8 of Set 11 | warqla\nCity not found. Skipping...\nProcessing Record 9 of Set 11 | rimbey\nProcessing Record 10 of Set 11 | broome\nProcessing Record 11 of Set 11 | bonthe\nProcessing Record 12 of Set 11 | tabiauea\nCity not found. Skipping...\nProcessing Record 13 of Set 11 | gurupa\nProcessing Record 14 of Set 11 | rio gallegos\nProcessing Record 15 of Set 11 | urucui\nProcessing Record 16 of Set 11 | kampot\nProcessing Record 17 of Set 11 | poum\nProcessing Record 18 of Set 11 | shangrao\nProcessing Record 19 of Set 11 | djibo\nProcessing Record 20 of Set 11 | havelock\nProcessing Record 21 of Set 11 | jibuti\nProcessing Record 22 of Set 11 | burns lake\nProcessing Record 23 of Set 11 | ballina\nProcessing Record 24 of Set 11 | elat\nProcessing Record 25 of Set 11 | likasi\nProcessing Record 26 of Set 11 | pokhara\nProcessing Record 27 of Set 11 | jamkhed\nProcessing Record 28 of Set 11 | mocambique\nCity not found. Skipping...\nProcessing Record 29 of Set 11 | bilma\nProcessing Record 30 of Set 11 | iqaluit\nProcessing Record 31 of Set 11 | diego de almagro\nProcessing Record 32 of Set 11 | san rafael del sur\nProcessing Record 33 of Set 11 | mahanoro\nProcessing Record 34 of Set 11 | sychevka\nProcessing Record 35 of Set 11 | okato\nProcessing Record 36 of Set 11 | tamandare\nProcessing Record 37 of Set 11 | port macquarie\nProcessing Record 38 of Set 11 | fairbanks\nProcessing Record 39 of Set 11 | teacapan\nProcessing Record 40 of Set 11 | komsomolskiy\nProcessing Record 41 of Set 11 | anina\nProcessing Record 42 of Set 11 | guarapari\nProcessing Record 43 of Set 11 | shimoda\nProcessing Record 44 of Set 11 | kirakira\nProcessing Record 45 of Set 11 | sorong\nProcessing Record 46 of Set 11 | balogo\nProcessing Record 47 of Set 11 | casteltermini\nProcessing Record 48 of Set 11 | spanish fork\nProcessing Record 49 of Set 11 | panama city\nProcessing Record 50 of Set 11 | lufilufi\nProcessing Record 1 of Set 12 | salalah\nProcessing Record 2 of Set 12 | marsh harbour\nProcessing Record 3 of Set 12 | freeport\nProcessing Record 4 of Set 12 | liverpool\nProcessing Record 5 of Set 12 | zhuhai\nProcessing Record 6 of Set 12 | denpasar\nProcessing Record 7 of Set 12 | playas\nProcessing Record 8 of Set 12 | charters towers\nProcessing Record 9 of Set 12 | bubaque\nProcessing Record 10 of Set 12 | cicciano\nProcessing Record 11 of Set 12 | coihaique\nProcessing Record 12 of Set 12 | baghdad\nProcessing Record 13 of Set 12 | kortkeros\nProcessing Record 14 of Set 12 | skeldon\nProcessing Record 15 of Set 12 | kaseda\nProcessing Record 16 of Set 12 | fort nelson\nProcessing Record 17 of Set 12 | banjar\nProcessing Record 18 of Set 12 | utiroa\nCity not found. Skipping...\nProcessing Record 19 of Set 12 | pekalongan\nProcessing Record 20 of Set 12 | kulhudhuffushi\nProcessing Record 21 of Set 12 | kanashevo\nProcessing Record 22 of Set 12 | lata\nProcessing Record 23 of Set 12 | kadykchan\nCity not found. Skipping...\nProcessing Record 24 of Set 12 | tashtagol\nProcessing Record 25 of Set 12 | lazaro cardenas\nProcessing Record 26 of Set 12 | avera\nProcessing Record 27 of Set 12 | half moon bay\nProcessing Record 28 of Set 12 | high level\nProcessing Record 29 of Set 12 | bose\nProcessing Record 30 of Set 12 | sovetskiy\nProcessing Record 31 of Set 12 | saleaula\nCity not found. Skipping...\nProcessing Record 32 of Set 12 | susanville\nProcessing Record 33 of Set 12 | alekseyevsk\nProcessing Record 34 of Set 12 | bolungarvik\nCity not found. Skipping...\nProcessing Record 35 of Set 12 | worland\nProcessing Record 36 of Set 12 | baraki barak\nProcessing Record 37 of Set 12 | giyani\nProcessing Record 38 of Set 12 | chernyshevsk\nProcessing Record 39 of Set 12 | de aar\nProcessing Record 40 of Set 12 | korsakov\nProcessing Record 41 of Set 12 | luanda\nProcessing Record 42 of Set 12 | chuzhou\nProcessing Record 43 of Set 12 | kokorevka\nProcessing Record 44 of Set 12 | vargashi\nProcessing Record 45 of Set 12 | husavik\nProcessing Record 46 of Set 12 | umm lajj\nProcessing Record 47 of Set 12 | bayonne\nProcessing Record 48 of Set 12 | kandrian\nProcessing Record 49 of Set 12 | grindavik\nProcessing Record 50 of Set 12 | inverness\nProcessing Record 1 of Set 13 | sekudai\nProcessing Record 2 of Set 13 | ferkessedougou\nProcessing Record 3 of Set 13 | xinyang\nProcessing Record 4 of Set 13 | truth or consequences\nProcessing Record 5 of Set 13 | kichera\nProcessing Record 6 of Set 13 | marrakesh\nProcessing Record 7 of Set 13 | esna\nProcessing Record 8 of Set 13 | iberia\nProcessing Record 9 of Set 13 | tiznit\nProcessing Record 10 of Set 13 | kayanga\nProcessing Record 11 of Set 13 | chapleau\nProcessing Record 12 of Set 13 | baker city\nProcessing Record 13 of Set 13 | konnur\nProcessing Record 14 of Set 13 | colina\nProcessing Record 15 of Set 13 | saint-francois\nProcessing Record 16 of Set 13 | eureka\nProcessing Record 17 of Set 13 | urumqi\nProcessing Record 18 of Set 13 | poronaysk\nProcessing Record 19 of Set 13 | juneau\nProcessing Record 20 of Set 13 | gayeri\nProcessing Record 21 of Set 13 | nizhnyaya omka\nProcessing Record 22 of Set 13 | banda aceh\nProcessing Record 23 of Set 13 | saquena\nProcessing Record 24 of Set 13 | vila franca do campo\nProcessing Record 25 of Set 13 | aktau\nProcessing Record 26 of Set 13 | namatanai\nProcessing Record 27 of Set 13 | conde\nProcessing Record 28 of Set 13 | opuwo\nProcessing Record 29 of Set 13 | akyab\nProcessing Record 30 of Set 13 | asau\n-----------------------------\nData Retrieval Complete      \n-----------------------------\n"
    }
   ],
   "source": [
    "# Create an empty list to hold the weather data.\n",
    "city_data = []\n",
    "# Print the beginning of the logging.\n",
    "print(\"Beginning Data Retrieval     \")\n",
    "print(\"-----------------------------\")\n",
    "\n",
    "# Create counters.\n",
    "record_count = 1\n",
    "set_count = 1\n",
    "\n",
    "\n",
    "# Loop through all the cities in the list.\n",
    "for i, city in enumerate(cities):\n",
    "\n",
    "    # Group cities in sets of 50 for logging purposes.\n",
    "    if (i % 50 == 0 and i >= 50):\n",
    "        set_count += 1\n",
    "        record_count = 1\n",
    "    # Create endpoint URL with each city.\n",
    "    city_url = url + \"&q=\" + city.replace(\" \",\"+\")\n",
    "\n",
    "    # Log the URL, record, and set numbers and the city.\n",
    "    print(f\"Processing Record {record_count} of Set {set_count} | {city}\")\n",
    "    # Add 1 to the record count.\n",
    "    record_count += 1\n",
    "   \n",
    "    # Run an API request for each of the cities.\n",
    "    try:\n",
    "        # Parse the JSON and retrieve data.\n",
    "        city_weather = requests.get(city_url).json()\n",
    "        # Parse out the needed data.\n",
    "        city_lat = city_weather[\"coord\"][\"lat\"]\n",
    "        city_lng = city_weather[\"coord\"][\"lon\"]\n",
    "        city_max_temp = city_weather[\"main\"][\"temp_max\"]\n",
    "        city_humidity = city_weather[\"main\"][\"humidity\"]\n",
    "        city_clouds = city_weather[\"clouds\"][\"all\"]\n",
    "        city_wind = city_weather[\"wind\"][\"speed\"]\n",
    "        city_country = city_weather[\"sys\"][\"country\"]\n",
    "        WeatherDescriptionList  = city_weather[\"weather\"]\n",
    "        WeatherDescription = WeatherDescriptionList[0][\"description\"]\n",
    "        try:\n",
    "            Rain1HR = \"{:.1f}\".format(city_weather[\"rain\"][\"1h\"] / 25.4)\n",
    "        except:\n",
    "            Rain1HR = \"{:.1f}\".format(0)\n",
    "        try:\n",
    "            Snow1HR = \"{:.1f}\".format(city_weather[\"snow\"][\"1h\"] / 25.4)\n",
    "        except:\n",
    "            Snow1HR = \"{:.1f}\".format(0)\n",
    "        # Convert the date to ISO standard.\n",
    "        city_date = datetime.utcfromtimestamp(city_weather[\"dt\"]).strftime('%Y-%m-%d %H:%M:%S')\n",
    "        # Append the city information into city_data list.\n",
    "        city_data.append({\"City\": city.title(),\n",
    "                          \"Country\": city_country,\n",
    "                          \"Lat\": city_lat,\n",
    "                          \"Lng\": city_lng,\n",
    "                          \"Max Temp\": city_max_temp,\n",
    "                          \"Humidity\": city_humidity,\n",
    "                          \"Cloudiness\": city_clouds,\n",
    "                          \"Wind Speed\": city_wind,\n",
    "                          \"Current Description\" : WeatherDescription,\n",
    "                          \"Rain (Inches)\" : Rain1HR,\n",
    "                          \"Snow (Inches)\" : Snow1HR,\n",
    "                          \"Date\" : city_date})\n",
    "\n",
    "# If an error is experienced, skip the city.\n",
    "    except:\n",
    "        print(\"City not found. Skipping...\")\n",
    "        pass\n",
    "\n",
    "# Indicate that Data Loading is complete.\n",
    "print(\"-----------------------------\")\n",
    "print(\"Data Retrieval Complete      \")\n",
    "print(\"-----------------------------\")"
   ]
  },
  {
   "cell_type": "code",
   "execution_count": 7,
   "metadata": {},
   "outputs": [
    {
     "output_type": "execute_result",
     "data": {
      "text/plain": "            City Country    Lat     Lng  Max Temp  Humidity  Cloudiness  \\\n0         Bonfim      BR   3.08  -59.95     87.37        61          96   \n1       Victoria      HK  22.29  114.16     86.00        74         100   \n2      Cape Town      ZA -33.93   18.42     55.00        93          75   \n3       Manicore      BR  -5.81  -61.30     89.60        55          20   \n4         Hobart      AU -42.88  147.33     37.40        93          20   \n5        Ushuaia      AR -54.80  -68.30     37.40        64          40   \n6        Aloleng      PH  16.13  119.78     82.74        80          99   \n7       Iracoubo      GF   5.48  -53.20     81.82        78          35   \n8      Porbandar      IN  21.64   69.61     84.00        82          31   \n9  Makakilo City      US  21.35 -158.09     84.20        58          75   \n\n   Wind Speed Current Description Rain (Inches) Snow (Inches)  \\\n0        4.90          light rain           0.0           0.0   \n1       11.01     overcast clouds           0.0           0.0   \n2        6.93       moderate rain           0.1           0.0   \n3        5.82          few clouds           0.0           0.0   \n4        6.93          light snow           0.0           0.0   \n5        5.82    scattered clouds           0.0           0.0   \n6        7.11          light rain           0.0           0.0   \n7        6.20          light rain           0.0           0.0   \n8       19.44          light rain           0.0           0.0   \n9        9.17       broken clouds           0.0           0.0   \n\n                  Date  \n0  2020-07-09 20:21:58  \n1  2020-07-09 20:21:58  \n2  2020-07-09 20:21:13  \n3  2020-07-09 20:21:58  \n4  2020-07-09 20:18:13  \n5  2020-07-09 20:21:59  \n6  2020-07-09 20:21:59  \n7  2020-07-09 20:21:59  \n8  2020-07-09 20:21:59  \n9  2020-07-09 20:21:59  ",
      "text/html": "<div>\n<style scoped>\n    .dataframe tbody tr th:only-of-type {\n        vertical-align: middle;\n    }\n\n    .dataframe tbody tr th {\n        vertical-align: top;\n    }\n\n    .dataframe thead th {\n        text-align: right;\n    }\n</style>\n<table border=\"1\" class=\"dataframe\">\n  <thead>\n    <tr style=\"text-align: right;\">\n      <th></th>\n      <th>City</th>\n      <th>Country</th>\n      <th>Lat</th>\n      <th>Lng</th>\n      <th>Max Temp</th>\n      <th>Humidity</th>\n      <th>Cloudiness</th>\n      <th>Wind Speed</th>\n      <th>Current Description</th>\n      <th>Rain (Inches)</th>\n      <th>Snow (Inches)</th>\n      <th>Date</th>\n    </tr>\n  </thead>\n  <tbody>\n    <tr>\n      <th>0</th>\n      <td>Bonfim</td>\n      <td>BR</td>\n      <td>3.08</td>\n      <td>-59.95</td>\n      <td>87.37</td>\n      <td>61</td>\n      <td>96</td>\n      <td>4.90</td>\n      <td>light rain</td>\n      <td>0.0</td>\n      <td>0.0</td>\n      <td>2020-07-09 20:21:58</td>\n    </tr>\n    <tr>\n      <th>1</th>\n      <td>Victoria</td>\n      <td>HK</td>\n      <td>22.29</td>\n      <td>114.16</td>\n      <td>86.00</td>\n      <td>74</td>\n      <td>100</td>\n      <td>11.01</td>\n      <td>overcast clouds</td>\n      <td>0.0</td>\n      <td>0.0</td>\n      <td>2020-07-09 20:21:58</td>\n    </tr>\n    <tr>\n      <th>2</th>\n      <td>Cape Town</td>\n      <td>ZA</td>\n      <td>-33.93</td>\n      <td>18.42</td>\n      <td>55.00</td>\n      <td>93</td>\n      <td>75</td>\n      <td>6.93</td>\n      <td>moderate rain</td>\n      <td>0.1</td>\n      <td>0.0</td>\n      <td>2020-07-09 20:21:13</td>\n    </tr>\n    <tr>\n      <th>3</th>\n      <td>Manicore</td>\n      <td>BR</td>\n      <td>-5.81</td>\n      <td>-61.30</td>\n      <td>89.60</td>\n      <td>55</td>\n      <td>20</td>\n      <td>5.82</td>\n      <td>few clouds</td>\n      <td>0.0</td>\n      <td>0.0</td>\n      <td>2020-07-09 20:21:58</td>\n    </tr>\n    <tr>\n      <th>4</th>\n      <td>Hobart</td>\n      <td>AU</td>\n      <td>-42.88</td>\n      <td>147.33</td>\n      <td>37.40</td>\n      <td>93</td>\n      <td>20</td>\n      <td>6.93</td>\n      <td>light snow</td>\n      <td>0.0</td>\n      <td>0.0</td>\n      <td>2020-07-09 20:18:13</td>\n    </tr>\n    <tr>\n      <th>5</th>\n      <td>Ushuaia</td>\n      <td>AR</td>\n      <td>-54.80</td>\n      <td>-68.30</td>\n      <td>37.40</td>\n      <td>64</td>\n      <td>40</td>\n      <td>5.82</td>\n      <td>scattered clouds</td>\n      <td>0.0</td>\n      <td>0.0</td>\n      <td>2020-07-09 20:21:59</td>\n    </tr>\n    <tr>\n      <th>6</th>\n      <td>Aloleng</td>\n      <td>PH</td>\n      <td>16.13</td>\n      <td>119.78</td>\n      <td>82.74</td>\n      <td>80</td>\n      <td>99</td>\n      <td>7.11</td>\n      <td>light rain</td>\n      <td>0.0</td>\n      <td>0.0</td>\n      <td>2020-07-09 20:21:59</td>\n    </tr>\n    <tr>\n      <th>7</th>\n      <td>Iracoubo</td>\n      <td>GF</td>\n      <td>5.48</td>\n      <td>-53.20</td>\n      <td>81.82</td>\n      <td>78</td>\n      <td>35</td>\n      <td>6.20</td>\n      <td>light rain</td>\n      <td>0.0</td>\n      <td>0.0</td>\n      <td>2020-07-09 20:21:59</td>\n    </tr>\n    <tr>\n      <th>8</th>\n      <td>Porbandar</td>\n      <td>IN</td>\n      <td>21.64</td>\n      <td>69.61</td>\n      <td>84.00</td>\n      <td>82</td>\n      <td>31</td>\n      <td>19.44</td>\n      <td>light rain</td>\n      <td>0.0</td>\n      <td>0.0</td>\n      <td>2020-07-09 20:21:59</td>\n    </tr>\n    <tr>\n      <th>9</th>\n      <td>Makakilo City</td>\n      <td>US</td>\n      <td>21.35</td>\n      <td>-158.09</td>\n      <td>84.20</td>\n      <td>58</td>\n      <td>75</td>\n      <td>9.17</td>\n      <td>broken clouds</td>\n      <td>0.0</td>\n      <td>0.0</td>\n      <td>2020-07-09 20:21:59</td>\n    </tr>\n  </tbody>\n</table>\n</div>"
     },
     "metadata": {},
     "execution_count": 7
    }
   ],
   "source": [
    "city_data_df = pd.DataFrame(city_data)\n",
    "city_data_df.head(10)"
   ]
  },
  {
   "cell_type": "code",
   "execution_count": 8,
   "metadata": {},
   "outputs": [],
   "source": [
    "# Create the output file (CSV).\n",
    "output_data_file = os.path.join(\"data\",\"WeatherPy_database.csv\")\n",
    "# Export the City_Data into a CSV.\n",
    "city_data_df.to_csv(output_data_file, index_label=\"City_ID\")"
   ]
  },
  {
   "cell_type": "code",
   "execution_count": null,
   "metadata": {},
   "outputs": [],
   "source": []
  }
 ],
 "metadata": {
  "language_info": {
   "codemirror_mode": {
    "name": "ipython",
    "version": 3
   },
   "file_extension": ".py",
   "mimetype": "text/x-python",
   "name": "python",
   "nbconvert_exporter": "python",
   "pygments_lexer": "ipython3",
   "version": "3.7.7-final"
  },
  "orig_nbformat": 2,
  "kernelspec": {
   "name": "pythondata",
   "display_name": "PythonData"
  }
 },
 "nbformat": 4,
 "nbformat_minor": 2
}