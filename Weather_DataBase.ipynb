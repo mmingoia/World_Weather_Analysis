{
 "cells": [
  {
   "cell_type": "code",
   "execution_count": 9,
   "metadata": {},
   "outputs": [],
   "source": [
    "# Import the dependencies.\n",
    "import pandas as pd\n",
    "from citipy import citipy\n",
    "import numpy as np\n",
    "import os\n",
    "# Import the requests library.\n",
    "import requests\n",
    "# Import the API key.\n",
    "from config import weather_api_key\n",
    "# Import the datetime module from the datetime library.\n",
    "from datetime import datetime"
   ]
  },
  {
   "cell_type": "code",
   "execution_count": 10,
   "metadata": {},
   "outputs": [
    {
     "output_type": "execute_result",
     "data": {
      "text/plain": "<zip at 0x2069cc0d8c8>"
     },
     "metadata": {},
     "execution_count": 10
    }
   ],
   "source": [
    "# Create a set of random latitude and longitude combinations.\n",
    "lats = np.random.uniform(low=-90.000, high=90.000, size=1500)\n",
    "lngs = np.random.uniform(low=-180.000, high=180.000, size=1500)\n",
    "lat_lngs = zip(lats, lngs)\n",
    "lat_lngs "
   ]
  },
  {
   "cell_type": "code",
   "execution_count": 11,
   "metadata": {},
   "outputs": [],
   "source": [
    "# Add the latitudes and longitudes to a list.\n",
    "coordinates = list(lat_lngs)"
   ]
  },
  {
   "cell_type": "code",
   "execution_count": 12,
   "metadata": {},
   "outputs": [
    {
     "output_type": "execute_result",
     "data": {
      "text/plain": "605"
     },
     "metadata": {},
     "execution_count": 12
    }
   ],
   "source": [
    "# Create a list for holding the cities.\n",
    "cities = []\n",
    "# Identify the nearest city for each latitude and longitude combination.\n",
    "for coordinate in coordinates:\n",
    "    city = citipy.nearest_city(coordinate[0], coordinate[1]).city_name\n",
    "    \n",
    "    # If the city is unique, then we will add it to the cities list.\n",
    "    if city not in cities:\n",
    "        cities.append(city)\n",
    "# Print the city count to confirm sufficient count.\n",
    "len(cities)"
   ]
  },
  {
   "cell_type": "code",
   "execution_count": 13,
   "metadata": {},
   "outputs": [],
   "source": [
    "# Starting URL for Weather Map API Call.\n",
    "url = \"http://api.openweathermap.org/data/2.5/weather?units=Imperial&APPID=\" + weather_api_key + \"&lang=en\""
   ]
  },
  {
   "cell_type": "code",
   "execution_count": 14,
   "metadata": {
    "tags": [
     "outputPrepend"
    ]
   },
   "outputs": [
    {
     "output_type": "stream",
     "name": "stdout",
     "text": " of Set 3 | butaritari\nProcessing Record 48 of Set 3 | aklavik\nProcessing Record 49 of Set 3 | pandan\nProcessing Record 50 of Set 3 | surt\nProcessing Record 1 of Set 4 | sri aman\nProcessing Record 2 of Set 4 | lompoc\nProcessing Record 3 of Set 4 | salina cruz\nProcessing Record 4 of Set 4 | parana\nProcessing Record 5 of Set 4 | kalmar\nProcessing Record 6 of Set 4 | ahipara\nProcessing Record 7 of Set 4 | palmer\nProcessing Record 8 of Set 4 | bilibino\nProcessing Record 9 of Set 4 | wendo\nProcessing Record 10 of Set 4 | cayenne\nProcessing Record 11 of Set 4 | hadgaon\nProcessing Record 12 of Set 4 | olafsvik\nProcessing Record 13 of Set 4 | sorland\nProcessing Record 14 of Set 4 | hasaki\nProcessing Record 15 of Set 4 | enid\nProcessing Record 16 of Set 4 | saint-augustin\nProcessing Record 17 of Set 4 | kolyvan\nProcessing Record 18 of Set 4 | dikson\nProcessing Record 19 of Set 4 | montepuez\nProcessing Record 20 of Set 4 | kompaniyivka\nProcessing Record 21 of Set 4 | kahului\nProcessing Record 22 of Set 4 | kodiak\nProcessing Record 23 of Set 4 | necochea\nProcessing Record 24 of Set 4 | lieksa\nProcessing Record 25 of Set 4 | hihifo\nCity not found. Skipping...\nProcessing Record 26 of Set 4 | victoria\nProcessing Record 27 of Set 4 | ponta delgada\nProcessing Record 28 of Set 4 | norwalk\nProcessing Record 29 of Set 4 | muros\nProcessing Record 30 of Set 4 | saint george\nProcessing Record 31 of Set 4 | muzquiz\nCity not found. Skipping...\nProcessing Record 32 of Set 4 | chumikan\nProcessing Record 33 of Set 4 | sao filipe\nProcessing Record 34 of Set 4 | tumannyy\nCity not found. Skipping...\nProcessing Record 35 of Set 4 | kibaya\nProcessing Record 36 of Set 4 | srednekolymsk\nProcessing Record 37 of Set 4 | provideniya\nProcessing Record 38 of Set 4 | aflu\nCity not found. Skipping...\nProcessing Record 39 of Set 4 | mizdah\nProcessing Record 40 of Set 4 | ouallam\nProcessing Record 41 of Set 4 | matagami\nProcessing Record 42 of Set 4 | mar del plata\nProcessing Record 43 of Set 4 | dhidhdhoo\nProcessing Record 44 of Set 4 | ambilobe\nProcessing Record 45 of Set 4 | salekhard\nProcessing Record 46 of Set 4 | faanui\nProcessing Record 47 of Set 4 | tabiauea\nCity not found. Skipping...\nProcessing Record 48 of Set 4 | otavi\nProcessing Record 49 of Set 4 | honningsvag\nProcessing Record 50 of Set 4 | narsaq\nProcessing Record 1 of Set 5 | xuanzhou\nProcessing Record 2 of Set 5 | portland\nProcessing Record 3 of Set 5 | kisangani\nProcessing Record 4 of Set 5 | mouzakion\nCity not found. Skipping...\nProcessing Record 5 of Set 5 | axim\nProcessing Record 6 of Set 5 | dingle\nProcessing Record 7 of Set 5 | san cristobal\nProcessing Record 8 of Set 5 | puerto del rosario\nProcessing Record 9 of Set 5 | vaasa\nProcessing Record 10 of Set 5 | novoagansk\nProcessing Record 11 of Set 5 | karpuninskiy\nCity not found. Skipping...\nProcessing Record 12 of Set 5 | kidal\nProcessing Record 13 of Set 5 | ribeira grande\nProcessing Record 14 of Set 5 | leningradskiy\nProcessing Record 15 of Set 5 | khonuu\nCity not found. Skipping...\nProcessing Record 16 of Set 5 | flin flon\nProcessing Record 17 of Set 5 | norman wells\nProcessing Record 18 of Set 5 | hervey bay\nProcessing Record 19 of Set 5 | chinsali\nProcessing Record 20 of Set 5 | fairbanks\nProcessing Record 21 of Set 5 | zhaotong\nProcessing Record 22 of Set 5 | deputatskiy\nProcessing Record 23 of Set 5 | novomikhaylovskiy\nProcessing Record 24 of Set 5 | coolum beach\nProcessing Record 25 of Set 5 | yabassi\nProcessing Record 26 of Set 5 | berdyuzhye\nCity not found. Skipping...\nProcessing Record 27 of Set 5 | ostrovnoy\nProcessing Record 28 of Set 5 | ijaki\nCity not found. Skipping...\nProcessing Record 29 of Set 5 | port hardy\nProcessing Record 30 of Set 5 | fortuna\nProcessing Record 31 of Set 5 | tasiilaq\nProcessing Record 32 of Set 5 | waldoboro\nProcessing Record 33 of Set 5 | bolpur\nProcessing Record 34 of Set 5 | pevek\nProcessing Record 35 of Set 5 | alamosa\nProcessing Record 36 of Set 5 | vangaindrano\nProcessing Record 37 of Set 5 | arraial do cabo\nProcessing Record 38 of Set 5 | sistranda\nProcessing Record 39 of Set 5 | bratsk\nProcessing Record 40 of Set 5 | kruisfontein\nProcessing Record 41 of Set 5 | cidreira\nProcessing Record 42 of Set 5 | tautira\nProcessing Record 43 of Set 5 | sisimiut\nProcessing Record 44 of Set 5 | kourou\nProcessing Record 45 of Set 5 | tocopilla\nProcessing Record 46 of Set 5 | ornes\nProcessing Record 47 of Set 5 | klaksvik\nProcessing Record 48 of Set 5 | bandarbeyla\nProcessing Record 49 of Set 5 | rosita\nProcessing Record 50 of Set 5 | kedrovyy\nProcessing Record 1 of Set 6 | college\nProcessing Record 2 of Set 6 | aripuana\nProcessing Record 3 of Set 6 | jacareacanga\nProcessing Record 4 of Set 6 | benghazi\nProcessing Record 5 of Set 6 | milyutinskaya\nProcessing Record 6 of Set 6 | huangmei\nProcessing Record 7 of Set 6 | pacific grove\nProcessing Record 8 of Set 6 | zhenhai\nProcessing Record 9 of Set 6 | carnarvon\nProcessing Record 10 of Set 6 | acapulco\nProcessing Record 11 of Set 6 | askino\nProcessing Record 12 of Set 6 | maceio\nProcessing Record 13 of Set 6 | skibotn\nProcessing Record 14 of Set 6 | bagnara calabra\nProcessing Record 15 of Set 6 | ternate\nProcessing Record 16 of Set 6 | sentyabrskiy\nCity not found. Skipping...\nProcessing Record 17 of Set 6 | dunedin\nProcessing Record 18 of Set 6 | khatanga\nProcessing Record 19 of Set 6 | alta floresta\nProcessing Record 20 of Set 6 | tuatapere\nProcessing Record 21 of Set 6 | shagamu\nProcessing Record 22 of Set 6 | svetlogorsk\nProcessing Record 23 of Set 6 | coihaique\nProcessing Record 24 of Set 6 | estelle\nProcessing Record 25 of Set 6 | keningau\nProcessing Record 26 of Set 6 | touros\nProcessing Record 27 of Set 6 | camacha\nProcessing Record 28 of Set 6 | alakurtti\nProcessing Record 29 of Set 6 | airai\nProcessing Record 30 of Set 6 | zhigansk\nProcessing Record 31 of Set 6 | lavrentiya\nProcessing Record 32 of Set 6 | clyde river\nProcessing Record 33 of Set 6 | kirksville\nProcessing Record 34 of Set 6 | sao joao da barra\nProcessing Record 35 of Set 6 | tiarei\nProcessing Record 36 of Set 6 | ambulu\nProcessing Record 37 of Set 6 | iskateley\nProcessing Record 38 of Set 6 | saldanha\nProcessing Record 39 of Set 6 | sokoni\nProcessing Record 40 of Set 6 | pedernales\nProcessing Record 41 of Set 6 | yarada\nProcessing Record 42 of Set 6 | totma\nProcessing Record 43 of Set 6 | hamilton\nProcessing Record 44 of Set 6 | ntungamo\nProcessing Record 45 of Set 6 | pitimbu\nProcessing Record 46 of Set 6 | nelidovo\nProcessing Record 47 of Set 6 | chambas\nProcessing Record 48 of Set 6 | mpika\nProcessing Record 49 of Set 6 | marcona\nCity not found. Skipping...\nProcessing Record 50 of Set 6 | ossora\nProcessing Record 1 of Set 7 | scottsbluff\nProcessing Record 2 of Set 7 | svetlyy\nProcessing Record 3 of Set 7 | kavieng\nProcessing Record 4 of Set 7 | longyearbyen\nProcessing Record 5 of Set 7 | luderitz\nProcessing Record 6 of Set 7 | marrakesh\nProcessing Record 7 of Set 7 | malaryta\nProcessing Record 8 of Set 7 | santa marta\nProcessing Record 9 of Set 7 | shenjiamen\nProcessing Record 10 of Set 7 | yongan\nProcessing Record 11 of Set 7 | padang\nProcessing Record 12 of Set 7 | tadine\nProcessing Record 13 of Set 7 | changji\nProcessing Record 14 of Set 7 | payo\nProcessing Record 15 of Set 7 | maroantsetra\nProcessing Record 16 of Set 7 | kunashak\nProcessing Record 17 of Set 7 | hithadhoo\nProcessing Record 18 of Set 7 | marshall\nProcessing Record 19 of Set 7 | hofn\nProcessing Record 20 of Set 7 | cam ranh\nProcessing Record 21 of Set 7 | ngukurr\nCity not found. Skipping...\nProcessing Record 22 of Set 7 | bundaberg\nProcessing Record 23 of Set 7 | copiapo\nProcessing Record 24 of Set 7 | juifang\nCity not found. Skipping...\nProcessing Record 25 of Set 7 | tucuman\nProcessing Record 26 of Set 7 | ambon\nProcessing Record 27 of Set 7 | vila velha\nProcessing Record 28 of Set 7 | saint-pierre\nProcessing Record 29 of Set 7 | apollonia\nProcessing Record 30 of Set 7 | avera\nProcessing Record 31 of Set 7 | marsh harbour\nProcessing Record 32 of Set 7 | colac\nProcessing Record 33 of Set 7 | saint-francois\nProcessing Record 34 of Set 7 | tolaga bay\nProcessing Record 35 of Set 7 | sept-iles\nProcessing Record 36 of Set 7 | iqaluit\nProcessing Record 37 of Set 7 | west wendover\nProcessing Record 38 of Set 7 | bubaque\nProcessing Record 39 of Set 7 | rawlins\nProcessing Record 40 of Set 7 | margate\nProcessing Record 41 of Set 7 | vardo\nProcessing Record 42 of Set 7 | oron\nProcessing Record 43 of Set 7 | bosaso\nProcessing Record 44 of Set 7 | ayoquezco\nCity not found. Skipping...\nProcessing Record 45 of Set 7 | melville\nProcessing Record 46 of Set 7 | honiara\nProcessing Record 47 of Set 7 | kemise\nProcessing Record 48 of Set 7 | cabedelo\nProcessing Record 49 of Set 7 | attawapiskat\nCity not found. Skipping...\nProcessing Record 50 of Set 7 | ozark\nProcessing Record 1 of Set 8 | vestmannaeyjar\nProcessing Record 2 of Set 8 | tromso\nProcessing Record 3 of Set 8 | husavik\nProcessing Record 4 of Set 8 | lagoa\nProcessing Record 5 of Set 8 | grindavik\nProcessing Record 6 of Set 8 | mjolby\nProcessing Record 7 of Set 8 | beira\nProcessing Record 8 of Set 8 | jumla\nProcessing Record 9 of Set 8 | nara\nProcessing Record 10 of Set 8 | sturlic\nProcessing Record 11 of Set 8 | severnoye\nProcessing Record 12 of Set 8 | nome\nProcessing Record 13 of Set 8 | parkes\nProcessing Record 14 of Set 8 | languyan\nProcessing Record 15 of Set 8 | sabha\nProcessing Record 16 of Set 8 | sinazongwe\nProcessing Record 17 of Set 8 | mwinilunga\nProcessing Record 18 of Set 8 | lolua\nCity not found. Skipping...\nProcessing Record 19 of Set 8 | cisaat\nProcessing Record 20 of Set 8 | talcahuano\nProcessing Record 21 of Set 8 | venado tuerto\nProcessing Record 22 of Set 8 | san quintin\nProcessing Record 23 of Set 8 | awbari\nProcessing Record 24 of Set 8 | nouadhibou\nProcessing Record 25 of Set 8 | salym\nProcessing Record 26 of Set 8 | amderma\nCity not found. Skipping...\nProcessing Record 27 of Set 8 | henties bay\nProcessing Record 28 of Set 8 | tsabong\nProcessing Record 29 of Set 8 | cairns\nProcessing Record 30 of Set 8 | marawi\nProcessing Record 31 of Set 8 | camocim\nProcessing Record 32 of Set 8 | miri\nProcessing Record 33 of Set 8 | slave lake\nProcessing Record 34 of Set 8 | ulaangom\nProcessing Record 35 of Set 8 | arawa\nProcessing Record 36 of Set 8 | bereda\nProcessing Record 37 of Set 8 | rurrenabaque\nProcessing Record 38 of Set 8 | kupang\nProcessing Record 39 of Set 8 | bathsheba\nProcessing Record 40 of Set 8 | kendal\nProcessing Record 41 of Set 8 | porec\nProcessing Record 42 of Set 8 | odienne\nProcessing Record 43 of Set 8 | dong xoai\nProcessing Record 44 of Set 8 | batagay-alyta\nProcessing Record 45 of Set 8 | labelle\nProcessing Record 46 of Set 8 | chapais\nProcessing Record 47 of Set 8 | homer\nProcessing Record 48 of Set 8 | shubarkuduk\nProcessing Record 49 of Set 8 | ciudad bolivar\nProcessing Record 50 of Set 8 | high level\nProcessing Record 1 of Set 9 | goundam\nProcessing Record 2 of Set 9 | miranda de ebro\nProcessing Record 3 of Set 9 | mwingi\nProcessing Record 4 of Set 9 | yinchuan\nProcessing Record 5 of Set 9 | presidencia roque saenz pena\nProcessing Record 6 of Set 9 | salalah\nProcessing Record 7 of Set 9 | arlit\nProcessing Record 8 of Set 9 | rungata\nCity not found. Skipping...\nProcessing Record 9 of Set 9 | northam\nProcessing Record 10 of Set 9 | constitucion\nProcessing Record 11 of Set 9 | aksarayskiy\nProcessing Record 12 of Set 9 | ola\nProcessing Record 13 of Set 9 | ventspils\nProcessing Record 14 of Set 9 | cagayan de tawi-tawi\nCity not found. Skipping...\nProcessing Record 15 of Set 9 | mao\nProcessing Record 16 of Set 9 | shizunai\nProcessing Record 17 of Set 9 | muisne\nProcessing Record 18 of Set 9 | myanaung\nProcessing Record 19 of Set 9 | rio grande\nProcessing Record 20 of Set 9 | algiers\nProcessing Record 21 of Set 9 | belyy yar\nProcessing Record 22 of Set 9 | hay river\nProcessing Record 23 of Set 9 | ningxiang\nProcessing Record 24 of Set 9 | srivardhan\nProcessing Record 25 of Set 9 | the valley\nProcessing Record 26 of Set 9 | belmonte\nProcessing Record 27 of Set 9 | simnas\nProcessing Record 28 of Set 9 | talnakh\nProcessing Record 29 of Set 9 | jalu\nProcessing Record 30 of Set 9 | sur\nProcessing Record 31 of Set 9 | sangolqui\nProcessing Record 32 of Set 9 | aviles\nProcessing Record 33 of Set 9 | xiaoweizhai\nProcessing Record 34 of Set 9 | eregli\nProcessing Record 35 of Set 9 | eureka\nProcessing Record 36 of Set 9 | vanimo\nProcessing Record 37 of Set 9 | aykhal\nProcessing Record 38 of Set 9 | kosa\nProcessing Record 39 of Set 9 | mayo\nProcessing Record 40 of Set 9 | cozumel\nProcessing Record 41 of Set 9 | asau\nProcessing Record 42 of Set 9 | torbay\nProcessing Record 43 of Set 9 | comodoro rivadavia\nProcessing Record 44 of Set 9 | port blair\nProcessing Record 45 of Set 9 | takoradi\nProcessing Record 46 of Set 9 | high rock\nProcessing Record 47 of Set 9 | bergen\nProcessing Record 48 of Set 9 | waipawa\nProcessing Record 49 of Set 9 | sirajganj\nProcessing Record 50 of Set 9 | nova granada\nProcessing Record 1 of Set 10 | bowen\nProcessing Record 2 of Set 10 | maldonado\nProcessing Record 3 of Set 10 | pangkalanbuun\nProcessing Record 4 of Set 10 | tateyama\nProcessing Record 5 of Set 10 | tipuani\nProcessing Record 6 of Set 10 | barentsburg\nCity not found. Skipping...\nProcessing Record 7 of Set 10 | lincoln\nProcessing Record 8 of Set 10 | macaboboni\nCity not found. Skipping...\nProcessing Record 9 of Set 10 | rach gia\nProcessing Record 10 of Set 10 | port macquarie\nProcessing Record 11 of Set 10 | statesville\nProcessing Record 12 of Set 10 | acajutla\nProcessing Record 13 of Set 10 | rantepao\nProcessing Record 14 of Set 10 | sinnamary\nProcessing Record 15 of Set 10 | anju\nProcessing Record 16 of Set 10 | tessalit\nProcessing Record 17 of Set 10 | logan\nProcessing Record 18 of Set 10 | fort-shevchenko\nProcessing Record 19 of Set 10 | kitimat\nProcessing Record 20 of Set 10 | kamenskoye\nCity not found. Skipping...\nProcessing Record 21 of Set 10 | nagapattinam\nProcessing Record 22 of Set 10 | verkhoyansk\nProcessing Record 23 of Set 10 | kamenka\nProcessing Record 24 of Set 10 | sal rei\nProcessing Record 25 of Set 10 | port shepstone\nProcessing Record 26 of Set 10 | meulaboh\nProcessing Record 27 of Set 10 | zhoucheng\nProcessing Record 28 of Set 10 | shasta lake\nProcessing Record 29 of Set 10 | yar-sale\nProcessing Record 30 of Set 10 | guerrero negro\nProcessing Record 31 of Set 10 | severo-yeniseyskiy\nProcessing Record 32 of Set 10 | hovd\nProcessing Record 33 of Set 10 | maputo\nProcessing Record 34 of Set 10 | sioux lookout\nProcessing Record 35 of Set 10 | kathu\nProcessing Record 36 of Set 10 | malakal\nProcessing Record 37 of Set 10 | aswan\nProcessing Record 38 of Set 10 | syracuse\nProcessing Record 39 of Set 10 | dickson\nProcessing Record 40 of Set 10 | sydney\nProcessing Record 41 of Set 10 | merrill\nProcessing Record 42 of Set 10 | thessalon\nProcessing Record 43 of Set 10 | caconda\nProcessing Record 44 of Set 10 | la ronge\nProcessing Record 45 of Set 10 | biloela\nProcessing Record 46 of Set 10 | weiser\nProcessing Record 47 of Set 10 | tovste\nProcessing Record 48 of Set 10 | hirara\nProcessing Record 49 of Set 10 | najran\nProcessing Record 50 of Set 10 | broome\nProcessing Record 1 of Set 11 | bengkulu\nProcessing Record 2 of Set 11 | kalga\nProcessing Record 3 of Set 11 | malampaka\nProcessing Record 4 of Set 11 | valley city\nProcessing Record 5 of Set 11 | saryagash\nProcessing Record 6 of Set 11 | yulara\nProcessing Record 7 of Set 11 | matipo\nProcessing Record 8 of Set 11 | uglovskoye\nProcessing Record 9 of Set 11 | heihe\nProcessing Record 10 of Set 11 | vagur\nProcessing Record 11 of Set 11 | mazamari\nProcessing Record 12 of Set 11 | itaberai\nProcessing Record 13 of Set 11 | peace river\nProcessing Record 14 of Set 11 | turinsk\nProcessing Record 15 of Set 11 | merauke\nProcessing Record 16 of Set 11 | akyab\nProcessing Record 17 of Set 11 | nizip\nProcessing Record 18 of Set 11 | oum hadjer\nProcessing Record 19 of Set 11 | la libertad\nProcessing Record 20 of Set 11 | inderborskiy\nCity not found. Skipping...\nProcessing Record 21 of Set 11 | srandakan\nProcessing Record 22 of Set 11 | dhali\nProcessing Record 23 of Set 11 | nautla\nProcessing Record 24 of Set 11 | zilair\nProcessing Record 25 of Set 11 | tsiroanomandidy\nProcessing Record 26 of Set 11 | kununurra\nProcessing Record 27 of Set 11 | muriwai beach\nProcessing Record 28 of Set 11 | vaitupu\nCity not found. Skipping...\nProcessing Record 29 of Set 11 | mandurah\nProcessing Record 30 of Set 11 | rockland\nProcessing Record 31 of Set 11 | melivoia\nProcessing Record 32 of Set 11 | ocos\nProcessing Record 33 of Set 11 | aksarka\nProcessing Record 34 of Set 11 | farmington\nProcessing Record 35 of Set 11 | nacala\nProcessing Record 36 of Set 11 | ust-ishim\nProcessing Record 37 of Set 11 | penzance\nProcessing Record 38 of Set 11 | louisbourg\nCity not found. Skipping...\nProcessing Record 39 of Set 11 | gisborne\nProcessing Record 40 of Set 11 | san policarpo\nProcessing Record 41 of Set 11 | kakonko\nProcessing Record 42 of Set 11 | bani\nProcessing Record 43 of Set 11 | sumbe\nProcessing Record 44 of Set 11 | keuruu\nProcessing Record 45 of Set 11 | pangoa\nProcessing Record 46 of Set 11 | nardaran\nProcessing Record 47 of Set 11 | cornwall\nProcessing Record 48 of Set 11 | kayerkan\nProcessing Record 49 of Set 11 | progreso\nProcessing Record 50 of Set 11 | dolbeau\nCity not found. Skipping...\nProcessing Record 1 of Set 12 | uruzgan\nProcessing Record 2 of Set 12 | mchinji\nProcessing Record 3 of Set 12 | dali\nProcessing Record 4 of Set 12 | mafeteng\nProcessing Record 5 of Set 12 | kinwat\nProcessing Record 6 of Set 12 | pahrump\nProcessing Record 7 of Set 12 | genhe\nProcessing Record 8 of Set 12 | shebunino\nProcessing Record 9 of Set 12 | havoysund\nProcessing Record 10 of Set 12 | ruteng\nProcessing Record 11 of Set 12 | eyl\nProcessing Record 12 of Set 12 | piacabucu\nProcessing Record 13 of Set 12 | umm durman\nCity not found. Skipping...\nProcessing Record 14 of Set 12 | karamay\nCity not found. Skipping...\nProcessing Record 15 of Set 12 | coruripe\nProcessing Record 16 of Set 12 | seoul\nProcessing Record 17 of Set 12 | kamphaeng phet\nProcessing Record 18 of Set 12 | koulikoro\nProcessing Record 19 of Set 12 | altay\nProcessing Record 20 of Set 12 | sokolka\nProcessing Record 21 of Set 12 | tigre\nProcessing Record 22 of Set 12 | mahanoro\nProcessing Record 23 of Set 12 | tecpan\nProcessing Record 24 of Set 12 | ozubulu\nProcessing Record 25 of Set 12 | buariki\nCity not found. Skipping...\nProcessing Record 26 of Set 12 | karaul\nCity not found. Skipping...\nProcessing Record 27 of Set 12 | lata\nProcessing Record 28 of Set 12 | itarema\nProcessing Record 29 of Set 12 | praia da vitoria\nProcessing Record 30 of Set 12 | tayu\nProcessing Record 31 of Set 12 | ardesen\nProcessing Record 32 of Set 12 | bezopasnoye\nProcessing Record 33 of Set 12 | humberto de campos\nProcessing Record 34 of Set 12 | oranjestad\nProcessing Record 35 of Set 12 | sidney\nProcessing Record 36 of Set 12 | csongrad\nProcessing Record 37 of Set 12 | bichena\nProcessing Record 38 of Set 12 | tashtyp\nProcessing Record 39 of Set 12 | mercedes\nProcessing Record 40 of Set 12 | kazalinsk\nCity not found. Skipping...\nProcessing Record 41 of Set 12 | terny\nProcessing Record 42 of Set 12 | alofi\nProcessing Record 43 of Set 12 | falealupo\nCity not found. Skipping...\nProcessing Record 44 of Set 12 | vilyuysk\nProcessing Record 45 of Set 12 | couva\nProcessing Record 46 of Set 12 | tuggurt\nCity not found. Skipping...\nProcessing Record 47 of Set 12 | chateau-thierry\nProcessing Record 48 of Set 12 | at-bashi\nProcessing Record 49 of Set 12 | manono\nProcessing Record 50 of Set 12 | burica\nCity not found. Skipping...\nProcessing Record 1 of Set 13 | chelmek\nProcessing Record 2 of Set 13 | razdolinsk\nProcessing Record 3 of Set 13 | waterloo\nProcessing Record 4 of Set 13 | chalchihuites\nProcessing Record 5 of Set 13 | kerrville\n-----------------------------\nData Retrieval Complete      \n-----------------------------\n"
    }
   ],
   "source": [
    "# Create an empty list to hold the weather data.\n",
    "city_data = []\n",
    "# Print the beginning of the logging.\n",
    "print(\"Beginning Data Retrieval     \")\n",
    "print(\"-----------------------------\")\n",
    "\n",
    "# Create counters.\n",
    "record_count = 1\n",
    "set_count = 1\n",
    "\n",
    "\n",
    "# Loop through all the cities in the list.\n",
    "for i, city in enumerate(cities):\n",
    "\n",
    "    # Group cities in sets of 50 for logging purposes.\n",
    "    if (i % 50 == 0 and i >= 50):\n",
    "        set_count += 1\n",
    "        record_count = 1\n",
    "    # Create endpoint URL with each city.\n",
    "    city_url = url + \"&q=\" + city.replace(\" \",\"+\")\n",
    "\n",
    "    # Log the URL, record, and set numbers and the city.\n",
    "    print(f\"Processing Record {record_count} of Set {set_count} | {city}\")\n",
    "    # Add 1 to the record count.\n",
    "    record_count += 1\n",
    "   \n",
    "    # Run an API request for each of the cities.\n",
    "    try:\n",
    "        # Parse the JSON and retrieve data.\n",
    "        city_weather = requests.get(city_url).json()\n",
    "        # Parse out the needed data.\n",
    "        city_lat = city_weather[\"coord\"][\"lat\"]\n",
    "        city_lng = city_weather[\"coord\"][\"lon\"]\n",
    "        city_max_temp = city_weather[\"main\"][\"temp_max\"]\n",
    "        city_humidity = city_weather[\"main\"][\"humidity\"]\n",
    "        city_clouds = city_weather[\"clouds\"][\"all\"]\n",
    "        city_wind = city_weather[\"wind\"][\"speed\"]\n",
    "        city_country = city_weather[\"sys\"][\"country\"]\n",
    "        WeatherDescriptionList  = city_weather[\"weather\"]\n",
    "        WeatherDescription = WeatherDescriptionList[0][\"description\"]\n",
    "        try:\n",
    "            Rain1HR = \"{:.1f}\".format(city_weather[\"rain\"][\"1h\"] / 25.4)\n",
    "        except:\n",
    "            Rain1HR = \"{:.1f}\".format(0)\n",
    "        try:\n",
    "            Snow1HR = \"{:.1f}\".format(city_weather[\"snow\"][\"1h\"] / 25.4)\n",
    "        except:\n",
    "            Snow1HR = \"{:.1f}\".format(0)\n",
    "        # Convert the date to ISO standard.\n",
    "        city_date = datetime.utcfromtimestamp(city_weather[\"dt\"]).strftime('%Y-%m-%d %H:%M:%S')\n",
    "        # Append the city information into city_data list.\n",
    "        city_data.append({\"City\": city.title(),\n",
    "                          \"Country\": city_country,\n",
    "                          \"Lat\": city_lat,\n",
    "                          \"Lng\": city_lng,\n",
    "                          \"Max Temp\": city_max_temp,\n",
    "                          \"Humidity\": city_humidity,\n",
    "                          \"Cloudiness\": city_clouds,\n",
    "                          \"Wind Speed\": city_wind,\n",
    "                          \"Current Description\" : WeatherDescription,\n",
    "                          \"Rain (Inches)\" : Rain1HR,\n",
    "                          \"Snow (Inches)\" : Snow1HR,\n",
    "                          \"Date\" : city_date})\n",
    "\n",
    "# If an error is experienced, skip the city.\n",
    "    except:\n",
    "        print(\"City not found. Skipping...\")\n",
    "        pass\n",
    "\n",
    "# Indicate that Data Loading is complete.\n",
    "print(\"-----------------------------\")\n",
    "print(\"Data Retrieval Complete      \")\n",
    "print(\"-----------------------------\")"
   ]
  },
  {
   "cell_type": "code",
   "execution_count": 15,
   "metadata": {},
   "outputs": [
    {
     "output_type": "execute_result",
     "data": {
      "text/plain": "           City Country    Lat     Lng  Max Temp  Humidity  Cloudiness  \\\n0       Mataura      NZ -46.19  168.86     41.38        91         100   \n1    Hambantota      LK   6.12   81.12     78.80       100          40   \n2        Laguna      US  38.42 -121.42     84.99        43           0   \n3          Lebu      CL -37.62  -73.65     53.69        93         100   \n4     Mahebourg      MU -20.41   57.70     71.60        68          75   \n5        Avarua      CK -21.21 -159.78     75.20        73          20   \n6    Georgetown      MY   5.41  100.34     80.60        94          20   \n7  Punta Arenas      CL -53.15  -70.92     37.40        77          99   \n8         Rafai      CF   4.95   23.92     70.45        95          55   \n9           Vao      NC -22.67  167.48     67.33        73           0   \n\n   Wind Speed          Current Description Rain (Inches) Snow (Inches)  \\\n0        5.75              overcast clouds           0.0           0.0   \n1        3.36             scattered clouds           0.0           0.0   \n2        1.01                    clear sky           0.0           0.0   \n3       24.94                   light rain           0.0           0.0   \n4       17.22  light intensity shower rain           0.0           0.0   \n5       10.29                   few clouds           0.0           0.0   \n6        3.87                   few clouds           0.0           0.0   \n7       23.04              overcast clouds           0.0           0.0   \n8        1.45                broken clouds           0.0           0.0   \n9       23.20                    clear sky           0.0           0.0   \n\n                  Date  \n0  2020-07-09 18:44:51  \n1  2020-07-09 18:44:51  \n2  2020-07-09 18:44:51  \n3  2020-07-09 18:44:51  \n4  2020-07-09 18:44:52  \n5  2020-07-09 18:44:52  \n6  2020-07-09 18:44:52  \n7  2020-07-09 18:40:07  \n8  2020-07-09 18:44:52  \n9  2020-07-09 18:35:06  ",
      "text/html": "<div>\n<style scoped>\n    .dataframe tbody tr th:only-of-type {\n        vertical-align: middle;\n    }\n\n    .dataframe tbody tr th {\n        vertical-align: top;\n    }\n\n    .dataframe thead th {\n        text-align: right;\n    }\n</style>\n<table border=\"1\" class=\"dataframe\">\n  <thead>\n    <tr style=\"text-align: right;\">\n      <th></th>\n      <th>City</th>\n      <th>Country</th>\n      <th>Lat</th>\n      <th>Lng</th>\n      <th>Max Temp</th>\n      <th>Humidity</th>\n      <th>Cloudiness</th>\n      <th>Wind Speed</th>\n      <th>Current Description</th>\n      <th>Rain (Inches)</th>\n      <th>Snow (Inches)</th>\n      <th>Date</th>\n    </tr>\n  </thead>\n  <tbody>\n    <tr>\n      <th>0</th>\n      <td>Mataura</td>\n      <td>NZ</td>\n      <td>-46.19</td>\n      <td>168.86</td>\n      <td>41.38</td>\n      <td>91</td>\n      <td>100</td>\n      <td>5.75</td>\n      <td>overcast clouds</td>\n      <td>0.0</td>\n      <td>0.0</td>\n      <td>2020-07-09 18:44:51</td>\n    </tr>\n    <tr>\n      <th>1</th>\n      <td>Hambantota</td>\n      <td>LK</td>\n      <td>6.12</td>\n      <td>81.12</td>\n      <td>78.80</td>\n      <td>100</td>\n      <td>40</td>\n      <td>3.36</td>\n      <td>scattered clouds</td>\n      <td>0.0</td>\n      <td>0.0</td>\n      <td>2020-07-09 18:44:51</td>\n    </tr>\n    <tr>\n      <th>2</th>\n      <td>Laguna</td>\n      <td>US</td>\n      <td>38.42</td>\n      <td>-121.42</td>\n      <td>84.99</td>\n      <td>43</td>\n      <td>0</td>\n      <td>1.01</td>\n      <td>clear sky</td>\n      <td>0.0</td>\n      <td>0.0</td>\n      <td>2020-07-09 18:44:51</td>\n    </tr>\n    <tr>\n      <th>3</th>\n      <td>Lebu</td>\n      <td>CL</td>\n      <td>-37.62</td>\n      <td>-73.65</td>\n      <td>53.69</td>\n      <td>93</td>\n      <td>100</td>\n      <td>24.94</td>\n      <td>light rain</td>\n      <td>0.0</td>\n      <td>0.0</td>\n      <td>2020-07-09 18:44:51</td>\n    </tr>\n    <tr>\n      <th>4</th>\n      <td>Mahebourg</td>\n      <td>MU</td>\n      <td>-20.41</td>\n      <td>57.70</td>\n      <td>71.60</td>\n      <td>68</td>\n      <td>75</td>\n      <td>17.22</td>\n      <td>light intensity shower rain</td>\n      <td>0.0</td>\n      <td>0.0</td>\n      <td>2020-07-09 18:44:52</td>\n    </tr>\n    <tr>\n      <th>5</th>\n      <td>Avarua</td>\n      <td>CK</td>\n      <td>-21.21</td>\n      <td>-159.78</td>\n      <td>75.20</td>\n      <td>73</td>\n      <td>20</td>\n      <td>10.29</td>\n      <td>few clouds</td>\n      <td>0.0</td>\n      <td>0.0</td>\n      <td>2020-07-09 18:44:52</td>\n    </tr>\n    <tr>\n      <th>6</th>\n      <td>Georgetown</td>\n      <td>MY</td>\n      <td>5.41</td>\n      <td>100.34</td>\n      <td>80.60</td>\n      <td>94</td>\n      <td>20</td>\n      <td>3.87</td>\n      <td>few clouds</td>\n      <td>0.0</td>\n      <td>0.0</td>\n      <td>2020-07-09 18:44:52</td>\n    </tr>\n    <tr>\n      <th>7</th>\n      <td>Punta Arenas</td>\n      <td>CL</td>\n      <td>-53.15</td>\n      <td>-70.92</td>\n      <td>37.40</td>\n      <td>77</td>\n      <td>99</td>\n      <td>23.04</td>\n      <td>overcast clouds</td>\n      <td>0.0</td>\n      <td>0.0</td>\n      <td>2020-07-09 18:40:07</td>\n    </tr>\n    <tr>\n      <th>8</th>\n      <td>Rafai</td>\n      <td>CF</td>\n      <td>4.95</td>\n      <td>23.92</td>\n      <td>70.45</td>\n      <td>95</td>\n      <td>55</td>\n      <td>1.45</td>\n      <td>broken clouds</td>\n      <td>0.0</td>\n      <td>0.0</td>\n      <td>2020-07-09 18:44:52</td>\n    </tr>\n    <tr>\n      <th>9</th>\n      <td>Vao</td>\n      <td>NC</td>\n      <td>-22.67</td>\n      <td>167.48</td>\n      <td>67.33</td>\n      <td>73</td>\n      <td>0</td>\n      <td>23.20</td>\n      <td>clear sky</td>\n      <td>0.0</td>\n      <td>0.0</td>\n      <td>2020-07-09 18:35:06</td>\n    </tr>\n  </tbody>\n</table>\n</div>"
     },
     "metadata": {},
     "execution_count": 15
    }
   ],
   "source": [
    "city_data_df = pd.DataFrame(city_data)\n",
    "city_data_df.head(10)"
   ]
  },
  {
   "cell_type": "code",
   "execution_count": 16,
   "metadata": {},
   "outputs": [],
   "source": [
    "# Create the output file (CSV).\n",
    "output_data_file = os.path.join(\"weather_data\",\"WeatherPy_database.csv\")\n",
    "# Export the City_Data into a CSV.\n",
    "city_data_df.to_csv(output_data_file, index_label=\"City_ID\")"
   ]
  },
  {
   "cell_type": "code",
   "execution_count": null,
   "metadata": {},
   "outputs": [],
   "source": []
  }
 ],
 "metadata": {
  "language_info": {
   "codemirror_mode": {
    "name": "ipython",
    "version": 3
   },
   "file_extension": ".py",
   "mimetype": "text/x-python",
   "name": "python",
   "nbconvert_exporter": "python",
   "pygments_lexer": "ipython3",
   "version": "3.7.7-final"
  },
  "orig_nbformat": 2,
  "kernelspec": {
   "name": "pythondata",
   "display_name": "PythonData"
  }
 },
 "nbformat": 4,
 "nbformat_minor": 2
}