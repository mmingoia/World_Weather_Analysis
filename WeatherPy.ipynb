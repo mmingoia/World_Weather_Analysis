{
 "cells": [
  {
   "cell_type": "code",
   "execution_count": 1,
   "metadata": {},
   "outputs": [],
   "source": [
    "# Import the dependencies.\n",
    "import pandas as pd\n",
    "import matplotlib.pyplot as plt\n",
    "import numpy as np\n",
    "from citipy import citipy\n",
    "\n",
    "# Import the requests library.\n",
    "import requests\n",
    "# Import the API key.\n",
    "from config import weather_api_key\n",
    "\n",
    "# Import the datetime module from the datetime library.\n",
    "from datetime import datetime\n"
   ]
  },
  {
   "cell_type": "code",
   "execution_count": 2,
   "metadata": {},
   "outputs": [
    {
     "output_type": "execute_result",
     "data": {
      "text/plain": "<zip at 0x1ec3978f6c8>"
     },
     "metadata": {},
     "execution_count": 2
    }
   ],
   "source": [
    "# Create a set of random latitude and longitude combinations.\n",
    "lats = np.random.uniform(low=-90.000, high=90.000, size=1500)\n",
    "lngs = np.random.uniform(low=-180.000, high=180.000, size=1500)\n",
    "lat_lngs = zip(lats, lngs)\n",
    "lat_lngs "
   ]
  },
  {
   "cell_type": "code",
   "execution_count": 3,
   "metadata": {},
   "outputs": [],
   "source": [
    "# Add the latitudes and longitudes to a list.\n",
    "coordinates = list(lat_lngs)"
   ]
  },
  {
   "cell_type": "code",
   "execution_count": 4,
   "metadata": {},
   "outputs": [
    {
     "output_type": "execute_result",
     "data": {
      "text/plain": "627"
     },
     "metadata": {},
     "execution_count": 4
    }
   ],
   "source": [
    "# Create a list for holding the cities.\n",
    "cities = []\n",
    "# Identify the nearest city for each latitude and longitude combination.\n",
    "for coordinate in coordinates:\n",
    "    city = citipy.nearest_city(coordinate[0], coordinate[1]).city_name\n",
    "    \n",
    "    # If the city is unique, then we will add it to the cities list.\n",
    "    if city not in cities:\n",
    "        cities.append(city)\n",
    "# Print the city count to confirm sufficient count.\n",
    "len(cities)"
   ]
  },
  {
   "cell_type": "code",
   "execution_count": 5,
   "metadata": {
    "tags": []
   },
   "outputs": [],
   "source": [
    "# Starting URL for Weather Map API Call.\n",
    "url = \"http://api.openweathermap.org/data/2.5/weather?units=Imperial&APPID=\" + weather_api_key"
   ]
  },
  {
   "cell_type": "code",
   "execution_count": 6,
   "metadata": {
    "tags": [
     "outputPrepend"
    ]
   },
   "outputs": [
    {
     "output_type": "stream",
     "name": "stdout",
     "text": "g Record 25 of Set 4 | khatanga\nProcessing Record 26 of Set 4 | magadan\nProcessing Record 27 of Set 4 | tungor\nProcessing Record 28 of Set 4 | stykkisholmur\nProcessing Record 29 of Set 4 | hofn\nProcessing Record 30 of Set 4 | allapalli\nProcessing Record 31 of Set 4 | yumen\nProcessing Record 32 of Set 4 | tombouctou\nProcessing Record 33 of Set 4 | xuanzhou\nProcessing Record 34 of Set 4 | azanka\nProcessing Record 35 of Set 4 | barcelos\nProcessing Record 36 of Set 4 | san carlos\nProcessing Record 37 of Set 4 | scarborough\nProcessing Record 38 of Set 4 | sao joao da barra\nProcessing Record 39 of Set 4 | mercedes\nProcessing Record 40 of Set 4 | mar del plata\nProcessing Record 41 of Set 4 | vallenar\nProcessing Record 42 of Set 4 | karabulak\nProcessing Record 43 of Set 4 | mehamn\nProcessing Record 44 of Set 4 | new philadelphia\nProcessing Record 45 of Set 4 | narsaq\nProcessing Record 46 of Set 4 | chokurdakh\nProcessing Record 47 of Set 4 | carnarvon\nProcessing Record 48 of Set 4 | siavonga\nProcessing Record 49 of Set 4 | atar\nProcessing Record 50 of Set 4 | yomitan\nCity not found. Skipping...\nProcessing Record 1 of Set 5 | arlit\nProcessing Record 2 of Set 5 | santa rosa\nProcessing Record 3 of Set 5 | alofi\nProcessing Record 4 of Set 5 | tacuarembo\nProcessing Record 5 of Set 5 | itoman\nProcessing Record 6 of Set 5 | thompson\nProcessing Record 7 of Set 5 | ilulissat\nProcessing Record 8 of Set 5 | kamenskoye\nCity not found. Skipping...\nProcessing Record 9 of Set 5 | tasiilaq\nProcessing Record 10 of Set 5 | iquique\nProcessing Record 11 of Set 5 | necochea\nProcessing Record 12 of Set 5 | plavsk\nProcessing Record 13 of Set 5 | barentsburg\nCity not found. Skipping...\nProcessing Record 14 of Set 5 | suraabad\nProcessing Record 15 of Set 5 | rio grande\nProcessing Record 16 of Set 5 | qui nhon\nProcessing Record 17 of Set 5 | kavaratti\nProcessing Record 18 of Set 5 | nantucket\nProcessing Record 19 of Set 5 | portland\nProcessing Record 20 of Set 5 | umzimvubu\nCity not found. Skipping...\nProcessing Record 21 of Set 5 | crixas\nProcessing Record 22 of Set 5 | illoqqortoormiut\nCity not found. Skipping...\nProcessing Record 23 of Set 5 | morro bay\nProcessing Record 24 of Set 5 | hasaki\nProcessing Record 25 of Set 5 | torbay\nProcessing Record 26 of Set 5 | aykhal\nProcessing Record 27 of Set 5 | kiruna\nProcessing Record 28 of Set 5 | sinfra\nProcessing Record 29 of Set 5 | mana\nProcessing Record 30 of Set 5 | codrington\nProcessing Record 31 of Set 5 | mirabad\nProcessing Record 32 of Set 5 | iqaluit\nProcessing Record 33 of Set 5 | bayburt\nProcessing Record 34 of Set 5 | kodinsk\nProcessing Record 35 of Set 5 | orangeville\nProcessing Record 36 of Set 5 | candido mendes\nProcessing Record 37 of Set 5 | ipixuna\nProcessing Record 38 of Set 5 | mecca\nProcessing Record 39 of Set 5 | beringovskiy\nProcessing Record 40 of Set 5 | diamantina\nProcessing Record 41 of Set 5 | praia da vitoria\nProcessing Record 42 of Set 5 | golden\nProcessing Record 43 of Set 5 | cidreira\nProcessing Record 44 of Set 5 | port hedland\nProcessing Record 45 of Set 5 | marawi\nProcessing Record 46 of Set 5 | baghdad\nProcessing Record 47 of Set 5 | bolungarvik\nCity not found. Skipping...\nProcessing Record 48 of Set 5 | challapata\nProcessing Record 49 of Set 5 | wajir\nProcessing Record 50 of Set 5 | pedernales\nProcessing Record 1 of Set 6 | toktogul\nProcessing Record 2 of Set 6 | walvis bay\nProcessing Record 3 of Set 6 | henties bay\nProcessing Record 4 of Set 6 | andapa\nProcessing Record 5 of Set 6 | hobyo\nProcessing Record 6 of Set 6 | adjumani\nProcessing Record 7 of Set 6 | monrovia\nProcessing Record 8 of Set 6 | chicama\nProcessing Record 9 of Set 6 | hami\nProcessing Record 10 of Set 6 | lamu\nProcessing Record 11 of Set 6 | omboue\nProcessing Record 12 of Set 6 | nsoko\nProcessing Record 13 of Set 6 | poum\nProcessing Record 14 of Set 6 | rawson\nProcessing Record 15 of Set 6 | quatre cocos\nProcessing Record 16 of Set 6 | karaul\nCity not found. Skipping...\nProcessing Record 17 of Set 6 | pirajui\nProcessing Record 18 of Set 6 | bose\nProcessing Record 19 of Set 6 | salalah\nProcessing Record 20 of Set 6 | mys shmidta\nCity not found. Skipping...\nProcessing Record 21 of Set 6 | hlohovec\nProcessing Record 22 of Set 6 | fairbanks\nProcessing Record 23 of Set 6 | port lincoln\nProcessing Record 24 of Set 6 | awbari\nProcessing Record 25 of Set 6 | los llanos de aridane\nProcessing Record 26 of Set 6 | havelock\nProcessing Record 27 of Set 6 | hambantota\nProcessing Record 28 of Set 6 | honiara\nProcessing Record 29 of Set 6 | te anau\nProcessing Record 30 of Set 6 | katsuura\nProcessing Record 31 of Set 6 | plesetsk\nProcessing Record 32 of Set 6 | provideniya\nProcessing Record 33 of Set 6 | ozernovskiy\nProcessing Record 34 of Set 6 | irbeyskoye\nProcessing Record 35 of Set 6 | conceicao da barra\nProcessing Record 36 of Set 6 | hithadhoo\nProcessing Record 37 of Set 6 | codajas\nProcessing Record 38 of Set 6 | cabra\nProcessing Record 39 of Set 6 | gorontalo\nProcessing Record 40 of Set 6 | artyk\nCity not found. Skipping...\nProcessing Record 41 of Set 6 | lasa\nProcessing Record 42 of Set 6 | aksarka\nProcessing Record 43 of Set 6 | nagornskiy\nProcessing Record 44 of Set 6 | bilma\nProcessing Record 45 of Set 6 | half moon bay\nProcessing Record 46 of Set 6 | solnechnyy\nProcessing Record 47 of Set 6 | pevek\nProcessing Record 48 of Set 6 | faya\nProcessing Record 49 of Set 6 | dzhalil\nProcessing Record 50 of Set 6 | fukue\nProcessing Record 1 of Set 7 | nhulunbuy\nProcessing Record 2 of Set 7 | tsienyane\nCity not found. Skipping...\nProcessing Record 3 of Set 7 | vardo\nProcessing Record 4 of Set 7 | berwick\nProcessing Record 5 of Set 7 | lagunillas\nProcessing Record 6 of Set 7 | yar-sale\nProcessing Record 7 of Set 7 | pangkalanbuun\nProcessing Record 8 of Set 7 | tiksi\nProcessing Record 9 of Set 7 | opunake\nProcessing Record 10 of Set 7 | marcona\nCity not found. Skipping...\nProcessing Record 11 of Set 7 | sao filipe\nProcessing Record 12 of Set 7 | hamilton\nProcessing Record 13 of Set 7 | oksfjord\nProcessing Record 14 of Set 7 | yambio\nProcessing Record 15 of Set 7 | bathsheba\nProcessing Record 16 of Set 7 | sisimiut\nProcessing Record 17 of Set 7 | korla\nProcessing Record 18 of Set 7 | cockburn town\nProcessing Record 19 of Set 7 | bela palanka\nProcessing Record 20 of Set 7 | isangel\nProcessing Record 21 of Set 7 | sorland\nProcessing Record 22 of Set 7 | gao\nProcessing Record 23 of Set 7 | dalbandin\nProcessing Record 24 of Set 7 | kyela\nProcessing Record 25 of Set 7 | amuntai\nProcessing Record 26 of Set 7 | saint-louis\nProcessing Record 27 of Set 7 | nguiu\nCity not found. Skipping...\nProcessing Record 28 of Set 7 | kjollefjord\nProcessing Record 29 of Set 7 | sao gabriel da cachoeira\nProcessing Record 30 of Set 7 | key west\nProcessing Record 31 of Set 7 | khanpur\nProcessing Record 32 of Set 7 | fethiye\nProcessing Record 33 of Set 7 | goundam\nProcessing Record 34 of Set 7 | faanui\nProcessing Record 35 of Set 7 | at-bashi\nProcessing Record 36 of Set 7 | tsihombe\nCity not found. Skipping...\nProcessing Record 37 of Set 7 | maltahohe\nProcessing Record 38 of Set 7 | trincomalee\nProcessing Record 39 of Set 7 | konstantinovskaya\nProcessing Record 40 of Set 7 | nortelandia\nProcessing Record 41 of Set 7 | san patricio\nProcessing Record 42 of Set 7 | muros\nProcessing Record 43 of Set 7 | broome\nProcessing Record 44 of Set 7 | formoso do araguaia\nCity not found. Skipping...\nProcessing Record 45 of Set 7 | thinadhoo\nProcessing Record 46 of Set 7 | virginia beach\nProcessing Record 47 of Set 7 | margate\nProcessing Record 48 of Set 7 | pochutla\nProcessing Record 49 of Set 7 | khuzhir\nProcessing Record 50 of Set 7 | samana\nProcessing Record 1 of Set 8 | georgiyevskoye\nProcessing Record 2 of Set 8 | kitimat\nProcessing Record 3 of Set 8 | nemuro\nProcessing Record 4 of Set 8 | tigil\nProcessing Record 5 of Set 8 | yulara\nProcessing Record 6 of Set 8 | arroio grande\nProcessing Record 7 of Set 8 | najran\nProcessing Record 8 of Set 8 | longyearbyen\nProcessing Record 9 of Set 8 | aquin\nProcessing Record 10 of Set 8 | havre-saint-pierre\nProcessing Record 11 of Set 8 | nanortalik\nProcessing Record 12 of Set 8 | port hardy\nProcessing Record 13 of Set 8 | kapit\nProcessing Record 14 of Set 8 | singaraja\nProcessing Record 15 of Set 8 | kruisfontein\nProcessing Record 16 of Set 8 | koygorodok\nProcessing Record 17 of Set 8 | bafia\nProcessing Record 18 of Set 8 | zheleznodorozhnyy\nProcessing Record 19 of Set 8 | taoudenni\nProcessing Record 20 of Set 8 | te karaka\nProcessing Record 21 of Set 8 | bakau\nProcessing Record 22 of Set 8 | belushya guba\nCity not found. Skipping...\nProcessing Record 23 of Set 8 | kigoma\nProcessing Record 24 of Set 8 | mitu\nProcessing Record 25 of Set 8 | iranshahr\nProcessing Record 26 of Set 8 | vila franca do campo\nProcessing Record 27 of Set 8 | sept-iles\nProcessing Record 28 of Set 8 | novita\nProcessing Record 29 of Set 8 | pangoa\nProcessing Record 30 of Set 8 | lavrentiya\nProcessing Record 31 of Set 8 | flin flon\nProcessing Record 32 of Set 8 | madimba\nProcessing Record 33 of Set 8 | voznesenye\nProcessing Record 34 of Set 8 | dunedin\nProcessing Record 35 of Set 8 | cap malheureux\nProcessing Record 36 of Set 8 | lucea\nProcessing Record 37 of Set 8 | tagusao\nProcessing Record 38 of Set 8 | tabou\nProcessing Record 39 of Set 8 | tuatapere\nProcessing Record 40 of Set 8 | sao francisco\nProcessing Record 41 of Set 8 | vaitupu\nCity not found. Skipping...\nProcessing Record 42 of Set 8 | dambulla\nProcessing Record 43 of Set 8 | pangai\nProcessing Record 44 of Set 8 | petropavlovsk-kamchatskiy\nProcessing Record 45 of Set 8 | mrirt\nCity not found. Skipping...\nProcessing Record 46 of Set 8 | skibbereen\nProcessing Record 47 of Set 8 | vostok\nProcessing Record 48 of Set 8 | marsabit\nProcessing Record 49 of Set 8 | calamar\nProcessing Record 50 of Set 8 | el badari\nCity not found. Skipping...\nProcessing Record 1 of Set 9 | carauari\nProcessing Record 2 of Set 9 | haines junction\nProcessing Record 3 of Set 9 | sidi ali\nProcessing Record 4 of Set 9 | alexandria\nProcessing Record 5 of Set 9 | santa barbara\nProcessing Record 6 of Set 9 | grindavik\nProcessing Record 7 of Set 9 | darhan\nProcessing Record 8 of Set 9 | kleck\nCity not found. Skipping...\nProcessing Record 9 of Set 9 | ambulu\nProcessing Record 10 of Set 9 | kamaishi\nProcessing Record 11 of Set 9 | goderich\nProcessing Record 12 of Set 9 | innisfail\nProcessing Record 13 of Set 9 | illela\nProcessing Record 14 of Set 9 | manicore\nProcessing Record 15 of Set 9 | sambava\nProcessing Record 16 of Set 9 | tessalit\nProcessing Record 17 of Set 9 | haverfordwest\nProcessing Record 18 of Set 9 | meulaboh\nProcessing Record 19 of Set 9 | rensvik\nProcessing Record 20 of Set 9 | rapid city\nProcessing Record 21 of Set 9 | ugoofaaru\nProcessing Record 22 of Set 9 | krizevci\nProcessing Record 23 of Set 9 | egvekinot\nProcessing Record 24 of Set 9 | santarem\nProcessing Record 25 of Set 9 | dingle\nProcessing Record 26 of Set 9 | manoel urbano\nProcessing Record 27 of Set 9 | sharanga\nProcessing Record 28 of Set 9 | okha\nProcessing Record 29 of Set 9 | alyangula\nProcessing Record 30 of Set 9 | okhotsk\nProcessing Record 31 of Set 9 | mandalgovi\nProcessing Record 32 of Set 9 | lolua\nCity not found. Skipping...\nProcessing Record 33 of Set 9 | tucano\nProcessing Record 34 of Set 9 | nyurba\nProcessing Record 35 of Set 9 | aklavik\nProcessing Record 36 of Set 9 | aojiang\nProcessing Record 37 of Set 9 | fereydunshahr\nProcessing Record 38 of Set 9 | wanning\nProcessing Record 39 of Set 9 | mahon\nProcessing Record 40 of Set 9 | ilhabela\nProcessing Record 41 of Set 9 | tieli\nProcessing Record 42 of Set 9 | inhambane\nProcessing Record 43 of Set 9 | hirara\nProcessing Record 44 of Set 9 | caravelas\nProcessing Record 45 of Set 9 | susanville\nProcessing Record 46 of Set 9 | laguna\nProcessing Record 47 of Set 9 | bandar-e anzali\nProcessing Record 48 of Set 9 | alekseyevsk\nProcessing Record 49 of Set 9 | whyalla\nProcessing Record 50 of Set 9 | haibowan\nCity not found. Skipping...\nProcessing Record 1 of Set 10 | sulangan\nProcessing Record 2 of Set 10 | vredendal\nProcessing Record 3 of Set 10 | maneadero\nProcessing Record 4 of Set 10 | parabel\nProcessing Record 5 of Set 10 | belawan\nProcessing Record 6 of Set 10 | serov\nProcessing Record 7 of Set 10 | erenhot\nProcessing Record 8 of Set 10 | yashkul\nProcessing Record 9 of Set 10 | cherskiy\nProcessing Record 10 of Set 10 | khandyga\nProcessing Record 11 of Set 10 | mahajanga\nProcessing Record 12 of Set 10 | lucapa\nProcessing Record 13 of Set 10 | mount isa\nProcessing Record 14 of Set 10 | nanchang\nProcessing Record 15 of Set 10 | bargal\nCity not found. Skipping...\nProcessing Record 16 of Set 10 | dawlatabad\nProcessing Record 17 of Set 10 | comlosu mare\nProcessing Record 18 of Set 10 | buchanan\nProcessing Record 19 of Set 10 | peterhead\nProcessing Record 20 of Set 10 | geraldton\nProcessing Record 21 of Set 10 | college\nProcessing Record 22 of Set 10 | salinopolis\nProcessing Record 23 of Set 10 | anadyr\nProcessing Record 24 of Set 10 | tsabong\nProcessing Record 25 of Set 10 | antofagasta\nProcessing Record 26 of Set 10 | moyale\nProcessing Record 27 of Set 10 | sinnamary\nProcessing Record 28 of Set 10 | sao felix do xingu\nProcessing Record 29 of Set 10 | chanderi\nProcessing Record 30 of Set 10 | tateyama\nProcessing Record 31 of Set 10 | north bend\nProcessing Record 32 of Set 10 | ipora\nProcessing Record 33 of Set 10 | vao\nProcessing Record 34 of Set 10 | ruatoria\nCity not found. Skipping...\nProcessing Record 35 of Set 10 | boguchany\nProcessing Record 36 of Set 10 | pedro juan caballero\nProcessing Record 37 of Set 10 | asyut\nProcessing Record 38 of Set 10 | zhitikara\nCity not found. Skipping...\nProcessing Record 39 of Set 10 | el tigre\nProcessing Record 40 of Set 10 | lecce\nProcessing Record 41 of Set 10 | neiafu\nProcessing Record 42 of Set 10 | wagar\nProcessing Record 43 of Set 10 | conceicao do araguaia\nProcessing Record 44 of Set 10 | tongliao\nProcessing Record 45 of Set 10 | thoen\nProcessing Record 46 of Set 10 | nelson bay\nProcessing Record 47 of Set 10 | lensk\nProcessing Record 48 of Set 10 | lewistown\nProcessing Record 49 of Set 10 | roma\nProcessing Record 50 of Set 10 | bowen\nProcessing Record 1 of Set 11 | loreto\nProcessing Record 2 of Set 11 | hispania\nProcessing Record 3 of Set 11 | abu kamal\nProcessing Record 4 of Set 11 | asenovgrad\nProcessing Record 5 of Set 11 | baglung\nProcessing Record 6 of Set 11 | marion\nProcessing Record 7 of Set 11 | okato\nProcessing Record 8 of Set 11 | kilindoni\nProcessing Record 9 of Set 11 | scottsburgh\nCity not found. Skipping...\nProcessing Record 10 of Set 11 | yunjinghong\nCity not found. Skipping...\nProcessing Record 11 of Set 11 | jiroft\nCity not found. Skipping...\nProcessing Record 12 of Set 11 | noyabrsk\nProcessing Record 13 of Set 11 | tawkar\nCity not found. Skipping...\nProcessing Record 14 of Set 11 | cermik\nProcessing Record 15 of Set 11 | tete\nProcessing Record 16 of Set 11 | one hundred mile house\nCity not found. Skipping...\nProcessing Record 17 of Set 11 | uglegorsk\nProcessing Record 18 of Set 11 | kulhudhuffushi\nProcessing Record 19 of Set 11 | puerto escondido\nProcessing Record 20 of Set 11 | suzu\nCity not found. Skipping...\nProcessing Record 21 of Set 11 | gasa\nProcessing Record 22 of Set 11 | tura\nProcessing Record 23 of Set 11 | panaba\nProcessing Record 24 of Set 11 | christchurch\nProcessing Record 25 of Set 11 | svetlogorsk\nProcessing Record 26 of Set 11 | celestun\nProcessing Record 27 of Set 11 | borogontsy\nProcessing Record 28 of Set 11 | shahrud\nProcessing Record 29 of Set 11 | bhadra\nProcessing Record 30 of Set 11 | crab hill\nCity not found. Skipping...\nProcessing Record 31 of Set 11 | sioux lookout\nProcessing Record 32 of Set 11 | ejido\nProcessing Record 33 of Set 11 | navolato\nProcessing Record 34 of Set 11 | ondjiva\nProcessing Record 35 of Set 11 | aflu\nCity not found. Skipping...\nProcessing Record 36 of Set 11 | louisbourg\nCity not found. Skipping...\nProcessing Record 37 of Set 11 | riviere-au-renard\nProcessing Record 38 of Set 11 | biswan\nProcessing Record 39 of Set 11 | hereford\nProcessing Record 40 of Set 11 | kyenjojo\nProcessing Record 41 of Set 11 | riesi\nProcessing Record 42 of Set 11 | itiuba\nProcessing Record 43 of Set 11 | cumana\nProcessing Record 44 of Set 11 | mairana\nProcessing Record 45 of Set 11 | umm kaddadah\nProcessing Record 46 of Set 11 | wiarton\nProcessing Record 47 of Set 11 | lorengau\nProcessing Record 48 of Set 11 | nizhniy kuranakh\nProcessing Record 49 of Set 11 | rosendal\nProcessing Record 50 of Set 11 | camacha\nProcessing Record 1 of Set 12 | sakakah\nProcessing Record 2 of Set 12 | tarma\nProcessing Record 3 of Set 12 | sines\nProcessing Record 4 of Set 12 | hay river\nProcessing Record 5 of Set 12 | buraydah\nProcessing Record 6 of Set 12 | hailar\nProcessing Record 7 of Set 12 | kassala\nProcessing Record 8 of Set 12 | guaranda\nProcessing Record 9 of Set 12 | palasa\nProcessing Record 10 of Set 12 | am timan\nProcessing Record 11 of Set 12 | atbasar\nProcessing Record 12 of Set 12 | burnie\nProcessing Record 13 of Set 12 | vysha\nProcessing Record 14 of Set 12 | miri\nProcessing Record 15 of Set 12 | bubaque\nProcessing Record 16 of Set 12 | bucerias\nProcessing Record 17 of Set 12 | swadlincote\nProcessing Record 18 of Set 12 | touros\nProcessing Record 19 of Set 12 | sola\nProcessing Record 20 of Set 12 | lincoln\nProcessing Record 21 of Set 12 | takoradi\nProcessing Record 22 of Set 12 | pangnirtung\nProcessing Record 23 of Set 12 | bantry\nProcessing Record 24 of Set 12 | loandjili\nProcessing Record 25 of Set 12 | alice springs\nProcessing Record 26 of Set 12 | lumphat\nProcessing Record 27 of Set 12 | yurino\nProcessing Record 28 of Set 12 | charkhi dadri\nProcessing Record 29 of Set 12 | mahanoro\nProcessing Record 30 of Set 12 | hihifo\nCity not found. Skipping...\nProcessing Record 31 of Set 12 | potiskum\nProcessing Record 32 of Set 12 | makakilo city\nProcessing Record 33 of Set 12 | liverpool\nProcessing Record 34 of Set 12 | iringa\nProcessing Record 35 of Set 12 | samarai\nProcessing Record 36 of Set 12 | saint-augustin\nProcessing Record 37 of Set 12 | bontang\nProcessing Record 38 of Set 12 | akom\nProcessing Record 39 of Set 12 | maceio\nProcessing Record 40 of Set 12 | kikwit\nProcessing Record 41 of Set 12 | bridlington\nProcessing Record 42 of Set 12 | prieska\nProcessing Record 43 of Set 12 | paragominas\nProcessing Record 44 of Set 12 | thakurgaon\nProcessing Record 45 of Set 12 | rochefort\nProcessing Record 46 of Set 12 | broken hill\nProcessing Record 47 of Set 12 | auki\nProcessing Record 48 of Set 12 | segamat\nProcessing Record 49 of Set 12 | mae hong son\nProcessing Record 50 of Set 12 | bayevo\nProcessing Record 1 of Set 13 | viedma\nProcessing Record 2 of Set 13 | raudeberg\nProcessing Record 3 of Set 13 | santiago del estero\nProcessing Record 4 of Set 13 | tasbuget\nCity not found. Skipping...\nProcessing Record 5 of Set 13 | yamada\nProcessing Record 6 of Set 13 | trapani\nProcessing Record 7 of Set 13 | narrabri\nProcessing Record 8 of Set 13 | nizwa\nProcessing Record 9 of Set 13 | panalingaan\nProcessing Record 10 of Set 13 | deh rawud\nCity not found. Skipping...\nProcessing Record 11 of Set 13 | port-cartier\nProcessing Record 12 of Set 13 | sabang\nProcessing Record 13 of Set 13 | nyamati\nProcessing Record 14 of Set 13 | mahebourg\nProcessing Record 15 of Set 13 | tumannyy\nCity not found. Skipping...\nProcessing Record 16 of Set 13 | ostrovnoy\nProcessing Record 17 of Set 13 | kibondo\nProcessing Record 18 of Set 13 | paradwip\nCity not found. Skipping...\nProcessing Record 19 of Set 13 | camingawan\nProcessing Record 20 of Set 13 | lyngseidet\nProcessing Record 21 of Set 13 | hazorasp\nProcessing Record 22 of Set 13 | santo antonio do taua\nProcessing Record 23 of Set 13 | matara\nProcessing Record 24 of Set 13 | teknaf\nProcessing Record 25 of Set 13 | xuchang\nProcessing Record 26 of Set 13 | jalu\nProcessing Record 27 of Set 13 | pak thong chai\n-----------------------------\nData Retrieval Complete      \n-----------------------------\n"
    }
   ],
   "source": [
    "# Create an empty list to hold the weather data.\n",
    "city_data = []\n",
    "# Print the beginning of the logging.\n",
    "print(\"Beginning Data Retrieval     \")\n",
    "print(\"-----------------------------\")\n",
    "\n",
    "# Create counters.\n",
    "record_count = 1\n",
    "set_count = 1\n",
    "\n",
    "\n",
    "# Loop through all the cities in the list.\n",
    "for i, city in enumerate(cities):\n",
    "\n",
    "    # Group cities in sets of 50 for logging purposes.\n",
    "    if (i % 50 == 0 and i >= 50):\n",
    "        set_count += 1\n",
    "        record_count = 1\n",
    "    # Create endpoint URL with each city.\n",
    "    city_url = url + \"&q=\" + city.replace(\" \",\"+\")\n",
    "\n",
    "    # Log the URL, record, and set numbers and the city.\n",
    "    print(f\"Processing Record {record_count} of Set {set_count} | {city}\")\n",
    "    # Add 1 to the record count.\n",
    "    record_count += 1\n",
    "   \n",
    "    # Run an API request for each of the cities.\n",
    "    try:\n",
    "        # Parse the JSON and retrieve data.\n",
    "        city_weather = requests.get(city_url).json()\n",
    "        # Parse out the needed data.\n",
    "        city_lat = city_weather[\"coord\"][\"lat\"]\n",
    "        city_lng = city_weather[\"coord\"][\"lon\"]\n",
    "        city_max_temp = city_weather[\"main\"][\"temp_max\"]\n",
    "        city_humidity = city_weather[\"main\"][\"humidity\"]\n",
    "        city_clouds = city_weather[\"clouds\"][\"all\"]\n",
    "        city_wind = city_weather[\"wind\"][\"speed\"]\n",
    "        city_country = city_weather[\"sys\"][\"country\"]\n",
    "        # Convert the date to ISO standard.\n",
    "        city_date = datetime.utcfromtimestamp(city_weather[\"dt\"]).strftime('%Y-%m-%d %H:%M:%S')\n",
    "        # Append the city information into city_data list.\n",
    "        city_data.append({\"City\": city.title(),\n",
    "                          \"Lat\": city_lat,\n",
    "                          \"Lng\": city_lng,\n",
    "                          \"Max Temp\": city_max_temp,\n",
    "                          \"Humidity\": city_humidity,\n",
    "                          \"Cloudiness\": city_clouds,\n",
    "                          \"Wind Speed\": city_wind,\n",
    "                          \"Country\": city_country,\n",
    "                          \"Date\": city_date})\n",
    "\n",
    "# If an error is experienced, skip the city.\n",
    "    except:\n",
    "        print(\"City not found. Skipping...\")\n",
    "        pass\n",
    "\n",
    "# Indicate that Data Loading is complete.\n",
    "print(\"-----------------------------\")\n",
    "print(\"Data Retrieval Complete      \")\n",
    "print(\"-----------------------------\")"
   ]
  },
  {
   "cell_type": "code",
   "execution_count": 7,
   "metadata": {},
   "outputs": [
    {
     "output_type": "execute_result",
     "data": {
      "text/plain": "              City    Lat     Lng  Max Temp  Humidity  Cloudiness  Wind Speed  \\\n0            Ramon  16.78  121.53     73.99        89          18        2.46   \n1          Rikitea -23.12 -134.97     73.71        81          93        9.10   \n2         Tevaitoa -16.78 -151.50     79.36        79          66       16.28   \n3          Panguna  -6.32  155.48     67.24        95          95        1.99   \n4   Ribeira Grande  38.52  -28.70     73.40        64          20       11.41   \n5          Kavieng  -2.57  150.80     82.15        77          73       13.73   \n6         Flinders -34.58  150.86     48.00        84          13        1.01   \n7  Bambous Virieux -20.34   57.76     73.40        94          75        4.70   \n8          Chapais  49.78  -74.85     78.80        26           1        5.82   \n9           Albany  42.60  -73.97     89.01        34           5        5.10   \n\n  Country                 Date  \n0      PH  2020-07-06 20:07:56  \n1      PF  2020-07-06 20:07:56  \n2      PF  2020-07-06 20:07:56  \n3      PG  2020-07-06 20:07:56  \n4      PT  2020-07-06 20:07:56  \n5      PG  2020-07-06 20:07:57  \n6      AU  2020-07-06 20:07:57  \n7      MU  2020-07-06 20:07:57  \n8      CA  2020-07-06 20:07:57  \n9      US  2020-07-06 20:05:02  ",
      "text/html": "<div>\n<style scoped>\n    .dataframe tbody tr th:only-of-type {\n        vertical-align: middle;\n    }\n\n    .dataframe tbody tr th {\n        vertical-align: top;\n    }\n\n    .dataframe thead th {\n        text-align: right;\n    }\n</style>\n<table border=\"1\" class=\"dataframe\">\n  <thead>\n    <tr style=\"text-align: right;\">\n      <th></th>\n      <th>City</th>\n      <th>Lat</th>\n      <th>Lng</th>\n      <th>Max Temp</th>\n      <th>Humidity</th>\n      <th>Cloudiness</th>\n      <th>Wind Speed</th>\n      <th>Country</th>\n      <th>Date</th>\n    </tr>\n  </thead>\n  <tbody>\n    <tr>\n      <th>0</th>\n      <td>Ramon</td>\n      <td>16.78</td>\n      <td>121.53</td>\n      <td>73.99</td>\n      <td>89</td>\n      <td>18</td>\n      <td>2.46</td>\n      <td>PH</td>\n      <td>2020-07-06 20:07:56</td>\n    </tr>\n    <tr>\n      <th>1</th>\n      <td>Rikitea</td>\n      <td>-23.12</td>\n      <td>-134.97</td>\n      <td>73.71</td>\n      <td>81</td>\n      <td>93</td>\n      <td>9.10</td>\n      <td>PF</td>\n      <td>2020-07-06 20:07:56</td>\n    </tr>\n    <tr>\n      <th>2</th>\n      <td>Tevaitoa</td>\n      <td>-16.78</td>\n      <td>-151.50</td>\n      <td>79.36</td>\n      <td>79</td>\n      <td>66</td>\n      <td>16.28</td>\n      <td>PF</td>\n      <td>2020-07-06 20:07:56</td>\n    </tr>\n    <tr>\n      <th>3</th>\n      <td>Panguna</td>\n      <td>-6.32</td>\n      <td>155.48</td>\n      <td>67.24</td>\n      <td>95</td>\n      <td>95</td>\n      <td>1.99</td>\n      <td>PG</td>\n      <td>2020-07-06 20:07:56</td>\n    </tr>\n    <tr>\n      <th>4</th>\n      <td>Ribeira Grande</td>\n      <td>38.52</td>\n      <td>-28.70</td>\n      <td>73.40</td>\n      <td>64</td>\n      <td>20</td>\n      <td>11.41</td>\n      <td>PT</td>\n      <td>2020-07-06 20:07:56</td>\n    </tr>\n    <tr>\n      <th>5</th>\n      <td>Kavieng</td>\n      <td>-2.57</td>\n      <td>150.80</td>\n      <td>82.15</td>\n      <td>77</td>\n      <td>73</td>\n      <td>13.73</td>\n      <td>PG</td>\n      <td>2020-07-06 20:07:57</td>\n    </tr>\n    <tr>\n      <th>6</th>\n      <td>Flinders</td>\n      <td>-34.58</td>\n      <td>150.86</td>\n      <td>48.00</td>\n      <td>84</td>\n      <td>13</td>\n      <td>1.01</td>\n      <td>AU</td>\n      <td>2020-07-06 20:07:57</td>\n    </tr>\n    <tr>\n      <th>7</th>\n      <td>Bambous Virieux</td>\n      <td>-20.34</td>\n      <td>57.76</td>\n      <td>73.40</td>\n      <td>94</td>\n      <td>75</td>\n      <td>4.70</td>\n      <td>MU</td>\n      <td>2020-07-06 20:07:57</td>\n    </tr>\n    <tr>\n      <th>8</th>\n      <td>Chapais</td>\n      <td>49.78</td>\n      <td>-74.85</td>\n      <td>78.80</td>\n      <td>26</td>\n      <td>1</td>\n      <td>5.82</td>\n      <td>CA</td>\n      <td>2020-07-06 20:07:57</td>\n    </tr>\n    <tr>\n      <th>9</th>\n      <td>Albany</td>\n      <td>42.60</td>\n      <td>-73.97</td>\n      <td>89.01</td>\n      <td>34</td>\n      <td>5</td>\n      <td>5.10</td>\n      <td>US</td>\n      <td>2020-07-06 20:05:02</td>\n    </tr>\n  </tbody>\n</table>\n</div>"
     },
     "metadata": {},
     "execution_count": 7
    }
   ],
   "source": [
    "# Convert the array of dictionaries to a Pandas DataFrame.\n",
    "city_data_df = pd.DataFrame(city_data)\n",
    "city_data_df.head(10)"
   ]
  },
  {
   "cell_type": "code",
   "execution_count": 8,
   "metadata": {},
   "outputs": [],
   "source": [
    "new_column_order = [\"City\", \"Country\", \"Date\",\"Lat\",\"Lng\",\"Max Temp\",\"Humidity\",\"Cloudiness\",\"Wind Speed\"]"
   ]
  },
  {
   "cell_type": "code",
   "execution_count": 9,
   "metadata": {},
   "outputs": [],
   "source": [
    "city_data_df = city_data_df[new_column_order]"
   ]
  },
  {
   "cell_type": "code",
   "execution_count": 10,
   "metadata": {},
   "outputs": [
    {
     "output_type": "execute_result",
     "data": {
      "text/plain": "              City Country                 Date    Lat     Lng  Max Temp  \\\n0            Ramon      PH  2020-07-06 20:07:56  16.78  121.53     73.99   \n1          Rikitea      PF  2020-07-06 20:07:56 -23.12 -134.97     73.71   \n2         Tevaitoa      PF  2020-07-06 20:07:56 -16.78 -151.50     79.36   \n3          Panguna      PG  2020-07-06 20:07:56  -6.32  155.48     67.24   \n4   Ribeira Grande      PT  2020-07-06 20:07:56  38.52  -28.70     73.40   \n5          Kavieng      PG  2020-07-06 20:07:57  -2.57  150.80     82.15   \n6         Flinders      AU  2020-07-06 20:07:57 -34.58  150.86     48.00   \n7  Bambous Virieux      MU  2020-07-06 20:07:57 -20.34   57.76     73.40   \n8          Chapais      CA  2020-07-06 20:07:57  49.78  -74.85     78.80   \n9           Albany      US  2020-07-06 20:05:02  42.60  -73.97     89.01   \n\n   Humidity  Cloudiness  Wind Speed  \n0        89          18        2.46  \n1        81          93        9.10  \n2        79          66       16.28  \n3        95          95        1.99  \n4        64          20       11.41  \n5        77          73       13.73  \n6        84          13        1.01  \n7        94          75        4.70  \n8        26           1        5.82  \n9        34           5        5.10  ",
      "text/html": "<div>\n<style scoped>\n    .dataframe tbody tr th:only-of-type {\n        vertical-align: middle;\n    }\n\n    .dataframe tbody tr th {\n        vertical-align: top;\n    }\n\n    .dataframe thead th {\n        text-align: right;\n    }\n</style>\n<table border=\"1\" class=\"dataframe\">\n  <thead>\n    <tr style=\"text-align: right;\">\n      <th></th>\n      <th>City</th>\n      <th>Country</th>\n      <th>Date</th>\n      <th>Lat</th>\n      <th>Lng</th>\n      <th>Max Temp</th>\n      <th>Humidity</th>\n      <th>Cloudiness</th>\n      <th>Wind Speed</th>\n    </tr>\n  </thead>\n  <tbody>\n    <tr>\n      <th>0</th>\n      <td>Ramon</td>\n      <td>PH</td>\n      <td>2020-07-06 20:07:56</td>\n      <td>16.78</td>\n      <td>121.53</td>\n      <td>73.99</td>\n      <td>89</td>\n      <td>18</td>\n      <td>2.46</td>\n    </tr>\n    <tr>\n      <th>1</th>\n      <td>Rikitea</td>\n      <td>PF</td>\n      <td>2020-07-06 20:07:56</td>\n      <td>-23.12</td>\n      <td>-134.97</td>\n      <td>73.71</td>\n      <td>81</td>\n      <td>93</td>\n      <td>9.10</td>\n    </tr>\n    <tr>\n      <th>2</th>\n      <td>Tevaitoa</td>\n      <td>PF</td>\n      <td>2020-07-06 20:07:56</td>\n      <td>-16.78</td>\n      <td>-151.50</td>\n      <td>79.36</td>\n      <td>79</td>\n      <td>66</td>\n      <td>16.28</td>\n    </tr>\n    <tr>\n      <th>3</th>\n      <td>Panguna</td>\n      <td>PG</td>\n      <td>2020-07-06 20:07:56</td>\n      <td>-6.32</td>\n      <td>155.48</td>\n      <td>67.24</td>\n      <td>95</td>\n      <td>95</td>\n      <td>1.99</td>\n    </tr>\n    <tr>\n      <th>4</th>\n      <td>Ribeira Grande</td>\n      <td>PT</td>\n      <td>2020-07-06 20:07:56</td>\n      <td>38.52</td>\n      <td>-28.70</td>\n      <td>73.40</td>\n      <td>64</td>\n      <td>20</td>\n      <td>11.41</td>\n    </tr>\n    <tr>\n      <th>5</th>\n      <td>Kavieng</td>\n      <td>PG</td>\n      <td>2020-07-06 20:07:57</td>\n      <td>-2.57</td>\n      <td>150.80</td>\n      <td>82.15</td>\n      <td>77</td>\n      <td>73</td>\n      <td>13.73</td>\n    </tr>\n    <tr>\n      <th>6</th>\n      <td>Flinders</td>\n      <td>AU</td>\n      <td>2020-07-06 20:07:57</td>\n      <td>-34.58</td>\n      <td>150.86</td>\n      <td>48.00</td>\n      <td>84</td>\n      <td>13</td>\n      <td>1.01</td>\n    </tr>\n    <tr>\n      <th>7</th>\n      <td>Bambous Virieux</td>\n      <td>MU</td>\n      <td>2020-07-06 20:07:57</td>\n      <td>-20.34</td>\n      <td>57.76</td>\n      <td>73.40</td>\n      <td>94</td>\n      <td>75</td>\n      <td>4.70</td>\n    </tr>\n    <tr>\n      <th>8</th>\n      <td>Chapais</td>\n      <td>CA</td>\n      <td>2020-07-06 20:07:57</td>\n      <td>49.78</td>\n      <td>-74.85</td>\n      <td>78.80</td>\n      <td>26</td>\n      <td>1</td>\n      <td>5.82</td>\n    </tr>\n    <tr>\n      <th>9</th>\n      <td>Albany</td>\n      <td>US</td>\n      <td>2020-07-06 20:05:02</td>\n      <td>42.60</td>\n      <td>-73.97</td>\n      <td>89.01</td>\n      <td>34</td>\n      <td>5</td>\n      <td>5.10</td>\n    </tr>\n  </tbody>\n</table>\n</div>"
     },
     "metadata": {},
     "execution_count": 10
    }
   ],
   "source": [
    "city_data_df.head(10)"
   ]
  },
  {
   "cell_type": "code",
   "execution_count": 11,
   "metadata": {},
   "outputs": [],
   "source": [
    "# Create the output file (CSV).\n",
    "output_data_file = \"weather_data/cities.csv\"\n",
    "# Export the City_Data into a CSV.\n",
    "city_data_df.to_csv(output_data_file, index_label=\"City_ID\")"
   ]
  },
  {
   "cell_type": "code",
   "execution_count": null,
   "metadata": {},
   "outputs": [],
   "source": []
  }
 ],
 "metadata": {
  "language_info": {
   "codemirror_mode": {
    "name": "ipython",
    "version": 3
   },
   "file_extension": ".py",
   "mimetype": "text/x-python",
   "name": "python",
   "nbconvert_exporter": "python",
   "pygments_lexer": "ipython3",
   "version": "3.7.7-final"
  },
  "orig_nbformat": 2,
  "kernelspec": {
   "name": "pythondata",
   "display_name": "PythonData"
  }
 },
 "nbformat": 4,
 "nbformat_minor": 2
}