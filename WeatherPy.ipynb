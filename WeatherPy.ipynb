{
 "cells": [
  {
   "cell_type": "code",
   "execution_count": 6,
   "metadata": {},
   "outputs": [],
   "source": [
    "# Import the dependencies.\n",
    "import pandas as pd\n",
    "import matplotlib.pyplot as plt\n",
    "import numpy as np\n",
    "from citipy import citipy\n",
    "\n",
    "# Import the requests library.\n",
    "import requests\n",
    "# Import the API key.\n",
    "from config import weather_api_key\n",
    "\n",
    "# Import the datetime module from the datetime library.\n",
    "from datetime import datetime\n"
   ]
  },
  {
   "cell_type": "code",
   "execution_count": 2,
   "metadata": {},
   "outputs": [
    {
     "output_type": "execute_result",
     "data": {
      "text/plain": "<zip at 0x14aa0124f88>"
     },
     "metadata": {},
     "execution_count": 2
    }
   ],
   "source": [
    "# Create a set of random latitude and longitude combinations.\n",
    "lats = np.random.uniform(low=-90.000, high=90.000, size=1500)\n",
    "lngs = np.random.uniform(low=-180.000, high=180.000, size=1500)\n",
    "lat_lngs = zip(lats, lngs)\n",
    "lat_lngs "
   ]
  },
  {
   "cell_type": "code",
   "execution_count": 3,
   "metadata": {},
   "outputs": [],
   "source": [
    "# Add the latitudes and longitudes to a list.\n",
    "coordinates = list(lat_lngs)"
   ]
  },
  {
   "cell_type": "code",
   "execution_count": 4,
   "metadata": {},
   "outputs": [
    {
     "output_type": "execute_result",
     "data": {
      "text/plain": "628"
     },
     "metadata": {},
     "execution_count": 4
    }
   ],
   "source": [
    "# Create a list for holding the cities.\n",
    "cities = []\n",
    "# Identify the nearest city for each latitude and longitude combination.\n",
    "for coordinate in coordinates:\n",
    "    city = citipy.nearest_city(coordinate[0], coordinate[1]).city_name\n",
    "    \n",
    "    # If the city is unique, then we will add it to the cities list.\n",
    "    if city not in cities:\n",
    "        cities.append(city)\n",
    "# Print the city count to confirm sufficient count.\n",
    "len(cities)"
   ]
  },
  {
   "cell_type": "code",
   "execution_count": 8,
   "metadata": {
    "tags": []
   },
   "outputs": [
    {
     "output_type": "stream",
     "name": "stdout",
     "text": "http://api.openweathermap.org/data/2.5/weather?units=Imperial&APPID=b092b3b19fcfc416163f5182d1f485a5\n"
    }
   ],
   "source": [
    "# Starting URL for Weather Map API Call.\n",
    "url = \"http://api.openweathermap.org/data/2.5/weather?units=Imperial&APPID=\" + weather_api_key\n",
    "print(url)"
   ]
  },
  {
   "cell_type": "code",
   "execution_count": 9,
   "metadata": {
    "tags": [
     "outputPrepend"
    ]
   },
   "outputs": [
    {
     "output_type": "stream",
     "name": "stdout",
     "text": "Record 34 of Set 4 | pisco\nProcessing Record 35 of Set 4 | morehead\nProcessing Record 36 of Set 4 | baisha\nProcessing Record 37 of Set 4 | aklavik\nProcessing Record 38 of Set 4 | viedma\nProcessing Record 39 of Set 4 | teguldet\nProcessing Record 40 of Set 4 | kautokeino\nProcessing Record 41 of Set 4 | kosh-agach\nProcessing Record 42 of Set 4 | suluq\nProcessing Record 43 of Set 4 | san cristobal\nProcessing Record 44 of Set 4 | saint-philippe\nProcessing Record 45 of Set 4 | vila do maio\nProcessing Record 46 of Set 4 | santa maria\nProcessing Record 47 of Set 4 | ayamonte\nProcessing Record 48 of Set 4 | machachi\nProcessing Record 49 of Set 4 | sola\nProcessing Record 50 of Set 4 | kankon\nProcessing Record 1 of Set 5 | tarakan\nProcessing Record 2 of Set 5 | kavaratti\nProcessing Record 3 of Set 5 | jamestown\nProcessing Record 4 of Set 5 | sibolga\nProcessing Record 5 of Set 5 | kamenskoye\nCity not found. Skipping...\nProcessing Record 6 of Set 5 | beringovskiy\nProcessing Record 7 of Set 5 | sangar\nProcessing Record 8 of Set 5 | maragogi\nProcessing Record 9 of Set 5 | mys shmidta\nCity not found. Skipping...\nProcessing Record 10 of Set 5 | ryotsu\nProcessing Record 11 of Set 5 | grand river south east\nCity not found. Skipping...\nProcessing Record 12 of Set 5 | bambous virieux\nProcessing Record 13 of Set 5 | kuching\nProcessing Record 14 of Set 5 | touba\nProcessing Record 15 of Set 5 | san ignacio de sabaneta\nCity not found. Skipping...\nProcessing Record 16 of Set 5 | laguna\nProcessing Record 17 of Set 5 | severo-kurilsk\nProcessing Record 18 of Set 5 | iwanai\nProcessing Record 19 of Set 5 | bonnyville\nProcessing Record 20 of Set 5 | ribeira grande\nProcessing Record 21 of Set 5 | hondo\nProcessing Record 22 of Set 5 | tuatapere\nProcessing Record 23 of Set 5 | naze\nProcessing Record 24 of Set 5 | los llanos de aridane\nProcessing Record 25 of Set 5 | yanam\nProcessing Record 26 of Set 5 | agropoli\nProcessing Record 27 of Set 5 | seddon\nProcessing Record 28 of Set 5 | tautira\nProcessing Record 29 of Set 5 | miles city\nProcessing Record 30 of Set 5 | jackson\nProcessing Record 31 of Set 5 | urumqi\nProcessing Record 32 of Set 5 | keti bandar\nProcessing Record 33 of Set 5 | mayumba\nProcessing Record 34 of Set 5 | brae\nProcessing Record 35 of Set 5 | pacific grove\nProcessing Record 36 of Set 5 | muncar\nProcessing Record 37 of Set 5 | pyinmana\nProcessing Record 38 of Set 5 | neiafu\nProcessing Record 39 of Set 5 | port hawkesbury\nProcessing Record 40 of Set 5 | sentyabrskiy\nCity not found. Skipping...\nProcessing Record 41 of Set 5 | pirai do sul\nProcessing Record 42 of Set 5 | morant bay\nProcessing Record 43 of Set 5 | comodoro rivadavia\nProcessing Record 44 of Set 5 | guerrero negro\nProcessing Record 45 of Set 5 | pemba\nProcessing Record 46 of Set 5 | balkhash\nProcessing Record 47 of Set 5 | penzance\nProcessing Record 48 of Set 5 | thunder bay\nProcessing Record 49 of Set 5 | berlevag\nProcessing Record 50 of Set 5 | sambava\nProcessing Record 1 of Set 6 | kudahuvadhoo\nProcessing Record 2 of Set 6 | alice springs\nProcessing Record 3 of Set 6 | hasaki\nProcessing Record 4 of Set 6 | khatanga\nProcessing Record 5 of Set 6 | iranshahr\nProcessing Record 6 of Set 6 | bengkulu\nProcessing Record 7 of Set 6 | hajduszovat\nProcessing Record 8 of Set 6 | palabuhanratu\nCity not found. Skipping...\nProcessing Record 9 of Set 6 | yar-sale\nProcessing Record 10 of Set 6 | lolua\nCity not found. Skipping...\nProcessing Record 11 of Set 6 | chokurdakh\nProcessing Record 12 of Set 6 | ayan\nProcessing Record 13 of Set 6 | nouakchott\nProcessing Record 14 of Set 6 | zunyi\nProcessing Record 15 of Set 6 | luyang\nProcessing Record 16 of Set 6 | tarudant\nCity not found. Skipping...\nProcessing Record 17 of Set 6 | north branch\nProcessing Record 18 of Set 6 | mount gambier\nProcessing Record 19 of Set 6 | boa vista\nProcessing Record 20 of Set 6 | maloy\nProcessing Record 21 of Set 6 | roma\nProcessing Record 22 of Set 6 | omboue\nProcessing Record 23 of Set 6 | meulaboh\nProcessing Record 24 of Set 6 | taoudenni\nProcessing Record 25 of Set 6 | tiksi\nProcessing Record 26 of Set 6 | rolim de moura\nCity not found. Skipping...\nProcessing Record 27 of Set 6 | olinda\nProcessing Record 28 of Set 6 | alyangula\nProcessing Record 29 of Set 6 | tezu\nProcessing Record 30 of Set 6 | arlit\nProcessing Record 31 of Set 6 | oranjemund\nProcessing Record 32 of Set 6 | tsihombe\nCity not found. Skipping...\nProcessing Record 33 of Set 6 | usinsk\nProcessing Record 34 of Set 6 | port macquarie\nProcessing Record 35 of Set 6 | latung\nProcessing Record 36 of Set 6 | salalah\nProcessing Record 37 of Set 6 | shelburne\nProcessing Record 38 of Set 6 | lata\nProcessing Record 39 of Set 6 | yukhnov\nProcessing Record 40 of Set 6 | alofi\nProcessing Record 41 of Set 6 | norfolk\nProcessing Record 42 of Set 6 | avera\nProcessing Record 43 of Set 6 | fort madison\nProcessing Record 44 of Set 6 | korla\nProcessing Record 45 of Set 6 | teknaf\nProcessing Record 46 of Set 6 | derzhavinsk\nProcessing Record 47 of Set 6 | burgos\nProcessing Record 48 of Set 6 | fort nelson\nProcessing Record 49 of Set 6 | belaguntha\nProcessing Record 50 of Set 6 | biu\nProcessing Record 1 of Set 7 | civitanova marche\nProcessing Record 2 of Set 7 | medea\nProcessing Record 3 of Set 7 | richards bay\nProcessing Record 4 of Set 7 | nueva gerona\nProcessing Record 5 of Set 7 | kamenka\nProcessing Record 6 of Set 7 | padang\nProcessing Record 7 of Set 7 | chutung\nCity not found. Skipping...\nProcessing Record 8 of Set 7 | marcona\nCity not found. Skipping...\nProcessing Record 9 of Set 7 | rio grande\nProcessing Record 10 of Set 7 | jucas\nProcessing Record 11 of Set 7 | coromandel\nProcessing Record 12 of Set 7 | harper\nProcessing Record 13 of Set 7 | male\nProcessing Record 14 of Set 7 | kiama\nProcessing Record 15 of Set 7 | doha\nProcessing Record 16 of Set 7 | sinnamary\nProcessing Record 17 of Set 7 | guiyang\nProcessing Record 18 of Set 7 | carangola\nProcessing Record 19 of Set 7 | nizhneyansk\nCity not found. Skipping...\nProcessing Record 20 of Set 7 | maniitsoq\nProcessing Record 21 of Set 7 | kedrovyy\nProcessing Record 22 of Set 7 | palembang\nProcessing Record 23 of Set 7 | ambilobe\nProcessing Record 24 of Set 7 | daloa\nProcessing Record 25 of Set 7 | najran\nProcessing Record 26 of Set 7 | vaitupu\nCity not found. Skipping...\nProcessing Record 27 of Set 7 | samarai\nProcessing Record 28 of Set 7 | caravelas\nProcessing Record 29 of Set 7 | samusu\nCity not found. Skipping...\nProcessing Record 30 of Set 7 | valparaiso\nProcessing Record 31 of Set 7 | razole\nProcessing Record 32 of Set 7 | klaksvik\nProcessing Record 33 of Set 7 | debre tabor\nProcessing Record 34 of Set 7 | ancud\nProcessing Record 35 of Set 7 | kitgum\nProcessing Record 36 of Set 7 | sakaiminato\nProcessing Record 37 of Set 7 | mitsamiouli\nProcessing Record 38 of Set 7 | bad munstereifel\nProcessing Record 39 of Set 7 | gamba\nProcessing Record 40 of Set 7 | sampit\nProcessing Record 41 of Set 7 | lagoa\nProcessing Record 42 of Set 7 | kijang\nProcessing Record 43 of Set 7 | ilo\nProcessing Record 44 of Set 7 | bethel\nProcessing Record 45 of Set 7 | mollendo\nProcessing Record 46 of Set 7 | provideniya\nProcessing Record 47 of Set 7 | saskylakh\nProcessing Record 48 of Set 7 | shirokiy\nProcessing Record 49 of Set 7 | cairns\nProcessing Record 50 of Set 7 | taybad\nProcessing Record 1 of Set 8 | inhambane\nProcessing Record 2 of Set 8 | celestun\nProcessing Record 3 of Set 8 | natal\nProcessing Record 4 of Set 8 | thanh hoa\nProcessing Record 5 of Set 8 | kamarion\nProcessing Record 6 of Set 8 | nesterov\nProcessing Record 7 of Set 8 | kankaanpaa\nProcessing Record 8 of Set 8 | yeppoon\nProcessing Record 9 of Set 8 | upernavik\nProcessing Record 10 of Set 8 | zaozerne\nProcessing Record 11 of Set 8 | basco\nProcessing Record 12 of Set 8 | tabiauea\nCity not found. Skipping...\nProcessing Record 13 of Set 8 | muros\nProcessing Record 14 of Set 8 | kenai\nProcessing Record 15 of Set 8 | hirara\nProcessing Record 16 of Set 8 | anshun\nProcessing Record 17 of Set 8 | campbell river\nProcessing Record 18 of Set 8 | along\nProcessing Record 19 of Set 8 | maine-soroa\nProcessing Record 20 of Set 8 | ashland\nProcessing Record 21 of Set 8 | oldmeldrum\nProcessing Record 22 of Set 8 | tapes\nProcessing Record 23 of Set 8 | mikuni\nProcessing Record 24 of Set 8 | las vegas\nProcessing Record 25 of Set 8 | jiddah\nCity not found. Skipping...\nProcessing Record 26 of Set 8 | kamiiso\nProcessing Record 27 of Set 8 | bandarbeyla\nProcessing Record 28 of Set 8 | sistranda\nProcessing Record 29 of Set 8 | bogorodskoye\nProcessing Record 30 of Set 8 | novoagansk\nProcessing Record 31 of Set 8 | kjollefjord\nProcessing Record 32 of Set 8 | vrangel\nProcessing Record 33 of Set 8 | hovd\nProcessing Record 34 of Set 8 | vostok\nProcessing Record 35 of Set 8 | chifeng\nProcessing Record 36 of Set 8 | fairbanks\nProcessing Record 37 of Set 8 | kapuskasing\nProcessing Record 38 of Set 8 | adre\nProcessing Record 39 of Set 8 | kapit\nProcessing Record 40 of Set 8 | portland\nProcessing Record 41 of Set 8 | riyaq\nCity not found. Skipping...\nProcessing Record 42 of Set 8 | krasnovishersk\nProcessing Record 43 of Set 8 | sisimiut\nProcessing Record 44 of Set 8 | nemuro\nProcessing Record 45 of Set 8 | shache\nProcessing Record 46 of Set 8 | san patricio\nProcessing Record 47 of Set 8 | havelock\nProcessing Record 48 of Set 8 | caucaia\nProcessing Record 49 of Set 8 | husavik\nProcessing Record 50 of Set 8 | nome\nProcessing Record 1 of Set 9 | pangai\nProcessing Record 2 of Set 9 | charlotte\nProcessing Record 3 of Set 9 | goderich\nProcessing Record 4 of Set 9 | upington\nProcessing Record 5 of Set 9 | vallenar\nProcessing Record 6 of Set 9 | pahrump\nProcessing Record 7 of Set 9 | college\nProcessing Record 8 of Set 9 | kargala\nProcessing Record 9 of Set 9 | katangli\nProcessing Record 10 of Set 9 | moindou\nProcessing Record 11 of Set 9 | kununurra\nProcessing Record 12 of Set 9 | cody\nProcessing Record 13 of Set 9 | aksarayskiy\nProcessing Record 14 of Set 9 | esperance\nProcessing Record 15 of Set 9 | vila franca do campo\nProcessing Record 16 of Set 9 | panaba\nProcessing Record 17 of Set 9 | kaitangata\nProcessing Record 18 of Set 9 | aksu\nProcessing Record 19 of Set 9 | buchanan\nProcessing Record 20 of Set 9 | mergui\nCity not found. Skipping...\nProcessing Record 21 of Set 9 | gusau\nProcessing Record 22 of Set 9 | peterborough\nProcessing Record 23 of Set 9 | banda aceh\nProcessing Record 24 of Set 9 | puunsi\nCity not found. Skipping...\nProcessing Record 25 of Set 9 | oran\nProcessing Record 26 of Set 9 | masjed-e soleyman\nCity not found. Skipping...\nProcessing Record 27 of Set 9 | half moon bay\nProcessing Record 28 of Set 9 | asayita\nCity not found. Skipping...\nProcessing Record 29 of Set 9 | namibe\nProcessing Record 30 of Set 9 | sorvag\nCity not found. Skipping...\nProcessing Record 31 of Set 9 | csaszar\nProcessing Record 32 of Set 9 | labuhan\nProcessing Record 33 of Set 9 | melito di porto salvo\nProcessing Record 34 of Set 9 | amazar\nProcessing Record 35 of Set 9 | rio gallegos\nProcessing Record 36 of Set 9 | seymchan\nProcessing Record 37 of Set 9 | manastirea casin\nCity not found. Skipping...\nProcessing Record 38 of Set 9 | juifang\nCity not found. Skipping...\nProcessing Record 39 of Set 9 | saint-pierre\nProcessing Record 40 of Set 9 | tuma\nProcessing Record 41 of Set 9 | katsuura\nProcessing Record 42 of Set 9 | svobodnyy\nProcessing Record 43 of Set 9 | santa vitoria do palmar\nProcessing Record 44 of Set 9 | noumea\nProcessing Record 45 of Set 9 | san vicente\nProcessing Record 46 of Set 9 | gambela\nProcessing Record 47 of Set 9 | skagastrond\nCity not found. Skipping...\nProcessing Record 48 of Set 9 | coahuayana\nProcessing Record 49 of Set 9 | teya\nProcessing Record 50 of Set 9 | kachikau\nCity not found. Skipping...\nProcessing Record 1 of Set 10 | atar\nProcessing Record 2 of Set 10 | amilly\nProcessing Record 3 of Set 10 | bilibino\nProcessing Record 4 of Set 10 | buqayq\nCity not found. Skipping...\nProcessing Record 5 of Set 10 | tazovskiy\nProcessing Record 6 of Set 10 | kilindoni\nProcessing Record 7 of Set 10 | cabo san lucas\nProcessing Record 8 of Set 10 | lerwick\nProcessing Record 9 of Set 10 | praia da vitoria\nProcessing Record 10 of Set 10 | sokol\nProcessing Record 11 of Set 10 | riyadh\nProcessing Record 12 of Set 10 | chagda\nCity not found. Skipping...\nProcessing Record 13 of Set 10 | grand gaube\nProcessing Record 14 of Set 10 | kamariotissa\nProcessing Record 15 of Set 10 | dingle\nProcessing Record 16 of Set 10 | barra patuca\nProcessing Record 17 of Set 10 | kita\nProcessing Record 18 of Set 10 | nizwa\nProcessing Record 19 of Set 10 | ilebo\nProcessing Record 20 of Set 10 | monrovia\nProcessing Record 21 of Set 10 | yomitan\nCity not found. Skipping...\nProcessing Record 22 of Set 10 | cap malheureux\nProcessing Record 23 of Set 10 | fukue\nProcessing Record 24 of Set 10 | bloemhof\nProcessing Record 25 of Set 10 | namatanai\nProcessing Record 26 of Set 10 | mount isa\nProcessing Record 27 of Set 10 | bowen\nProcessing Record 28 of Set 10 | luanda\nProcessing Record 29 of Set 10 | juruti\nProcessing Record 30 of Set 10 | sorkjosen\nProcessing Record 31 of Set 10 | alappuzha\nProcessing Record 32 of Set 10 | metehara\nCity not found. Skipping...\nProcessing Record 33 of Set 10 | geraldton\nProcessing Record 34 of Set 10 | basyanovskiy\nCity not found. Skipping...\nProcessing Record 35 of Set 10 | puerto palomas\nProcessing Record 36 of Set 10 | khomutovka\nProcessing Record 37 of Set 10 | kurilsk\nProcessing Record 38 of Set 10 | northam\nProcessing Record 39 of Set 10 | broome\nProcessing Record 40 of Set 10 | parrsboro\nProcessing Record 41 of Set 10 | saint-joseph\nProcessing Record 42 of Set 10 | two rivers\nProcessing Record 43 of Set 10 | coquimbo\nProcessing Record 44 of Set 10 | ngukurr\nCity not found. Skipping...\nProcessing Record 45 of Set 10 | araouane\nProcessing Record 46 of Set 10 | bambanglipuro\nProcessing Record 47 of Set 10 | kendrapara\nProcessing Record 48 of Set 10 | kant\nProcessing Record 49 of Set 10 | san lawrenz\nProcessing Record 50 of Set 10 | marsh harbour\nProcessing Record 1 of Set 11 | tumannyy\nCity not found. Skipping...\nProcessing Record 2 of Set 11 | mackenzie\nProcessing Record 3 of Set 11 | kirovsk\nProcessing Record 4 of Set 11 | adelaide\nProcessing Record 5 of Set 11 | kaka\nProcessing Record 6 of Set 11 | yantal\nProcessing Record 7 of Set 11 | sao jose da coroa grande\nProcessing Record 8 of Set 11 | makakilo city\nProcessing Record 9 of Set 11 | westport\nProcessing Record 10 of Set 11 | dobson\nProcessing Record 11 of Set 11 | kholodnyy\nProcessing Record 12 of Set 11 | karauzyak\nCity not found. Skipping...\nProcessing Record 13 of Set 11 | san quintin\nProcessing Record 14 of Set 11 | vestmannaeyjar\nProcessing Record 15 of Set 11 | karaul\nCity not found. Skipping...\nProcessing Record 16 of Set 11 | petropavlovsk-kamchatskiy\nProcessing Record 17 of Set 11 | tres lagoas\nProcessing Record 18 of Set 11 | lokoja\nProcessing Record 19 of Set 11 | ossora\nProcessing Record 20 of Set 11 | te anau\nProcessing Record 21 of Set 11 | aksarka\nProcessing Record 22 of Set 11 | haines junction\nProcessing Record 23 of Set 11 | port moresby\nProcessing Record 24 of Set 11 | ostersund\nProcessing Record 25 of Set 11 | vera cruz\nProcessing Record 26 of Set 11 | bintulu\nProcessing Record 27 of Set 11 | winnipeg\nProcessing Record 28 of Set 11 | maralal\nProcessing Record 29 of Set 11 | la uribe\nCity not found. Skipping...\nProcessing Record 30 of Set 11 | wanning\nProcessing Record 31 of Set 11 | mount darwin\nProcessing Record 32 of Set 11 | talcahuano\nProcessing Record 33 of Set 11 | platonovka\nProcessing Record 34 of Set 11 | kasongo-lunda\nProcessing Record 35 of Set 11 | isetskoye\nProcessing Record 36 of Set 11 | santa ana\nProcessing Record 37 of Set 11 | huilong\nProcessing Record 38 of Set 11 | benito juarez\nProcessing Record 39 of Set 11 | fortuna\nProcessing Record 40 of Set 11 | besikduzu\nProcessing Record 41 of Set 11 | port lincoln\nProcessing Record 42 of Set 11 | aden\nProcessing Record 43 of Set 11 | plyussa\nProcessing Record 44 of Set 11 | biak\nProcessing Record 45 of Set 11 | unidad\nProcessing Record 46 of Set 11 | ust-ilimsk\nProcessing Record 47 of Set 11 | walvis bay\nProcessing Record 48 of Set 11 | veraval\nProcessing Record 49 of Set 11 | hamilton\nProcessing Record 50 of Set 11 | christchurch\nProcessing Record 1 of Set 12 | nichinan\nProcessing Record 2 of Set 12 | luderitz\nProcessing Record 3 of Set 12 | ponta delgada\nProcessing Record 4 of Set 12 | tunduru\nCity not found. Skipping...\nProcessing Record 5 of Set 12 | zhigansk\nProcessing Record 6 of Set 12 | barbar\nCity not found. Skipping...\nProcessing Record 7 of Set 12 | haibowan\nCity not found. Skipping...\nProcessing Record 8 of Set 12 | easton\nProcessing Record 9 of Set 12 | carutapera\nProcessing Record 10 of Set 12 | ken caryl\nProcessing Record 11 of Set 12 | ronne\nProcessing Record 12 of Set 12 | chake chake\nProcessing Record 13 of Set 12 | gweta\nProcessing Record 14 of Set 12 | marsa matruh\nProcessing Record 15 of Set 12 | richmond\nProcessing Record 16 of Set 12 | north bend\nProcessing Record 17 of Set 12 | sorong\nProcessing Record 18 of Set 12 | matamoros\nProcessing Record 19 of Set 12 | batticaloa\nProcessing Record 20 of Set 12 | chuy\nProcessing Record 21 of Set 12 | miandrivazo\nProcessing Record 22 of Set 12 | kodinsk\nProcessing Record 23 of Set 12 | miranorte\nCity not found. Skipping...\nProcessing Record 24 of Set 12 | jinxiang\nProcessing Record 25 of Set 12 | malanje\nProcessing Record 26 of Set 12 | nouadhibou\nProcessing Record 27 of Set 12 | mocuba\nProcessing Record 28 of Set 12 | nadym\nProcessing Record 29 of Set 12 | konevo\nProcessing Record 30 of Set 12 | yining\nProcessing Record 31 of Set 12 | agirish\nProcessing Record 32 of Set 12 | saleaula\nCity not found. Skipping...\nProcessing Record 33 of Set 12 | lavrentiya\nProcessing Record 34 of Set 12 | colorado springs\nProcessing Record 35 of Set 12 | andijon\nProcessing Record 36 of Set 12 | kailua\nProcessing Record 37 of Set 12 | maswa\nProcessing Record 38 of Set 12 | sao felix do xingu\nProcessing Record 39 of Set 12 | mehamn\nProcessing Record 40 of Set 12 | viligili\nCity not found. Skipping...\nProcessing Record 41 of Set 12 | longyan\nProcessing Record 42 of Set 12 | russell\nProcessing Record 43 of Set 12 | ereymentau\nProcessing Record 44 of Set 12 | manoel urbano\nProcessing Record 45 of Set 12 | vavozh\nProcessing Record 46 of Set 12 | arequipa\nProcessing Record 47 of Set 12 | capao da canoa\nProcessing Record 48 of Set 12 | posse\nProcessing Record 49 of Set 12 | virden\nProcessing Record 50 of Set 12 | kahului\nProcessing Record 1 of Set 13 | floro\nProcessing Record 2 of Set 13 | jalu\nProcessing Record 3 of Set 13 | volchikha\nProcessing Record 4 of Set 13 | ruatoria\nCity not found. Skipping...\nProcessing Record 5 of Set 13 | temaraia\nCity not found. Skipping...\nProcessing Record 6 of Set 13 | deputatskiy\nProcessing Record 7 of Set 13 | tubig indangan\nCity not found. Skipping...\nProcessing Record 8 of Set 13 | bolungarvik\nCity not found. Skipping...\nProcessing Record 9 of Set 13 | tolmachevo\nProcessing Record 10 of Set 13 | nakusp\nProcessing Record 11 of Set 13 | tenenkou\nProcessing Record 12 of Set 13 | ismailia\nProcessing Record 13 of Set 13 | korop\nProcessing Record 14 of Set 13 | dingzhou\nProcessing Record 15 of Set 13 | rio branco\nProcessing Record 16 of Set 13 | kamaishi\nProcessing Record 17 of Set 13 | buon me thuot\nCity not found. Skipping...\nProcessing Record 18 of Set 13 | vardo\nProcessing Record 19 of Set 13 | waw\nProcessing Record 20 of Set 13 | okakarara\nProcessing Record 21 of Set 13 | lappeenranta\nProcessing Record 22 of Set 13 | saint-francois\nProcessing Record 23 of Set 13 | bartica\nProcessing Record 24 of Set 13 | kingussie\nProcessing Record 25 of Set 13 | sao raimundo nonato\nProcessing Record 26 of Set 13 | belaya gora\nProcessing Record 27 of Set 13 | tabuk\nProcessing Record 28 of Set 13 | kuala terengganu\n-----------------------------\nData Retrieval Complete      \n-----------------------------\n"
    }
   ],
   "source": [
    "# Create an empty list to hold the weather data.\n",
    "city_data = []\n",
    "# Print the beginning of the logging.\n",
    "print(\"Beginning Data Retrieval     \")\n",
    "print(\"-----------------------------\")\n",
    "\n",
    "# Create counters.\n",
    "record_count = 1\n",
    "set_count = 1\n",
    "\n",
    "\n",
    "# Loop through all the cities in the list.\n",
    "for i, city in enumerate(cities):\n",
    "\n",
    "    # Group cities in sets of 50 for logging purposes.\n",
    "    if (i % 50 == 0 and i >= 50):\n",
    "        set_count += 1\n",
    "        record_count = 1\n",
    "    # Create endpoint URL with each city.\n",
    "    city_url = url + \"&q=\" + city.replace(\" \",\"+\")\n",
    "\n",
    "    # Log the URL, record, and set numbers and the city.\n",
    "    print(f\"Processing Record {record_count} of Set {set_count} | {city}\")\n",
    "    # Add 1 to the record count.\n",
    "    record_count += 1\n",
    "   \n",
    "    # Run an API request for each of the cities.\n",
    "    try:\n",
    "        # Parse the JSON and retrieve data.\n",
    "        city_weather = requests.get(city_url).json()\n",
    "        # Parse out the needed data.\n",
    "        city_lat = city_weather[\"coord\"][\"lat\"]\n",
    "        city_lng = city_weather[\"coord\"][\"lon\"]\n",
    "        city_max_temp = city_weather[\"main\"][\"temp_max\"]\n",
    "        city_humidity = city_weather[\"main\"][\"humidity\"]\n",
    "        city_clouds = city_weather[\"clouds\"][\"all\"]\n",
    "        city_wind = city_weather[\"wind\"][\"speed\"]\n",
    "        city_country = city_weather[\"sys\"][\"country\"]\n",
    "        # Convert the date to ISO standard.\n",
    "        city_date = datetime.utcfromtimestamp(city_weather[\"dt\"]).strftime('%Y-%m-%d %H:%M:%S')\n",
    "        # Append the city information into city_data list.\n",
    "        city_data.append({\"City\": city.title(),\n",
    "                          \"Lat\": city_lat,\n",
    "                          \"Lng\": city_lng,\n",
    "                          \"Max Temp\": city_max_temp,\n",
    "                          \"Humidity\": city_humidity,\n",
    "                          \"Cloudiness\": city_clouds,\n",
    "                          \"Wind Speed\": city_wind,\n",
    "                          \"Country\": city_country,\n",
    "                          \"Date\": city_date})\n",
    "\n",
    "# If an error is experienced, skip the city.\n",
    "    except:\n",
    "        print(\"City not found. Skipping...\")\n",
    "        pass\n",
    "\n",
    "# Indicate that Data Loading is complete.\n",
    "print(\"-----------------------------\")\n",
    "print(\"Data Retrieval Complete      \")\n",
    "print(\"-----------------------------\")"
   ]
  },
  {
   "cell_type": "code",
   "execution_count": 10,
   "metadata": {},
   "outputs": [
    {
     "output_type": "execute_result",
     "data": {
      "text/plain": "            City    Lat     Lng  Max Temp  Humidity  Cloudiness  Wind Speed  \\\n0       Saldanha -33.01   17.94     59.00        82          33        2.24   \n1  Divnomorskoye  44.50   38.14     79.92        57           0        9.10   \n2       Santiago -33.46  -70.65     53.60        62          75        2.24   \n3       Kalmunai   7.42   81.82     80.64        72          14        5.91   \n4      Busselton -33.65  115.33     55.99        63          66       14.97   \n5         Atuona  -9.80 -139.03     78.91        76           4       13.02   \n6        Ust-Uda  54.17  103.03     64.98        41         100        1.32   \n7     Bredasdorp -34.53   20.04     59.00        77           0        9.17   \n8      Belyy Yar  53.60   91.39     57.20       100          97        2.37   \n9    Yellowknife  62.46 -114.35     66.20        42          75       19.46   \n\n  Country                 Date  \n0      ZA  2020-07-06 19:46:35  \n1      RU  2020-07-06 19:46:35  \n2      CL  2020-07-06 19:44:38  \n3      LK  2020-07-06 19:46:35  \n4      AU  2020-07-06 19:46:35  \n5      PF  2020-07-06 19:46:36  \n6      RU  2020-07-06 19:46:36  \n7      ZA  2020-07-06 19:46:36  \n8      RU  2020-07-06 19:46:36  \n9      CA  2020-07-06 19:45:16  ",
      "text/html": "<div>\n<style scoped>\n    .dataframe tbody tr th:only-of-type {\n        vertical-align: middle;\n    }\n\n    .dataframe tbody tr th {\n        vertical-align: top;\n    }\n\n    .dataframe thead th {\n        text-align: right;\n    }\n</style>\n<table border=\"1\" class=\"dataframe\">\n  <thead>\n    <tr style=\"text-align: right;\">\n      <th></th>\n      <th>City</th>\n      <th>Lat</th>\n      <th>Lng</th>\n      <th>Max Temp</th>\n      <th>Humidity</th>\n      <th>Cloudiness</th>\n      <th>Wind Speed</th>\n      <th>Country</th>\n      <th>Date</th>\n    </tr>\n  </thead>\n  <tbody>\n    <tr>\n      <th>0</th>\n      <td>Saldanha</td>\n      <td>-33.01</td>\n      <td>17.94</td>\n      <td>59.00</td>\n      <td>82</td>\n      <td>33</td>\n      <td>2.24</td>\n      <td>ZA</td>\n      <td>2020-07-06 19:46:35</td>\n    </tr>\n    <tr>\n      <th>1</th>\n      <td>Divnomorskoye</td>\n      <td>44.50</td>\n      <td>38.14</td>\n      <td>79.92</td>\n      <td>57</td>\n      <td>0</td>\n      <td>9.10</td>\n      <td>RU</td>\n      <td>2020-07-06 19:46:35</td>\n    </tr>\n    <tr>\n      <th>2</th>\n      <td>Santiago</td>\n      <td>-33.46</td>\n      <td>-70.65</td>\n      <td>53.60</td>\n      <td>62</td>\n      <td>75</td>\n      <td>2.24</td>\n      <td>CL</td>\n      <td>2020-07-06 19:44:38</td>\n    </tr>\n    <tr>\n      <th>3</th>\n      <td>Kalmunai</td>\n      <td>7.42</td>\n      <td>81.82</td>\n      <td>80.64</td>\n      <td>72</td>\n      <td>14</td>\n      <td>5.91</td>\n      <td>LK</td>\n      <td>2020-07-06 19:46:35</td>\n    </tr>\n    <tr>\n      <th>4</th>\n      <td>Busselton</td>\n      <td>-33.65</td>\n      <td>115.33</td>\n      <td>55.99</td>\n      <td>63</td>\n      <td>66</td>\n      <td>14.97</td>\n      <td>AU</td>\n      <td>2020-07-06 19:46:35</td>\n    </tr>\n    <tr>\n      <th>5</th>\n      <td>Atuona</td>\n      <td>-9.80</td>\n      <td>-139.03</td>\n      <td>78.91</td>\n      <td>76</td>\n      <td>4</td>\n      <td>13.02</td>\n      <td>PF</td>\n      <td>2020-07-06 19:46:36</td>\n    </tr>\n    <tr>\n      <th>6</th>\n      <td>Ust-Uda</td>\n      <td>54.17</td>\n      <td>103.03</td>\n      <td>64.98</td>\n      <td>41</td>\n      <td>100</td>\n      <td>1.32</td>\n      <td>RU</td>\n      <td>2020-07-06 19:46:36</td>\n    </tr>\n    <tr>\n      <th>7</th>\n      <td>Bredasdorp</td>\n      <td>-34.53</td>\n      <td>20.04</td>\n      <td>59.00</td>\n      <td>77</td>\n      <td>0</td>\n      <td>9.17</td>\n      <td>ZA</td>\n      <td>2020-07-06 19:46:36</td>\n    </tr>\n    <tr>\n      <th>8</th>\n      <td>Belyy Yar</td>\n      <td>53.60</td>\n      <td>91.39</td>\n      <td>57.20</td>\n      <td>100</td>\n      <td>97</td>\n      <td>2.37</td>\n      <td>RU</td>\n      <td>2020-07-06 19:46:36</td>\n    </tr>\n    <tr>\n      <th>9</th>\n      <td>Yellowknife</td>\n      <td>62.46</td>\n      <td>-114.35</td>\n      <td>66.20</td>\n      <td>42</td>\n      <td>75</td>\n      <td>19.46</td>\n      <td>CA</td>\n      <td>2020-07-06 19:45:16</td>\n    </tr>\n  </tbody>\n</table>\n</div>"
     },
     "metadata": {},
     "execution_count": 10
    }
   ],
   "source": [
    "# Convert the array of dictionaries to a Pandas DataFrame.\n",
    "city_data_df = pd.DataFrame(city_data)\n",
    "city_data_df.head(10)"
   ]
  },
  {
   "cell_type": "code",
   "execution_count": 13,
   "metadata": {},
   "outputs": [],
   "source": [
    "new_column_order = [\"City\", \"Country\", \"Date\",\"Lat\",\"Lng\",\"Max Temp\",\"Humidity\",\"Cloudiness\",\"Wind Speed\"]"
   ]
  },
  {
   "cell_type": "code",
   "execution_count": 14,
   "metadata": {},
   "outputs": [],
   "source": [
    "city_data_df = city_data_df[new_column_order]"
   ]
  },
  {
   "cell_type": "code",
   "execution_count": 15,
   "metadata": {},
   "outputs": [
    {
     "output_type": "execute_result",
     "data": {
      "text/plain": "            City Country                 Date    Lat     Lng  Max Temp  \\\n0       Saldanha      ZA  2020-07-06 19:46:35 -33.01   17.94     59.00   \n1  Divnomorskoye      RU  2020-07-06 19:46:35  44.50   38.14     79.92   \n2       Santiago      CL  2020-07-06 19:44:38 -33.46  -70.65     53.60   \n3       Kalmunai      LK  2020-07-06 19:46:35   7.42   81.82     80.64   \n4      Busselton      AU  2020-07-06 19:46:35 -33.65  115.33     55.99   \n5         Atuona      PF  2020-07-06 19:46:36  -9.80 -139.03     78.91   \n6        Ust-Uda      RU  2020-07-06 19:46:36  54.17  103.03     64.98   \n7     Bredasdorp      ZA  2020-07-06 19:46:36 -34.53   20.04     59.00   \n8      Belyy Yar      RU  2020-07-06 19:46:36  53.60   91.39     57.20   \n9    Yellowknife      CA  2020-07-06 19:45:16  62.46 -114.35     66.20   \n\n   Humidity  Cloudiness  Wind Speed  \n0        82          33        2.24  \n1        57           0        9.10  \n2        62          75        2.24  \n3        72          14        5.91  \n4        63          66       14.97  \n5        76           4       13.02  \n6        41         100        1.32  \n7        77           0        9.17  \n8       100          97        2.37  \n9        42          75       19.46  ",
      "text/html": "<div>\n<style scoped>\n    .dataframe tbody tr th:only-of-type {\n        vertical-align: middle;\n    }\n\n    .dataframe tbody tr th {\n        vertical-align: top;\n    }\n\n    .dataframe thead th {\n        text-align: right;\n    }\n</style>\n<table border=\"1\" class=\"dataframe\">\n  <thead>\n    <tr style=\"text-align: right;\">\n      <th></th>\n      <th>City</th>\n      <th>Country</th>\n      <th>Date</th>\n      <th>Lat</th>\n      <th>Lng</th>\n      <th>Max Temp</th>\n      <th>Humidity</th>\n      <th>Cloudiness</th>\n      <th>Wind Speed</th>\n    </tr>\n  </thead>\n  <tbody>\n    <tr>\n      <th>0</th>\n      <td>Saldanha</td>\n      <td>ZA</td>\n      <td>2020-07-06 19:46:35</td>\n      <td>-33.01</td>\n      <td>17.94</td>\n      <td>59.00</td>\n      <td>82</td>\n      <td>33</td>\n      <td>2.24</td>\n    </tr>\n    <tr>\n      <th>1</th>\n      <td>Divnomorskoye</td>\n      <td>RU</td>\n      <td>2020-07-06 19:46:35</td>\n      <td>44.50</td>\n      <td>38.14</td>\n      <td>79.92</td>\n      <td>57</td>\n      <td>0</td>\n      <td>9.10</td>\n    </tr>\n    <tr>\n      <th>2</th>\n      <td>Santiago</td>\n      <td>CL</td>\n      <td>2020-07-06 19:44:38</td>\n      <td>-33.46</td>\n      <td>-70.65</td>\n      <td>53.60</td>\n      <td>62</td>\n      <td>75</td>\n      <td>2.24</td>\n    </tr>\n    <tr>\n      <th>3</th>\n      <td>Kalmunai</td>\n      <td>LK</td>\n      <td>2020-07-06 19:46:35</td>\n      <td>7.42</td>\n      <td>81.82</td>\n      <td>80.64</td>\n      <td>72</td>\n      <td>14</td>\n      <td>5.91</td>\n    </tr>\n    <tr>\n      <th>4</th>\n      <td>Busselton</td>\n      <td>AU</td>\n      <td>2020-07-06 19:46:35</td>\n      <td>-33.65</td>\n      <td>115.33</td>\n      <td>55.99</td>\n      <td>63</td>\n      <td>66</td>\n      <td>14.97</td>\n    </tr>\n    <tr>\n      <th>5</th>\n      <td>Atuona</td>\n      <td>PF</td>\n      <td>2020-07-06 19:46:36</td>\n      <td>-9.80</td>\n      <td>-139.03</td>\n      <td>78.91</td>\n      <td>76</td>\n      <td>4</td>\n      <td>13.02</td>\n    </tr>\n    <tr>\n      <th>6</th>\n      <td>Ust-Uda</td>\n      <td>RU</td>\n      <td>2020-07-06 19:46:36</td>\n      <td>54.17</td>\n      <td>103.03</td>\n      <td>64.98</td>\n      <td>41</td>\n      <td>100</td>\n      <td>1.32</td>\n    </tr>\n    <tr>\n      <th>7</th>\n      <td>Bredasdorp</td>\n      <td>ZA</td>\n      <td>2020-07-06 19:46:36</td>\n      <td>-34.53</td>\n      <td>20.04</td>\n      <td>59.00</td>\n      <td>77</td>\n      <td>0</td>\n      <td>9.17</td>\n    </tr>\n    <tr>\n      <th>8</th>\n      <td>Belyy Yar</td>\n      <td>RU</td>\n      <td>2020-07-06 19:46:36</td>\n      <td>53.60</td>\n      <td>91.39</td>\n      <td>57.20</td>\n      <td>100</td>\n      <td>97</td>\n      <td>2.37</td>\n    </tr>\n    <tr>\n      <th>9</th>\n      <td>Yellowknife</td>\n      <td>CA</td>\n      <td>2020-07-06 19:45:16</td>\n      <td>62.46</td>\n      <td>-114.35</td>\n      <td>66.20</td>\n      <td>42</td>\n      <td>75</td>\n      <td>19.46</td>\n    </tr>\n  </tbody>\n</table>\n</div>"
     },
     "metadata": {},
     "execution_count": 15
    }
   ],
   "source": [
    "city_data_df.head(10)"
   ]
  },
  {
   "cell_type": "code",
   "execution_count": 16,
   "metadata": {},
   "outputs": [],
   "source": [
    "# Create the output file (CSV).\n",
    "output_data_file = \"weather_data/cities.csv\"\n",
    "# Export the City_Data into a CSV.\n",
    "city_data_df.to_csv(output_data_file, index_label=\"City_ID\")"
   ]
  },
  {
   "cell_type": "code",
   "execution_count": null,
   "metadata": {},
   "outputs": [],
   "source": []
  }
 ],
 "metadata": {
  "language_info": {
   "codemirror_mode": {
    "name": "ipython",
    "version": 3
   },
   "file_extension": ".py",
   "mimetype": "text/x-python",
   "name": "python",
   "nbconvert_exporter": "python",
   "pygments_lexer": "ipython3",
   "version": "3.7.7-final"
  },
  "orig_nbformat": 2,
  "kernelspec": {
   "name": "pythondata",
   "display_name": "PythonData"
  }
 },
 "nbformat": 4,
 "nbformat_minor": 2
}