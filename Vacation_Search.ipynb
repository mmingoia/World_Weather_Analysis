{
 "cells": [
  {
   "cell_type": "code",
   "execution_count": 1,
   "metadata": {},
   "outputs": [],
   "source": [
    "# Import the dependencies.\n",
    "import pandas as pd\n",
    "import gmaps\n",
    "import requests\n",
    "import os\n",
    "# Import the API key.\n",
    "from config import g_key\n",
    "# Configure gmaps to use your Google API key.\n",
    "gmaps.configure(api_key=g_key)"
   ]
  },
  {
   "cell_type": "code",
   "execution_count": 2,
   "metadata": {},
   "outputs": [
    {
     "output_type": "execute_result",
     "data": {
      "text/plain": "              City Country    Lat     Lng  Max Temp  Humidity  Cloudiness  \\\nCity_ID                                                                     \n0           Bonfim      BR   3.08  -59.95     87.37        61          96   \n1         Victoria      HK  22.29  114.16     86.00        74         100   \n2        Cape Town      ZA -33.93   18.42     55.00        93          75   \n3         Manicore      BR  -5.81  -61.30     89.60        55          20   \n4           Hobart      AU -42.88  147.33     37.40        93          20   \n\n         Wind Speed Current Description  Rain (Inches)  Snow (Inches)  \\\nCity_ID                                                                 \n0              4.90          light rain            0.0            0.0   \n1             11.01     overcast clouds            0.0            0.0   \n2              6.93       moderate rain            0.1            0.0   \n3              5.82          few clouds            0.0            0.0   \n4              6.93          light snow            0.0            0.0   \n\n                        Date  \nCity_ID                       \n0        2020-07-09 20:21:58  \n1        2020-07-09 20:21:58  \n2        2020-07-09 20:21:13  \n3        2020-07-09 20:21:58  \n4        2020-07-09 20:18:13  ",
      "text/html": "<div>\n<style scoped>\n    .dataframe tbody tr th:only-of-type {\n        vertical-align: middle;\n    }\n\n    .dataframe tbody tr th {\n        vertical-align: top;\n    }\n\n    .dataframe thead th {\n        text-align: right;\n    }\n</style>\n<table border=\"1\" class=\"dataframe\">\n  <thead>\n    <tr style=\"text-align: right;\">\n      <th></th>\n      <th>City</th>\n      <th>Country</th>\n      <th>Lat</th>\n      <th>Lng</th>\n      <th>Max Temp</th>\n      <th>Humidity</th>\n      <th>Cloudiness</th>\n      <th>Wind Speed</th>\n      <th>Current Description</th>\n      <th>Rain (Inches)</th>\n      <th>Snow (Inches)</th>\n      <th>Date</th>\n    </tr>\n    <tr>\n      <th>City_ID</th>\n      <th></th>\n      <th></th>\n      <th></th>\n      <th></th>\n      <th></th>\n      <th></th>\n      <th></th>\n      <th></th>\n      <th></th>\n      <th></th>\n      <th></th>\n      <th></th>\n    </tr>\n  </thead>\n  <tbody>\n    <tr>\n      <th>0</th>\n      <td>Bonfim</td>\n      <td>BR</td>\n      <td>3.08</td>\n      <td>-59.95</td>\n      <td>87.37</td>\n      <td>61</td>\n      <td>96</td>\n      <td>4.90</td>\n      <td>light rain</td>\n      <td>0.0</td>\n      <td>0.0</td>\n      <td>2020-07-09 20:21:58</td>\n    </tr>\n    <tr>\n      <th>1</th>\n      <td>Victoria</td>\n      <td>HK</td>\n      <td>22.29</td>\n      <td>114.16</td>\n      <td>86.00</td>\n      <td>74</td>\n      <td>100</td>\n      <td>11.01</td>\n      <td>overcast clouds</td>\n      <td>0.0</td>\n      <td>0.0</td>\n      <td>2020-07-09 20:21:58</td>\n    </tr>\n    <tr>\n      <th>2</th>\n      <td>Cape Town</td>\n      <td>ZA</td>\n      <td>-33.93</td>\n      <td>18.42</td>\n      <td>55.00</td>\n      <td>93</td>\n      <td>75</td>\n      <td>6.93</td>\n      <td>moderate rain</td>\n      <td>0.1</td>\n      <td>0.0</td>\n      <td>2020-07-09 20:21:13</td>\n    </tr>\n    <tr>\n      <th>3</th>\n      <td>Manicore</td>\n      <td>BR</td>\n      <td>-5.81</td>\n      <td>-61.30</td>\n      <td>89.60</td>\n      <td>55</td>\n      <td>20</td>\n      <td>5.82</td>\n      <td>few clouds</td>\n      <td>0.0</td>\n      <td>0.0</td>\n      <td>2020-07-09 20:21:58</td>\n    </tr>\n    <tr>\n      <th>4</th>\n      <td>Hobart</td>\n      <td>AU</td>\n      <td>-42.88</td>\n      <td>147.33</td>\n      <td>37.40</td>\n      <td>93</td>\n      <td>20</td>\n      <td>6.93</td>\n      <td>light snow</td>\n      <td>0.0</td>\n      <td>0.0</td>\n      <td>2020-07-09 20:18:13</td>\n    </tr>\n  </tbody>\n</table>\n</div>"
     },
     "metadata": {},
     "execution_count": 2
    }
   ],
   "source": [
    "# Store the CSV you saved created in part one into a DataFrame.\n",
    "CityDataToLoad = os.path.join(\"data\",\"WeatherPy_database.csv\")\n",
    "city_data_df = pd.read_csv(CityDataToLoad)\n",
    "city_data_df = city_data_df.set_index(\"City_ID\")\n",
    "city_data_df.head()"
   ]
  },
  {
   "cell_type": "code",
   "execution_count": 3,
   "metadata": {},
   "outputs": [],
   "source": [
    "# Get the maximum temperature.\n",
    "max_temp = city_data_df[\"Max Temp\"]\n",
    "temps = []\n",
    "for temp in max_temp:\n",
    "    temps.append(max(temp, 0))"
   ]
  },
  {
   "cell_type": "code",
   "execution_count": 4,
   "metadata": {},
   "outputs": [],
   "source": [
    "#Gather User Parameters\n",
    "min_temp = float(input(\"What is the minimum temperature you would like for your trip? \"))\n",
    "max_temp = float(input(\"What is the maximum temperature you would like for your trip? \"))\n",
    "raining = \"\"\n",
    "snowing = \"\"\n",
    "while raining not in (\"yes\",\"no\"):\n",
    "    raining = input(\"Do you want it to be raining? (yes/no) \")\n",
    "while snowing not in (\"yes\",\"no\"):\n",
    "    snowing = input(\"Do you want it to be snowing? (yes/no) \")"
   ]
  },
  {
   "cell_type": "code",
   "execution_count": 5,
   "metadata": {},
   "outputs": [
    {
     "output_type": "execute_result",
     "data": {
      "text/plain": "                      City Country    Lat     Lng  Max Temp  Humidity  \\\nCity_ID                                                                 \n0                   Bonfim      BR   3.08  -59.95     87.37        61   \n1                 Victoria      HK  22.29  114.16     86.00        74   \n3                 Manicore      BR  -5.81  -61.30     89.60        55   \n6                  Aloleng      PH  16.13  119.78     82.74        80   \n7                 Iracoubo      GF   5.48  -53.20     81.82        78   \n8                Porbandar      IN  21.64   69.61     84.00        82   \n9            Makakilo City      US  21.35 -158.09     84.20        58   \n14                Katsuura      JP  35.13  140.30     75.00        96   \n18       Sao Joao Da Barra      BR -21.64  -41.05     75.20        73   \n25              Georgetown      MY   5.41  100.34     80.60        94   \n\n         Cloudiness  Wind Speed Current Description  Rain (Inches)  \\\nCity_ID                                                              \n0                96        4.90          light rain            0.0   \n1               100       11.01     overcast clouds            0.0   \n3                20        5.82          few clouds            0.0   \n6                99        7.11          light rain            0.0   \n7                35        6.20          light rain            0.0   \n8                31       19.44          light rain            0.0   \n9                75        9.17       broken clouds            0.0   \n14              100        5.01     overcast clouds            0.0   \n18                0       23.04           clear sky            0.0   \n25               40        3.36    scattered clouds            0.0   \n\n         Snow (Inches)                 Date  \nCity_ID                                      \n0                  0.0  2020-07-09 20:21:58  \n1                  0.0  2020-07-09 20:21:58  \n3                  0.0  2020-07-09 20:21:58  \n6                  0.0  2020-07-09 20:21:59  \n7                  0.0  2020-07-09 20:21:59  \n8                  0.0  2020-07-09 20:21:59  \n9                  0.0  2020-07-09 20:21:59  \n14                 0.0  2020-07-09 20:22:00  \n18                 0.0  2020-07-09 20:22:01  \n25                 0.0  2020-07-09 20:22:03  ",
      "text/html": "<div>\n<style scoped>\n    .dataframe tbody tr th:only-of-type {\n        vertical-align: middle;\n    }\n\n    .dataframe tbody tr th {\n        vertical-align: top;\n    }\n\n    .dataframe thead th {\n        text-align: right;\n    }\n</style>\n<table border=\"1\" class=\"dataframe\">\n  <thead>\n    <tr style=\"text-align: right;\">\n      <th></th>\n      <th>City</th>\n      <th>Country</th>\n      <th>Lat</th>\n      <th>Lng</th>\n      <th>Max Temp</th>\n      <th>Humidity</th>\n      <th>Cloudiness</th>\n      <th>Wind Speed</th>\n      <th>Current Description</th>\n      <th>Rain (Inches)</th>\n      <th>Snow (Inches)</th>\n      <th>Date</th>\n    </tr>\n    <tr>\n      <th>City_ID</th>\n      <th></th>\n      <th></th>\n      <th></th>\n      <th></th>\n      <th></th>\n      <th></th>\n      <th></th>\n      <th></th>\n      <th></th>\n      <th></th>\n      <th></th>\n      <th></th>\n    </tr>\n  </thead>\n  <tbody>\n    <tr>\n      <th>0</th>\n      <td>Bonfim</td>\n      <td>BR</td>\n      <td>3.08</td>\n      <td>-59.95</td>\n      <td>87.37</td>\n      <td>61</td>\n      <td>96</td>\n      <td>4.90</td>\n      <td>light rain</td>\n      <td>0.0</td>\n      <td>0.0</td>\n      <td>2020-07-09 20:21:58</td>\n    </tr>\n    <tr>\n      <th>1</th>\n      <td>Victoria</td>\n      <td>HK</td>\n      <td>22.29</td>\n      <td>114.16</td>\n      <td>86.00</td>\n      <td>74</td>\n      <td>100</td>\n      <td>11.01</td>\n      <td>overcast clouds</td>\n      <td>0.0</td>\n      <td>0.0</td>\n      <td>2020-07-09 20:21:58</td>\n    </tr>\n    <tr>\n      <th>3</th>\n      <td>Manicore</td>\n      <td>BR</td>\n      <td>-5.81</td>\n      <td>-61.30</td>\n      <td>89.60</td>\n      <td>55</td>\n      <td>20</td>\n      <td>5.82</td>\n      <td>few clouds</td>\n      <td>0.0</td>\n      <td>0.0</td>\n      <td>2020-07-09 20:21:58</td>\n    </tr>\n    <tr>\n      <th>6</th>\n      <td>Aloleng</td>\n      <td>PH</td>\n      <td>16.13</td>\n      <td>119.78</td>\n      <td>82.74</td>\n      <td>80</td>\n      <td>99</td>\n      <td>7.11</td>\n      <td>light rain</td>\n      <td>0.0</td>\n      <td>0.0</td>\n      <td>2020-07-09 20:21:59</td>\n    </tr>\n    <tr>\n      <th>7</th>\n      <td>Iracoubo</td>\n      <td>GF</td>\n      <td>5.48</td>\n      <td>-53.20</td>\n      <td>81.82</td>\n      <td>78</td>\n      <td>35</td>\n      <td>6.20</td>\n      <td>light rain</td>\n      <td>0.0</td>\n      <td>0.0</td>\n      <td>2020-07-09 20:21:59</td>\n    </tr>\n    <tr>\n      <th>8</th>\n      <td>Porbandar</td>\n      <td>IN</td>\n      <td>21.64</td>\n      <td>69.61</td>\n      <td>84.00</td>\n      <td>82</td>\n      <td>31</td>\n      <td>19.44</td>\n      <td>light rain</td>\n      <td>0.0</td>\n      <td>0.0</td>\n      <td>2020-07-09 20:21:59</td>\n    </tr>\n    <tr>\n      <th>9</th>\n      <td>Makakilo City</td>\n      <td>US</td>\n      <td>21.35</td>\n      <td>-158.09</td>\n      <td>84.20</td>\n      <td>58</td>\n      <td>75</td>\n      <td>9.17</td>\n      <td>broken clouds</td>\n      <td>0.0</td>\n      <td>0.0</td>\n      <td>2020-07-09 20:21:59</td>\n    </tr>\n    <tr>\n      <th>14</th>\n      <td>Katsuura</td>\n      <td>JP</td>\n      <td>35.13</td>\n      <td>140.30</td>\n      <td>75.00</td>\n      <td>96</td>\n      <td>100</td>\n      <td>5.01</td>\n      <td>overcast clouds</td>\n      <td>0.0</td>\n      <td>0.0</td>\n      <td>2020-07-09 20:22:00</td>\n    </tr>\n    <tr>\n      <th>18</th>\n      <td>Sao Joao Da Barra</td>\n      <td>BR</td>\n      <td>-21.64</td>\n      <td>-41.05</td>\n      <td>75.20</td>\n      <td>73</td>\n      <td>0</td>\n      <td>23.04</td>\n      <td>clear sky</td>\n      <td>0.0</td>\n      <td>0.0</td>\n      <td>2020-07-09 20:22:01</td>\n    </tr>\n    <tr>\n      <th>25</th>\n      <td>Georgetown</td>\n      <td>MY</td>\n      <td>5.41</td>\n      <td>100.34</td>\n      <td>80.60</td>\n      <td>94</td>\n      <td>40</td>\n      <td>3.36</td>\n      <td>scattered clouds</td>\n      <td>0.0</td>\n      <td>0.0</td>\n      <td>2020-07-09 20:22:03</td>\n    </tr>\n  </tbody>\n</table>\n</div>"
     },
     "metadata": {},
     "execution_count": 5
    }
   ],
   "source": [
    "# Filter the dataset to find the cities that fit the criteria.\n",
    "if raining == \"yes\" and snowing == \"yes\":\n",
    "    preferred_cities_df = city_data_df.loc[(city_data_df[\"Max Temp\"] <= max_temp) & \\\n",
    "                                       (city_data_df[\"Max Temp\"] >= min_temp) & \\\n",
    "                                       (city_data_df[\"Rain (Inches)\"] > 0) & \\\n",
    "                                       (city_data_df[\"Snow (Inches)\"] > 0)]\n",
    "elif raining == \"yes\" and snowing == \"no\":\n",
    "    preferred_cities_df = city_data_df.loc[(city_data_df[\"Max Temp\"] <= max_temp) & \\\n",
    "                                       (city_data_df[\"Max Temp\"] >= min_temp) & \\\n",
    "                                       (city_data_df[\"Rain (Inches)\"] > 0) & \\\n",
    "                                       (city_data_df[\"Snow (Inches)\"] == 0)]\n",
    "elif raining == \"no\" and snowing == \"yes\":\n",
    "    preferred_cities_df = city_data_df.loc[(city_data_df[\"Max Temp\"] <= max_temp) & \\\n",
    "                                       (city_data_df[\"Max Temp\"] >= min_temp) & \\\n",
    "                                       (city_data_df[\"Rain (Inches)\"] == 0) & \\\n",
    "                                       (city_data_df[\"Snow (Inches)\"] > 0)]\n",
    "else:\n",
    "    preferred_cities_df = city_data_df.loc[(city_data_df[\"Max Temp\"] <= max_temp) & \\\n",
    "                                       (city_data_df[\"Max Temp\"] >= min_temp) & \\\n",
    "                                       (city_data_df[\"Rain (Inches)\"] == 0) & \\\n",
    "                                       (city_data_df[\"Snow (Inches)\"] == 0)]\n",
    "preferred_cities_df.head(10)"
   ]
  },
  {
   "cell_type": "code",
   "execution_count": 6,
   "metadata": {},
   "outputs": [],
   "source": [
    "# Create DataFrame called hotel_df to store hotel names along with city, country, max temp, and coordinates.\n",
    "hotel_df = preferred_cities_df[[\"City\", \"Country\", \"Max Temp\",\"Current Description\",\"Lat\", \"Lng\"]].copy()\n",
    "hotel_df[\"Hotel Name\"] = \"\""
   ]
  },
  {
   "cell_type": "code",
   "execution_count": 7,
   "metadata": {},
   "outputs": [],
   "source": [
    "# Set parameters to search for a hotel.\n",
    "params = {\n",
    "    \"radius\": 5000,\n",
    "    \"type\": \"lodging\",\n",
    "    \"key\": g_key\n",
    "}"
   ]
  },
  {
   "cell_type": "code",
   "execution_count": 8,
   "metadata": {
    "tags": []
   },
   "outputs": [
    {
     "output_type": "stream",
     "name": "stdout",
     "text": "Hotel not found... skipping.\nHotel not found... skipping.\nHotel not found... skipping.\nHotel not found... skipping.\nHotel not found... skipping.\nHotel not found... skipping.\nHotel not found... skipping.\nHotel not found... skipping.\nHotel not found... skipping.\nHotel not found... skipping.\nHotel not found... skipping.\nHotel not found... skipping.\nHotel not found... skipping.\nHotel not found... skipping.\nHotel not found... skipping.\nHotel not found... skipping.\nHotel not found... skipping.\n"
    }
   ],
   "source": [
    "# Iterate through the DataFrame.\n",
    "for index, row in hotel_df.iterrows():\n",
    "    # Get the latitude and longitude.\n",
    "    lat = row[\"Lat\"]\n",
    "    lng = row[\"Lng\"]\n",
    "\n",
    "    # Add the latitude and longitude to location key for the params dictionary.\n",
    "    params[\"location\"] = f\"{lat},{lng}\"\n",
    "\n",
    "    # Use the search term: \"lodging\" and our latitude and longitude.\n",
    "    base_url = \"https://maps.googleapis.com/maps/api/place/nearbysearch/json\"\n",
    "    # Make request and get the JSON data from the search.\n",
    "    hotels = requests.get(base_url, params=params).json()\n",
    "    # Grab the first hotel from the results and store the name.\n",
    "    try:\n",
    "        hotel_df.loc[index, \"Hotel Name\"] = hotels[\"results\"][0][\"name\"]\n",
    "    except (IndexError):\n",
    "        print(\"Hotel not found... skipping.\")"
   ]
  },
  {
   "cell_type": "code",
   "execution_count": 9,
   "metadata": {},
   "outputs": [
    {
     "output_type": "execute_result",
     "data": {
      "text/plain": "                      City Country  Max Temp Current Description    Lat  \\\nCity_ID                                                                   \n0                   Bonfim      BR     87.37          light rain   3.08   \n1                 Victoria      HK     86.00     overcast clouds  22.29   \n3                 Manicore      BR     89.60          few clouds  -5.81   \n6                  Aloleng      PH     82.74          light rain  16.13   \n7                 Iracoubo      GF     81.82          light rain   5.48   \n8                Porbandar      IN     84.00          light rain  21.64   \n9            Makakilo City      US     84.20       broken clouds  21.35   \n14                Katsuura      JP     75.00     overcast clouds  35.13   \n18       Sao Joao Da Barra      BR     75.20           clear sky -21.64   \n25              Georgetown      MY     80.60    scattered clouds   5.41   \n\n            Lng                      Hotel Name  \nCity_ID                                          \n0        -59.95                                  \n1        114.16              Mini Hotel Central  \n3        -61.30                Pousada da wanda  \n6        119.78             Agno Umbrella Rocks  \n7        -53.20              Le Gite D Iracoubo  \n8         69.61             Lords Inn Porbandar  \n9       -158.09  Marriott's Ko Olina Beach Club  \n14       140.30         Katsuura Hotel Mikazuki  \n18       -41.05         Pousada Porto De Canoas  \n25       100.34                  Cititel Penang  ",
      "text/html": "<div>\n<style scoped>\n    .dataframe tbody tr th:only-of-type {\n        vertical-align: middle;\n    }\n\n    .dataframe tbody tr th {\n        vertical-align: top;\n    }\n\n    .dataframe thead th {\n        text-align: right;\n    }\n</style>\n<table border=\"1\" class=\"dataframe\">\n  <thead>\n    <tr style=\"text-align: right;\">\n      <th></th>\n      <th>City</th>\n      <th>Country</th>\n      <th>Max Temp</th>\n      <th>Current Description</th>\n      <th>Lat</th>\n      <th>Lng</th>\n      <th>Hotel Name</th>\n    </tr>\n    <tr>\n      <th>City_ID</th>\n      <th></th>\n      <th></th>\n      <th></th>\n      <th></th>\n      <th></th>\n      <th></th>\n      <th></th>\n    </tr>\n  </thead>\n  <tbody>\n    <tr>\n      <th>0</th>\n      <td>Bonfim</td>\n      <td>BR</td>\n      <td>87.37</td>\n      <td>light rain</td>\n      <td>3.08</td>\n      <td>-59.95</td>\n      <td></td>\n    </tr>\n    <tr>\n      <th>1</th>\n      <td>Victoria</td>\n      <td>HK</td>\n      <td>86.00</td>\n      <td>overcast clouds</td>\n      <td>22.29</td>\n      <td>114.16</td>\n      <td>Mini Hotel Central</td>\n    </tr>\n    <tr>\n      <th>3</th>\n      <td>Manicore</td>\n      <td>BR</td>\n      <td>89.60</td>\n      <td>few clouds</td>\n      <td>-5.81</td>\n      <td>-61.30</td>\n      <td>Pousada da wanda</td>\n    </tr>\n    <tr>\n      <th>6</th>\n      <td>Aloleng</td>\n      <td>PH</td>\n      <td>82.74</td>\n      <td>light rain</td>\n      <td>16.13</td>\n      <td>119.78</td>\n      <td>Agno Umbrella Rocks</td>\n    </tr>\n    <tr>\n      <th>7</th>\n      <td>Iracoubo</td>\n      <td>GF</td>\n      <td>81.82</td>\n      <td>light rain</td>\n      <td>5.48</td>\n      <td>-53.20</td>\n      <td>Le Gite D Iracoubo</td>\n    </tr>\n    <tr>\n      <th>8</th>\n      <td>Porbandar</td>\n      <td>IN</td>\n      <td>84.00</td>\n      <td>light rain</td>\n      <td>21.64</td>\n      <td>69.61</td>\n      <td>Lords Inn Porbandar</td>\n    </tr>\n    <tr>\n      <th>9</th>\n      <td>Makakilo City</td>\n      <td>US</td>\n      <td>84.20</td>\n      <td>broken clouds</td>\n      <td>21.35</td>\n      <td>-158.09</td>\n      <td>Marriott's Ko Olina Beach Club</td>\n    </tr>\n    <tr>\n      <th>14</th>\n      <td>Katsuura</td>\n      <td>JP</td>\n      <td>75.00</td>\n      <td>overcast clouds</td>\n      <td>35.13</td>\n      <td>140.30</td>\n      <td>Katsuura Hotel Mikazuki</td>\n    </tr>\n    <tr>\n      <th>18</th>\n      <td>Sao Joao Da Barra</td>\n      <td>BR</td>\n      <td>75.20</td>\n      <td>clear sky</td>\n      <td>-21.64</td>\n      <td>-41.05</td>\n      <td>Pousada Porto De Canoas</td>\n    </tr>\n    <tr>\n      <th>25</th>\n      <td>Georgetown</td>\n      <td>MY</td>\n      <td>80.60</td>\n      <td>scattered clouds</td>\n      <td>5.41</td>\n      <td>100.34</td>\n      <td>Cititel Penang</td>\n    </tr>\n  </tbody>\n</table>\n</div>"
     },
     "metadata": {},
     "execution_count": 9
    }
   ],
   "source": [
    "hotel_df.head(10)"
   ]
  },
  {
   "cell_type": "code",
   "execution_count": 10,
   "metadata": {},
   "outputs": [],
   "source": [
    "info_box_template = \"\"\"\n",
    "<dl>\n",
    "<dt>Hotel Name</dt><dd>{Hotel Name}</dd>\n",
    "<dt>City</dt><dd>{City}</dd>\n",
    "<dt>Country</dt><dd>{Country}</dd>\n",
    "<dt>Current Weather</dt><dd>{Current Description} and {Max Temp} °F</dd>\n",
    "</dl>\n",
    "\"\"\"\n",
    "\n",
    "# Store the DataFrame Row.\n",
    "hotel_info = [info_box_template.format(**row) for index, row in hotel_df.iterrows()]"
   ]
  },
  {
   "cell_type": "code",
   "execution_count": 11,
   "metadata": {},
   "outputs": [
    {
     "output_type": "display_data",
     "data": {
      "text/plain": "Figure(layout=FigureLayout(height='420px'))",
      "application/vnd.jupyter.widget-view+json": {
       "version_major": 2,
       "version_minor": 0,
       "model_id": "7cbb8f8fb8af407f92c950c225e51abb"
      }
     },
     "metadata": {}
    }
   ],
   "source": [
    "# Map the Vacation spots with a pop-up marker for each city.\n",
    "locations = hotel_df[[\"Lat\", \"Lng\"]]\n",
    "max_temp = hotel_df[\"Max Temp\"]\n",
    "fig = gmaps.figure(center=(30.0, 31.0), zoom_level=1.5)\n",
    "marker_layer = gmaps.marker_layer(locations, info_box_content=hotel_info)\n",
    "fig.add_layer(marker_layer)\n",
    "# Call the figure to plot the data.\n",
    "fig"
   ]
  },
  {
   "cell_type": "code",
   "execution_count": 12,
   "metadata": {},
   "outputs": [],
   "source": [
    "# Create the output file (CSV).\n",
    "output_data_file = os.path.join(\"data\",\"WeatherPy_vacation.csv\")\n",
    "# Export the City_Data into a CSV.\n",
    "preferred_cities_df.to_csv(output_data_file, index_label=\"City_ID\")"
   ]
  },
  {
   "cell_type": "code",
   "execution_count": null,
   "metadata": {},
   "outputs": [],
   "source": []
  }
 ],
 "metadata": {
  "language_info": {
   "codemirror_mode": {
    "name": "ipython",
    "version": 3
   },
   "file_extension": ".py",
   "mimetype": "text/x-python",
   "name": "python",
   "nbconvert_exporter": "python",
   "pygments_lexer": "ipython3",
   "version": "3.7.7-final"
  },
  "orig_nbformat": 2,
  "kernelspec": {
   "name": "python_defaultSpec_1594326439748",
   "display_name": "Python 3.7.7 64-bit ('PythonData': conda)"
  }
 },
 "nbformat": 4,
 "nbformat_minor": 2
}