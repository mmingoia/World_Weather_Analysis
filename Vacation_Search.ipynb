{
 "cells": [
  {
   "cell_type": "code",
   "execution_count": 50,
   "metadata": {},
   "outputs": [],
   "source": [
    "# Import the dependencies.\n",
    "import pandas as pd\n",
    "import gmaps\n",
    "import requests\n",
    "import os\n",
    "# Import the API key.\n",
    "from config import g_key\n",
    "# Configure gmaps to use your Google API key.\n",
    "gmaps.configure(api_key=g_key)"
   ]
  },
  {
   "cell_type": "code",
   "execution_count": 12,
   "metadata": {},
   "outputs": [
    {
     "output_type": "execute_result",
     "data": {
      "text/plain": "               City Country    Lat     Lng  Max Temp  Humidity  Cloudiness  \\\nCity_ID                                                                      \n0           Mataura      NZ -46.19  168.86     41.38        91         100   \n1        Hambantota      LK   6.12   81.12     78.80       100          40   \n2            Laguna      US  38.42 -121.42     84.99        43           0   \n3              Lebu      CL -37.62  -73.65     53.69        93         100   \n4         Mahebourg      MU -20.41   57.70     71.60        68          75   \n\n         Wind Speed          Current Description  Rain (Inches)  \\\nCity_ID                                                           \n0              5.75              overcast clouds            0.0   \n1              3.36             scattered clouds            0.0   \n2              1.01                    clear sky            0.0   \n3             24.94                   light rain            0.0   \n4             17.22  light intensity shower rain            0.0   \n\n         Snow (Inches)                 Date  \nCity_ID                                      \n0                  0.0  2020-07-09 18:44:51  \n1                  0.0  2020-07-09 18:44:51  \n2                  0.0  2020-07-09 18:44:51  \n3                  0.0  2020-07-09 18:44:51  \n4                  0.0  2020-07-09 18:44:52  ",
      "text/html": "<div>\n<style scoped>\n    .dataframe tbody tr th:only-of-type {\n        vertical-align: middle;\n    }\n\n    .dataframe tbody tr th {\n        vertical-align: top;\n    }\n\n    .dataframe thead th {\n        text-align: right;\n    }\n</style>\n<table border=\"1\" class=\"dataframe\">\n  <thead>\n    <tr style=\"text-align: right;\">\n      <th></th>\n      <th>City</th>\n      <th>Country</th>\n      <th>Lat</th>\n      <th>Lng</th>\n      <th>Max Temp</th>\n      <th>Humidity</th>\n      <th>Cloudiness</th>\n      <th>Wind Speed</th>\n      <th>Current Description</th>\n      <th>Rain (Inches)</th>\n      <th>Snow (Inches)</th>\n      <th>Date</th>\n    </tr>\n    <tr>\n      <th>City_ID</th>\n      <th></th>\n      <th></th>\n      <th></th>\n      <th></th>\n      <th></th>\n      <th></th>\n      <th></th>\n      <th></th>\n      <th></th>\n      <th></th>\n      <th></th>\n      <th></th>\n    </tr>\n  </thead>\n  <tbody>\n    <tr>\n      <th>0</th>\n      <td>Mataura</td>\n      <td>NZ</td>\n      <td>-46.19</td>\n      <td>168.86</td>\n      <td>41.38</td>\n      <td>91</td>\n      <td>100</td>\n      <td>5.75</td>\n      <td>overcast clouds</td>\n      <td>0.0</td>\n      <td>0.0</td>\n      <td>2020-07-09 18:44:51</td>\n    </tr>\n    <tr>\n      <th>1</th>\n      <td>Hambantota</td>\n      <td>LK</td>\n      <td>6.12</td>\n      <td>81.12</td>\n      <td>78.80</td>\n      <td>100</td>\n      <td>40</td>\n      <td>3.36</td>\n      <td>scattered clouds</td>\n      <td>0.0</td>\n      <td>0.0</td>\n      <td>2020-07-09 18:44:51</td>\n    </tr>\n    <tr>\n      <th>2</th>\n      <td>Laguna</td>\n      <td>US</td>\n      <td>38.42</td>\n      <td>-121.42</td>\n      <td>84.99</td>\n      <td>43</td>\n      <td>0</td>\n      <td>1.01</td>\n      <td>clear sky</td>\n      <td>0.0</td>\n      <td>0.0</td>\n      <td>2020-07-09 18:44:51</td>\n    </tr>\n    <tr>\n      <th>3</th>\n      <td>Lebu</td>\n      <td>CL</td>\n      <td>-37.62</td>\n      <td>-73.65</td>\n      <td>53.69</td>\n      <td>93</td>\n      <td>100</td>\n      <td>24.94</td>\n      <td>light rain</td>\n      <td>0.0</td>\n      <td>0.0</td>\n      <td>2020-07-09 18:44:51</td>\n    </tr>\n    <tr>\n      <th>4</th>\n      <td>Mahebourg</td>\n      <td>MU</td>\n      <td>-20.41</td>\n      <td>57.70</td>\n      <td>71.60</td>\n      <td>68</td>\n      <td>75</td>\n      <td>17.22</td>\n      <td>light intensity shower rain</td>\n      <td>0.0</td>\n      <td>0.0</td>\n      <td>2020-07-09 18:44:52</td>\n    </tr>\n  </tbody>\n</table>\n</div>"
     },
     "metadata": {},
     "execution_count": 12
    }
   ],
   "source": [
    "# Store the CSV you saved created in part one into a DataFrame.\n",
    "CityDataToLoad = os.path.join(\"data\",\"WeatherPy_database.csv\")\n",
    "city_data_df = pd.read_csv(CityDataToLoad)\n",
    "city_data_df = city_data_df.set_index(\"City_ID\")\n",
    "city_data_df.head()"
   ]
  },
  {
   "cell_type": "code",
   "execution_count": 13,
   "metadata": {},
   "outputs": [],
   "source": [
    "# Get the maximum temperature.\n",
    "max_temp = city_data_df[\"Max Temp\"]\n",
    "temps = []\n",
    "for temp in max_temp:\n",
    "    temps.append(max(temp, 0))"
   ]
  },
  {
   "cell_type": "code",
   "execution_count": 29,
   "metadata": {},
   "outputs": [],
   "source": [
    "#Gather User Parameters\n",
    "min_temp = float(input(\"What is the minimum temperature you would like for your trip? \"))\n",
    "max_temp = float(input(\"What is the maximum temperature you would like for your trip? \"))\n",
    "raining = \"\"\n",
    "snowing = \"\"\n",
    "while raining not in (\"yes\",\"no\"):\n",
    "    raining = input(\"Do you want it to be raining? (yes/no) \")\n",
    "while snowing not in (\"yes\",\"no\"):\n",
    "    snowing = input(\"Do you want it to be snowing? (yes/no) \")"
   ]
  },
  {
   "cell_type": "code",
   "execution_count": 30,
   "metadata": {},
   "outputs": [
    {
     "output_type": "execute_result",
     "data": {
      "text/plain": "                 City Country    Lat     Lng  Max Temp  Humidity  Cloudiness  \\\nCity_ID                                                                        \n1          Hambantota      LK   6.12   81.12     78.80       100          40   \n5              Avarua      CK -21.21 -159.78     75.20        73          20   \n12              Birin      NP  26.89   88.07     78.80        94          75   \n13       Ponta Do Sol      PT  32.67  -17.10     75.20        69          20   \n22            Sibolga      ID   1.74   98.78     78.03        71         100   \n24             Kokopo      PG  -4.35  152.26     77.07        79          66   \n31              Mahon      ES  39.89    4.27     77.00        69           8   \n32           Balkhash      KZ  46.84   74.98     75.47        44          17   \n36        Kloulklubed      PW   7.04  134.26     77.00        94          90   \n45          Caravelas      BR -17.71  -39.25     77.45        67           0   \n\n         Wind Speed Current Description  Rain (Inches)  Snow (Inches)  \\\nCity_ID                                                                 \n1              3.36    scattered clouds            0.0            0.0   \n5             10.29          few clouds            0.0            0.0   \n12             3.36       broken clouds            0.0            0.0   \n13            16.11          few clouds            0.0            0.0   \n22             2.24     overcast clouds            0.0            0.0   \n24             5.93       broken clouds            0.0            0.0   \n31             9.17           clear sky            0.0            0.0   \n32            16.91          few clouds            0.0            0.0   \n36             3.36     overcast clouds            0.0            0.0   \n45             8.21           clear sky            0.0            0.0   \n\n                        Date  \nCity_ID                       \n1        2020-07-09 18:44:51  \n5        2020-07-09 18:44:52  \n12       2020-07-09 18:35:25  \n13       2020-07-09 18:44:53  \n22       2020-07-09 18:44:55  \n24       2020-07-09 18:44:55  \n31       2020-07-09 18:44:57  \n32       2020-07-09 18:44:57  \n36       2020-07-09 18:44:58  \n45       2020-07-09 18:45:00  ",
      "text/html": "<div>\n<style scoped>\n    .dataframe tbody tr th:only-of-type {\n        vertical-align: middle;\n    }\n\n    .dataframe tbody tr th {\n        vertical-align: top;\n    }\n\n    .dataframe thead th {\n        text-align: right;\n    }\n</style>\n<table border=\"1\" class=\"dataframe\">\n  <thead>\n    <tr style=\"text-align: right;\">\n      <th></th>\n      <th>City</th>\n      <th>Country</th>\n      <th>Lat</th>\n      <th>Lng</th>\n      <th>Max Temp</th>\n      <th>Humidity</th>\n      <th>Cloudiness</th>\n      <th>Wind Speed</th>\n      <th>Current Description</th>\n      <th>Rain (Inches)</th>\n      <th>Snow (Inches)</th>\n      <th>Date</th>\n    </tr>\n    <tr>\n      <th>City_ID</th>\n      <th></th>\n      <th></th>\n      <th></th>\n      <th></th>\n      <th></th>\n      <th></th>\n      <th></th>\n      <th></th>\n      <th></th>\n      <th></th>\n      <th></th>\n      <th></th>\n    </tr>\n  </thead>\n  <tbody>\n    <tr>\n      <th>1</th>\n      <td>Hambantota</td>\n      <td>LK</td>\n      <td>6.12</td>\n      <td>81.12</td>\n      <td>78.80</td>\n      <td>100</td>\n      <td>40</td>\n      <td>3.36</td>\n      <td>scattered clouds</td>\n      <td>0.0</td>\n      <td>0.0</td>\n      <td>2020-07-09 18:44:51</td>\n    </tr>\n    <tr>\n      <th>5</th>\n      <td>Avarua</td>\n      <td>CK</td>\n      <td>-21.21</td>\n      <td>-159.78</td>\n      <td>75.20</td>\n      <td>73</td>\n      <td>20</td>\n      <td>10.29</td>\n      <td>few clouds</td>\n      <td>0.0</td>\n      <td>0.0</td>\n      <td>2020-07-09 18:44:52</td>\n    </tr>\n    <tr>\n      <th>12</th>\n      <td>Birin</td>\n      <td>NP</td>\n      <td>26.89</td>\n      <td>88.07</td>\n      <td>78.80</td>\n      <td>94</td>\n      <td>75</td>\n      <td>3.36</td>\n      <td>broken clouds</td>\n      <td>0.0</td>\n      <td>0.0</td>\n      <td>2020-07-09 18:35:25</td>\n    </tr>\n    <tr>\n      <th>13</th>\n      <td>Ponta Do Sol</td>\n      <td>PT</td>\n      <td>32.67</td>\n      <td>-17.10</td>\n      <td>75.20</td>\n      <td>69</td>\n      <td>20</td>\n      <td>16.11</td>\n      <td>few clouds</td>\n      <td>0.0</td>\n      <td>0.0</td>\n      <td>2020-07-09 18:44:53</td>\n    </tr>\n    <tr>\n      <th>22</th>\n      <td>Sibolga</td>\n      <td>ID</td>\n      <td>1.74</td>\n      <td>98.78</td>\n      <td>78.03</td>\n      <td>71</td>\n      <td>100</td>\n      <td>2.24</td>\n      <td>overcast clouds</td>\n      <td>0.0</td>\n      <td>0.0</td>\n      <td>2020-07-09 18:44:55</td>\n    </tr>\n    <tr>\n      <th>24</th>\n      <td>Kokopo</td>\n      <td>PG</td>\n      <td>-4.35</td>\n      <td>152.26</td>\n      <td>77.07</td>\n      <td>79</td>\n      <td>66</td>\n      <td>5.93</td>\n      <td>broken clouds</td>\n      <td>0.0</td>\n      <td>0.0</td>\n      <td>2020-07-09 18:44:55</td>\n    </tr>\n    <tr>\n      <th>31</th>\n      <td>Mahon</td>\n      <td>ES</td>\n      <td>39.89</td>\n      <td>4.27</td>\n      <td>77.00</td>\n      <td>69</td>\n      <td>8</td>\n      <td>9.17</td>\n      <td>clear sky</td>\n      <td>0.0</td>\n      <td>0.0</td>\n      <td>2020-07-09 18:44:57</td>\n    </tr>\n    <tr>\n      <th>32</th>\n      <td>Balkhash</td>\n      <td>KZ</td>\n      <td>46.84</td>\n      <td>74.98</td>\n      <td>75.47</td>\n      <td>44</td>\n      <td>17</td>\n      <td>16.91</td>\n      <td>few clouds</td>\n      <td>0.0</td>\n      <td>0.0</td>\n      <td>2020-07-09 18:44:57</td>\n    </tr>\n    <tr>\n      <th>36</th>\n      <td>Kloulklubed</td>\n      <td>PW</td>\n      <td>7.04</td>\n      <td>134.26</td>\n      <td>77.00</td>\n      <td>94</td>\n      <td>90</td>\n      <td>3.36</td>\n      <td>overcast clouds</td>\n      <td>0.0</td>\n      <td>0.0</td>\n      <td>2020-07-09 18:44:58</td>\n    </tr>\n    <tr>\n      <th>45</th>\n      <td>Caravelas</td>\n      <td>BR</td>\n      <td>-17.71</td>\n      <td>-39.25</td>\n      <td>77.45</td>\n      <td>67</td>\n      <td>0</td>\n      <td>8.21</td>\n      <td>clear sky</td>\n      <td>0.0</td>\n      <td>0.0</td>\n      <td>2020-07-09 18:45:00</td>\n    </tr>\n  </tbody>\n</table>\n</div>"
     },
     "metadata": {},
     "execution_count": 30
    }
   ],
   "source": [
    "# Filter the dataset to find the cities that fit the criteria.\n",
    "if raining == \"yes\" and snowing == \"yes\":\n",
    "    preferred_cities_df = city_data_df.loc[(city_data_df[\"Max Temp\"] <= max_temp) & \\\n",
    "                                       (city_data_df[\"Max Temp\"] >= min_temp) & \\\n",
    "                                       (city_data_df[\"Rain (Inches)\"] > 0) & \\\n",
    "                                       (city_data_df[\"Snow (Inches)\"] > 0)]\n",
    "elif raining == \"yes\" and snowing == \"no\":\n",
    "    preferred_cities_df = city_data_df.loc[(city_data_df[\"Max Temp\"] <= max_temp) & \\\n",
    "                                       (city_data_df[\"Max Temp\"] >= min_temp) & \\\n",
    "                                       (city_data_df[\"Rain (Inches)\"] > 0) & \\\n",
    "                                       (city_data_df[\"Snow (Inches)\"] == 0)]\n",
    "elif raining == \"no\" and snowing == \"yes\":\n",
    "    preferred_cities_df = city_data_df.loc[(city_data_df[\"Max Temp\"] <= max_temp) & \\\n",
    "                                       (city_data_df[\"Max Temp\"] >= min_temp) & \\\n",
    "                                       (city_data_df[\"Rain (Inches)\"] == 0) & \\\n",
    "                                       (city_data_df[\"Snow (Inches)\"] > 0)]\n",
    "else:\n",
    "    preferred_cities_df = city_data_df.loc[(city_data_df[\"Max Temp\"] <= max_temp) & \\\n",
    "                                       (city_data_df[\"Max Temp\"] >= min_temp) & \\\n",
    "                                       (city_data_df[\"Rain (Inches)\"] == 0) & \\\n",
    "                                       (city_data_df[\"Snow (Inches)\"] == 0)]\n",
    "preferred_cities_df.head(10)"
   ]
  },
  {
   "cell_type": "code",
   "execution_count": 34,
   "metadata": {},
   "outputs": [],
   "source": [
    "# Create DataFrame called hotel_df to store hotel names along with city, country, max temp, and coordinates.\n",
    "hotel_df = preferred_cities_df[[\"City\", \"Country\", \"Max Temp\",\"Current Description\",\"Lat\", \"Lng\"]].copy()\n",
    "hotel_df[\"Hotel Name\"] = \"\""
   ]
  },
  {
   "cell_type": "code",
   "execution_count": 35,
   "metadata": {},
   "outputs": [],
   "source": [
    "# Set parameters to search for a hotel.\n",
    "params = {\n",
    "    \"radius\": 5000,\n",
    "    \"type\": \"lodging\",\n",
    "    \"key\": g_key\n",
    "}"
   ]
  },
  {
   "cell_type": "code",
   "execution_count": 36,
   "metadata": {
    "tags": []
   },
   "outputs": [
    {
     "output_type": "stream",
     "name": "stdout",
     "text": "Hotel not found... skipping.\nHotel not found... skipping.\nHotel not found... skipping.\n"
    }
   ],
   "source": [
    "# Iterate through the DataFrame.\n",
    "for index, row in hotel_df.iterrows():\n",
    "    # Get the latitude and longitude.\n",
    "    lat = row[\"Lat\"]\n",
    "    lng = row[\"Lng\"]\n",
    "\n",
    "    # Add the latitude and longitude to location key for the params dictionary.\n",
    "    params[\"location\"] = f\"{lat},{lng}\"\n",
    "\n",
    "    # Use the search term: \"lodging\" and our latitude and longitude.\n",
    "    base_url = \"https://maps.googleapis.com/maps/api/place/nearbysearch/json\"\n",
    "    # Make request and get the JSON data from the search.\n",
    "    hotels = requests.get(base_url, params=params).json()\n",
    "    # Grab the first hotel from the results and store the name.\n",
    "    try:\n",
    "        hotel_df.loc[index, \"Hotel Name\"] = hotels[\"results\"][0][\"name\"]\n",
    "    except (IndexError):\n",
    "        print(\"Hotel not found... skipping.\")"
   ]
  },
  {
   "cell_type": "code",
   "execution_count": 37,
   "metadata": {},
   "outputs": [
    {
     "output_type": "execute_result",
     "data": {
      "text/plain": "                 City Country  Max Temp Current Description    Lat     Lng  \\\nCity_ID                                                                      \n1          Hambantota      LK     78.80    scattered clouds   6.12   81.12   \n5              Avarua      CK     75.20          few clouds -21.21 -159.78   \n12              Birin      NP     78.80       broken clouds  26.89   88.07   \n13       Ponta Do Sol      PT     75.20          few clouds  32.67  -17.10   \n22            Sibolga      ID     78.03     overcast clouds   1.74   98.78   \n24             Kokopo      PG     77.07       broken clouds  -4.35  152.26   \n31              Mahon      ES     77.00           clear sky  39.89    4.27   \n32           Balkhash      KZ     75.47          few clouds  46.84   74.98   \n36        Kloulklubed      PW     77.00     overcast clouds   7.04  134.26   \n45          Caravelas      BR     77.45           clear sky -17.71  -39.25   \n\n                           Hotel Name  \nCity_ID                                \n1                         Bungalow 63  \n5                        Paradise Inn  \n12                    HOTEL SURYODAYA  \n13                     Hotel do Campo  \n22        Hotel Syariah CN Darussalam  \n24       Kokopo Beach Bungalow Resort  \n31                       ARTIEM Capri  \n32                             Family  \n36            Storyboard Beach Resort  \n45             Pousada dos Navegantes  ",
      "text/html": "<div>\n<style scoped>\n    .dataframe tbody tr th:only-of-type {\n        vertical-align: middle;\n    }\n\n    .dataframe tbody tr th {\n        vertical-align: top;\n    }\n\n    .dataframe thead th {\n        text-align: right;\n    }\n</style>\n<table border=\"1\" class=\"dataframe\">\n  <thead>\n    <tr style=\"text-align: right;\">\n      <th></th>\n      <th>City</th>\n      <th>Country</th>\n      <th>Max Temp</th>\n      <th>Current Description</th>\n      <th>Lat</th>\n      <th>Lng</th>\n      <th>Hotel Name</th>\n    </tr>\n    <tr>\n      <th>City_ID</th>\n      <th></th>\n      <th></th>\n      <th></th>\n      <th></th>\n      <th></th>\n      <th></th>\n      <th></th>\n    </tr>\n  </thead>\n  <tbody>\n    <tr>\n      <th>1</th>\n      <td>Hambantota</td>\n      <td>LK</td>\n      <td>78.80</td>\n      <td>scattered clouds</td>\n      <td>6.12</td>\n      <td>81.12</td>\n      <td>Bungalow 63</td>\n    </tr>\n    <tr>\n      <th>5</th>\n      <td>Avarua</td>\n      <td>CK</td>\n      <td>75.20</td>\n      <td>few clouds</td>\n      <td>-21.21</td>\n      <td>-159.78</td>\n      <td>Paradise Inn</td>\n    </tr>\n    <tr>\n      <th>12</th>\n      <td>Birin</td>\n      <td>NP</td>\n      <td>78.80</td>\n      <td>broken clouds</td>\n      <td>26.89</td>\n      <td>88.07</td>\n      <td>HOTEL SURYODAYA</td>\n    </tr>\n    <tr>\n      <th>13</th>\n      <td>Ponta Do Sol</td>\n      <td>PT</td>\n      <td>75.20</td>\n      <td>few clouds</td>\n      <td>32.67</td>\n      <td>-17.10</td>\n      <td>Hotel do Campo</td>\n    </tr>\n    <tr>\n      <th>22</th>\n      <td>Sibolga</td>\n      <td>ID</td>\n      <td>78.03</td>\n      <td>overcast clouds</td>\n      <td>1.74</td>\n      <td>98.78</td>\n      <td>Hotel Syariah CN Darussalam</td>\n    </tr>\n    <tr>\n      <th>24</th>\n      <td>Kokopo</td>\n      <td>PG</td>\n      <td>77.07</td>\n      <td>broken clouds</td>\n      <td>-4.35</td>\n      <td>152.26</td>\n      <td>Kokopo Beach Bungalow Resort</td>\n    </tr>\n    <tr>\n      <th>31</th>\n      <td>Mahon</td>\n      <td>ES</td>\n      <td>77.00</td>\n      <td>clear sky</td>\n      <td>39.89</td>\n      <td>4.27</td>\n      <td>ARTIEM Capri</td>\n    </tr>\n    <tr>\n      <th>32</th>\n      <td>Balkhash</td>\n      <td>KZ</td>\n      <td>75.47</td>\n      <td>few clouds</td>\n      <td>46.84</td>\n      <td>74.98</td>\n      <td>Family</td>\n    </tr>\n    <tr>\n      <th>36</th>\n      <td>Kloulklubed</td>\n      <td>PW</td>\n      <td>77.00</td>\n      <td>overcast clouds</td>\n      <td>7.04</td>\n      <td>134.26</td>\n      <td>Storyboard Beach Resort</td>\n    </tr>\n    <tr>\n      <th>45</th>\n      <td>Caravelas</td>\n      <td>BR</td>\n      <td>77.45</td>\n      <td>clear sky</td>\n      <td>-17.71</td>\n      <td>-39.25</td>\n      <td>Pousada dos Navegantes</td>\n    </tr>\n  </tbody>\n</table>\n</div>"
     },
     "metadata": {},
     "execution_count": 37
    }
   ],
   "source": [
    "hotel_df.head(10)"
   ]
  },
  {
   "cell_type": "code",
   "execution_count": 44,
   "metadata": {},
   "outputs": [],
   "source": [
    "info_box_template = \"\"\"\n",
    "<dl>\n",
    "<dt>Hotel Name</dt><dd>{Hotel Name}</dd>\n",
    "<dt>City</dt><dd>{City}</dd>\n",
    "<dt>Country</dt><dd>{Country}</dd>\n",
    "<dt>Current Weather</dt><dd>{Current Description} and {Max Temp} °F</dd>\n",
    "</dl>\n",
    "\"\"\"\n",
    "\n",
    "# Store the DataFrame Row.\n",
    "hotel_info = [info_box_template.format(**row) for index, row in hotel_df.iterrows()]"
   ]
  },
  {
   "cell_type": "code",
   "execution_count": 55,
   "metadata": {},
   "outputs": [
    {
     "output_type": "display_data",
     "data": {
      "text/plain": "Figure(layout=FigureLayout(height='420px'))",
      "application/vnd.jupyter.widget-view+json": {
       "version_major": 2,
       "version_minor": 0,
       "model_id": "9ebdb5ba35724b088b5f94ae20df6a81"
      }
     },
     "metadata": {}
    }
   ],
   "source": [
    "# Map the Vacation spots with a pop-up marker for each city.\n",
    "locations = hotel_df[[\"Lat\", \"Lng\"]]\n",
    "max_temp = hotel_df[\"Max Temp\"]\n",
    "fig = gmaps.figure(center=(30.0, 31.0), zoom_level=1.5)\n",
    "marker_layer = gmaps.marker_layer(locations, info_box_content=hotel_info)\n",
    "fig.add_layer(marker_layer)\n",
    "# Call the figure to plot the data.\n",
    "fig"
   ]
  },
  {
   "cell_type": "code",
   "execution_count": 48,
   "metadata": {},
   "outputs": [],
   "source": [
    "# Create the output file (CSV).\n",
    "output_data_file = os.path.join(\"data\",\"WeatherPy_vacation.csv\")\n",
    "# Export the City_Data into a CSV.\n",
    "preferred_cities_df.to_csv(output_data_file, index_label=\"City_ID\")"
   ]
  },
  {
   "cell_type": "code",
   "execution_count": null,
   "metadata": {},
   "outputs": [],
   "source": []
  }
 ],
 "metadata": {
  "language_info": {
   "codemirror_mode": {
    "name": "ipython",
    "version": 3
   },
   "file_extension": ".py",
   "mimetype": "text/x-python",
   "name": "python",
   "nbconvert_exporter": "python",
   "pygments_lexer": "ipython3",
   "version": "3.7.7-final"
  },
  "orig_nbformat": 2,
  "kernelspec": {
   "name": "python_defaultSpec_1594320137035",
   "display_name": "Python 3.7.7 64-bit ('PythonData': conda)"
  }
 },
 "nbformat": 4,
 "nbformat_minor": 2
}